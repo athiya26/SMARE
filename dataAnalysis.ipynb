{
 "cells": [
  {
   "cell_type": "code",
   "execution_count": 121,
   "metadata": {},
   "outputs": [
    {
     "data": {
      "application/javascript": "IPython.OutputArea.prototype._should_scroll = function(lines) {\n    return false;\n}\n",
      "text/plain": [
       "<IPython.core.display.Javascript object>"
      ]
     },
     "metadata": {},
     "output_type": "display_data"
    }
   ],
   "source": [
    "%%javascript\n",
    "IPython.OutputArea.prototype._should_scroll = function(lines) {\n",
    "    return false;\n",
    "}"
   ]
  },
  {
   "cell_type": "code",
   "execution_count": 123,
   "metadata": {},
   "outputs": [],
   "source": [
    "# import necessary libraries\n",
    "import pandas as pd\n",
    "import numpy as np\n",
    "import math\n",
    "import seaborn as sns\n",
    "import datetime\n",
    "import matplotlib.pylab as plt\n",
    "import plotly.graph_objects as go\n",
    "from pathlib import Path\n",
    "from matplotlib import pyplot\n",
    "from sklearn.linear_model import LinearRegression\n",
    "from sklearn.model_selection import train_test_split\n",
    "from sklearn.ensemble import RandomForestRegressor\n",
    "from matplotlib.ticker import NullFormatter\n",
    "import matplotlib.ticker as ticker\n",
    "from sklearn.gaussian_process import GaussianProcessRegressor\n",
    "from sklearn.gaussian_process.kernels import WhiteKernel, DotProduct, RBF\n",
    "from sklearn.metrics import mean_squared_error\n",
    "from sklearn.neighbors import KNeighborsRegressor\n",
    "%matplotlib inline"
   ]
  },
  {
   "cell_type": "code",
   "execution_count": 124,
   "metadata": {},
   "outputs": [
    {
     "name": "stdout",
     "output_type": "stream",
     "text": [
      "['auth', 'scrape', 'admin', 'local']\n"
     ]
    }
   ],
   "source": [
    "from pymongo import MongoClient\n",
    "import pymongo\n",
    "# MongoDB Atlas connection string\n",
    "# Replace '<your_connection_string>' with your actual connection string\n",
    "connection_string = '<your_connection_string>'\n",
    "try:\n",
    "    # Connect to MongoDB Atlas\n",
    "    client = MongoClient(connection_string)\n",
    "# return a friendly error if a URI error is thrown \n",
    "except pymongo.errors.ConfigurationError:\n",
    "    print(\"An Invalid URI host error was received. Is your Atlas host name correct in your connection string (found the .env)?\")\n",
    "\n",
    "#print(client.list_database_names())\n",
    "\n"
   ]
  },
  {
   "cell_type": "code",
   "execution_count": 125,
   "metadata": {},
   "outputs": [
    {
     "name": "stdout",
     "output_type": "stream",
     "text": [
      "['scraped_raw', 'scrape_raw', 'scraped_processed']\n"
     ]
    }
   ],
   "source": [
    "database_name = 'scrape'\n",
    "db = client[database_name]\n",
    "#print(db.list_collection_names())\n"
   ]
  },
  {
   "cell_type": "code",
   "execution_count": 126,
   "metadata": {},
   "outputs": [
    {
     "name": "stdout",
     "output_type": "stream",
     "text": [
      "Data has been successfully exported to output_data.csv\n"
     ]
    }
   ],
   "source": [
    "collection_name = 'scraped_raw'\n",
    "collection = db[collection_name]\n",
    "\n",
    "# Fetch data from MongoDB and convert it to a DataFrame\n",
    "cursor = collection.find()\n",
    "data = list(cursor)\n",
    "cars = pd.DataFrame(data)\n",
    "\n",
    "# Convert DataFrame to CSV\n",
    "csv_filename = 'output_data.csv'\n",
    "cars.to_csv(csv_filename, index=False)\n",
    "\n",
    "# Close the MongoDB connection\n",
    "client.close()\n",
    "\n",
    "print(f'Data has been successfully exported to {csv_filename}')\n",
    "\n"
   ]
  },
  {
   "cell_type": "code",
   "execution_count": null,
   "metadata": {},
   "outputs": [],
   "source": [
    "# Specify the database and collection\n",
    "# Replace '<your_database>' and '<your_collection>' with your actual database and collection names\n",
    "database_name = 'scrape'\n",
    "collection_name = 'scraped_processsed'\n",
    "db = client[database_name]\n",
    "collection = db[collection_name]\n",
    "\n",
    "# Fetch data from MongoDB and convert it to a DataFrame\n",
    "cursor = collection.find()\n",
    "data = list(cursor)\n",
    "cars = pd.DataFrame(data)\n",
    "\n",
    "# Convert DataFrame to CSV\n",
    "csv_filename = 'output_data.csv'\n",
    "cars.to_csv(csv_filename, index=False)\n",
    "\n",
    "# Close the MongoDB connection\n",
    "client.close()\n",
    "\n",
    "print(f'Data has been successfully exported to {csv_filename}')\n"
   ]
  },
  {
   "cell_type": "code",
   "execution_count": 127,
   "metadata": {},
   "outputs": [],
   "source": [
    "cars = pd.read_csv('output_data.csv')"
   ]
  },
  {
   "cell_type": "code",
   "execution_count": 6,
   "metadata": {},
   "outputs": [],
   "source": [
    "#cars = pd.read_csv('data.csv')"
   ]
  },
  {
   "cell_type": "code",
   "execution_count": 128,
   "metadata": {
    "scrolled": true
   },
   "outputs": [
    {
     "data": {
      "text/html": [
       "<div>\n",
       "<style scoped>\n",
       "    .dataframe tbody tr th:only-of-type {\n",
       "        vertical-align: middle;\n",
       "    }\n",
       "\n",
       "    .dataframe tbody tr th {\n",
       "        vertical-align: top;\n",
       "    }\n",
       "\n",
       "    .dataframe thead th {\n",
       "        text-align: right;\n",
       "    }\n",
       "</style>\n",
       "<table border=\"1\" class=\"dataframe\">\n",
       "  <thead>\n",
       "    <tr style=\"text-align: right;\">\n",
       "      <th></th>\n",
       "      <th>_id</th>\n",
       "      <th>source</th>\n",
       "      <th>scraper-version</th>\n",
       "      <th>scrape-date</th>\n",
       "      <th>title</th>\n",
       "      <th>price</th>\n",
       "      <th>location</th>\n",
       "      <th>odometer</th>\n",
       "      <th>link</th>\n",
       "      <th>images</th>\n",
       "    </tr>\n",
       "  </thead>\n",
       "  <tbody>\n",
       "    <tr>\n",
       "      <th>0</th>\n",
       "      <td>https://abilene.craigslist.org/cto/d/clyde-201...</td>\n",
       "      <td>craigslist</td>\n",
       "      <td>1</td>\n",
       "      <td>2023-11-13</td>\n",
       "      <td>2015 GMC Terrian SLT Leather Seats SUV</td>\n",
       "      <td>$8,495</td>\n",
       "      <td>Clyde</td>\n",
       "      <td>165k mi</td>\n",
       "      <td>https://abilene.craigslist.org/cto/d/clyde-201...</td>\n",
       "      <td>['https://images.craigslist.org/00q0q_fqrDYmbI...</td>\n",
       "    </tr>\n",
       "    <tr>\n",
       "      <th>1</th>\n",
       "      <td>https://abilene.craigslist.org/cto/d/abilene-2...</td>\n",
       "      <td>craigslist</td>\n",
       "      <td>1</td>\n",
       "      <td>2023-11-13</td>\n",
       "      <td>2012 Ford Edge SUV</td>\n",
       "      <td>$5,900</td>\n",
       "      <td>Abilene</td>\n",
       "      <td>127k mi</td>\n",
       "      <td>https://abilene.craigslist.org/cto/d/abilene-2...</td>\n",
       "      <td>['https://images.craigslist.org/00u0u_djFxYThj...</td>\n",
       "    </tr>\n",
       "    <tr>\n",
       "      <th>2</th>\n",
       "      <td>https://abilene.craigslist.org/ctd/d/georgetow...</td>\n",
       "      <td>craigslist</td>\n",
       "      <td>1</td>\n",
       "      <td>2023-11-13</td>\n",
       "      <td>2014 FORD F-350 KING RANCH 4X4 DIESEL NAV ROOF...</td>\n",
       "      <td>$29,999</td>\n",
       "      <td>WWW.GETADIESEL.COM</td>\n",
       "      <td>227k mi</td>\n",
       "      <td>https://abilene.craigslist.org/ctd/d/georgetow...</td>\n",
       "      <td>['https://images.craigslist.org/00z0z_fBJpyxit...</td>\n",
       "    </tr>\n",
       "    <tr>\n",
       "      <th>3</th>\n",
       "      <td>https://abilene.craigslist.org/ctd/d/georgetow...</td>\n",
       "      <td>craigslist</td>\n",
       "      <td>1</td>\n",
       "      <td>2023-11-13</td>\n",
       "      <td>1-OWNER 2019 CHEVY 3500HD LTZ 4X4 DURAMAX SKIR...</td>\n",
       "      <td>$42,900</td>\n",
       "      <td>WWW.GETADIESEL.COM</td>\n",
       "      <td>143k mi</td>\n",
       "      <td>https://abilene.craigslist.org/ctd/d/georgetow...</td>\n",
       "      <td>['https://images.craigslist.org/00J0J_cBZBKQMO...</td>\n",
       "    </tr>\n",
       "    <tr>\n",
       "      <th>4</th>\n",
       "      <td>https://abilene.craigslist.org/ctd/d/georgetow...</td>\n",
       "      <td>craigslist</td>\n",
       "      <td>1</td>\n",
       "      <td>2023-11-13</td>\n",
       "      <td>2017 FORD F-250 KING RANCH FX4 DIESEL NAV BDS ...</td>\n",
       "      <td>$42,897</td>\n",
       "      <td>WWW.GETADIESEL.COM</td>\n",
       "      <td>180k mi</td>\n",
       "      <td>https://abilene.craigslist.org/ctd/d/georgetow...</td>\n",
       "      <td>['https://images.craigslist.org/00v0v_3LJpHDnn...</td>\n",
       "    </tr>\n",
       "  </tbody>\n",
       "</table>\n",
       "</div>"
      ],
      "text/plain": [
       "                                                 _id      source  \\\n",
       "0  https://abilene.craigslist.org/cto/d/clyde-201...  craigslist   \n",
       "1  https://abilene.craigslist.org/cto/d/abilene-2...  craigslist   \n",
       "2  https://abilene.craigslist.org/ctd/d/georgetow...  craigslist   \n",
       "3  https://abilene.craigslist.org/ctd/d/georgetow...  craigslist   \n",
       "4  https://abilene.craigslist.org/ctd/d/georgetow...  craigslist   \n",
       "\n",
       "   scraper-version scrape-date  \\\n",
       "0                1  2023-11-13   \n",
       "1                1  2023-11-13   \n",
       "2                1  2023-11-13   \n",
       "3                1  2023-11-13   \n",
       "4                1  2023-11-13   \n",
       "\n",
       "                                               title    price  \\\n",
       "0             2015 GMC Terrian SLT Leather Seats SUV   $8,495   \n",
       "1                                 2012 Ford Edge SUV   $5,900   \n",
       "2  2014 FORD F-350 KING RANCH 4X4 DIESEL NAV ROOF...  $29,999   \n",
       "3  1-OWNER 2019 CHEVY 3500HD LTZ 4X4 DURAMAX SKIR...  $42,900   \n",
       "4  2017 FORD F-250 KING RANCH FX4 DIESEL NAV BDS ...  $42,897   \n",
       "\n",
       "             location odometer  \\\n",
       "0               Clyde  165k mi   \n",
       "1             Abilene  127k mi   \n",
       "2  WWW.GETADIESEL.COM  227k mi   \n",
       "3  WWW.GETADIESEL.COM  143k mi   \n",
       "4  WWW.GETADIESEL.COM  180k mi   \n",
       "\n",
       "                                                link  \\\n",
       "0  https://abilene.craigslist.org/cto/d/clyde-201...   \n",
       "1  https://abilene.craigslist.org/cto/d/abilene-2...   \n",
       "2  https://abilene.craigslist.org/ctd/d/georgetow...   \n",
       "3  https://abilene.craigslist.org/ctd/d/georgetow...   \n",
       "4  https://abilene.craigslist.org/ctd/d/georgetow...   \n",
       "\n",
       "                                              images  \n",
       "0  ['https://images.craigslist.org/00q0q_fqrDYmbI...  \n",
       "1  ['https://images.craigslist.org/00u0u_djFxYThj...  \n",
       "2  ['https://images.craigslist.org/00z0z_fBJpyxit...  \n",
       "3  ['https://images.craigslist.org/00J0J_cBZBKQMO...  \n",
       "4  ['https://images.craigslist.org/00v0v_3LJpHDnn...  "
      ]
     },
     "execution_count": 128,
     "metadata": {},
     "output_type": "execute_result"
    }
   ],
   "source": [
    "cars.head()"
   ]
  },
  {
   "cell_type": "code",
   "execution_count": 129,
   "metadata": {
    "scrolled": true
   },
   "outputs": [
    {
     "data": {
      "text/plain": [
       "176"
      ]
     },
     "execution_count": 129,
     "metadata": {},
     "output_type": "execute_result"
    }
   ],
   "source": [
    "cars.shape[0]"
   ]
  },
  {
   "cell_type": "markdown",
   "metadata": {},
   "source": [
    "## Data Cleaning"
   ]
  },
  {
   "cell_type": "code",
   "execution_count": 130,
   "metadata": {},
   "outputs": [],
   "source": [
    "# drop unnecessary variables: id, url, region_url, VIN, image_url, description, lat, and long\n",
    "cars = cars.drop(columns = ['_id', 'link'])"
   ]
  },
  {
   "cell_type": "code",
   "execution_count": 131,
   "metadata": {
    "scrolled": false
   },
   "outputs": [
    {
     "data": {
      "text/html": [
       "<div>\n",
       "<style scoped>\n",
       "    .dataframe tbody tr th:only-of-type {\n",
       "        vertical-align: middle;\n",
       "    }\n",
       "\n",
       "    .dataframe tbody tr th {\n",
       "        vertical-align: top;\n",
       "    }\n",
       "\n",
       "    .dataframe thead th {\n",
       "        text-align: right;\n",
       "    }\n",
       "</style>\n",
       "<table border=\"1\" class=\"dataframe\">\n",
       "  <thead>\n",
       "    <tr style=\"text-align: right;\">\n",
       "      <th></th>\n",
       "      <th>source</th>\n",
       "      <th>scraper-version</th>\n",
       "      <th>scrape-date</th>\n",
       "      <th>title</th>\n",
       "      <th>price</th>\n",
       "      <th>location</th>\n",
       "      <th>odometer</th>\n",
       "      <th>images</th>\n",
       "    </tr>\n",
       "  </thead>\n",
       "  <tbody>\n",
       "    <tr>\n",
       "      <th>0</th>\n",
       "      <td>craigslist</td>\n",
       "      <td>1</td>\n",
       "      <td>2023-11-13</td>\n",
       "      <td>2015 GMC Terrian SLT Leather Seats SUV</td>\n",
       "      <td>$8,495</td>\n",
       "      <td>Clyde</td>\n",
       "      <td>165k mi</td>\n",
       "      <td>['https://images.craigslist.org/00q0q_fqrDYmbI...</td>\n",
       "    </tr>\n",
       "    <tr>\n",
       "      <th>1</th>\n",
       "      <td>craigslist</td>\n",
       "      <td>1</td>\n",
       "      <td>2023-11-13</td>\n",
       "      <td>2012 Ford Edge SUV</td>\n",
       "      <td>$5,900</td>\n",
       "      <td>Abilene</td>\n",
       "      <td>127k mi</td>\n",
       "      <td>['https://images.craigslist.org/00u0u_djFxYThj...</td>\n",
       "    </tr>\n",
       "    <tr>\n",
       "      <th>2</th>\n",
       "      <td>craigslist</td>\n",
       "      <td>1</td>\n",
       "      <td>2023-11-13</td>\n",
       "      <td>2014 FORD F-350 KING RANCH 4X4 DIESEL NAV ROOF...</td>\n",
       "      <td>$29,999</td>\n",
       "      <td>WWW.GETADIESEL.COM</td>\n",
       "      <td>227k mi</td>\n",
       "      <td>['https://images.craigslist.org/00z0z_fBJpyxit...</td>\n",
       "    </tr>\n",
       "    <tr>\n",
       "      <th>3</th>\n",
       "      <td>craigslist</td>\n",
       "      <td>1</td>\n",
       "      <td>2023-11-13</td>\n",
       "      <td>1-OWNER 2019 CHEVY 3500HD LTZ 4X4 DURAMAX SKIR...</td>\n",
       "      <td>$42,900</td>\n",
       "      <td>WWW.GETADIESEL.COM</td>\n",
       "      <td>143k mi</td>\n",
       "      <td>['https://images.craigslist.org/00J0J_cBZBKQMO...</td>\n",
       "    </tr>\n",
       "    <tr>\n",
       "      <th>4</th>\n",
       "      <td>craigslist</td>\n",
       "      <td>1</td>\n",
       "      <td>2023-11-13</td>\n",
       "      <td>2017 FORD F-250 KING RANCH FX4 DIESEL NAV BDS ...</td>\n",
       "      <td>$42,897</td>\n",
       "      <td>WWW.GETADIESEL.COM</td>\n",
       "      <td>180k mi</td>\n",
       "      <td>['https://images.craigslist.org/00v0v_3LJpHDnn...</td>\n",
       "    </tr>\n",
       "  </tbody>\n",
       "</table>\n",
       "</div>"
      ],
      "text/plain": [
       "       source  scraper-version scrape-date  \\\n",
       "0  craigslist                1  2023-11-13   \n",
       "1  craigslist                1  2023-11-13   \n",
       "2  craigslist                1  2023-11-13   \n",
       "3  craigslist                1  2023-11-13   \n",
       "4  craigslist                1  2023-11-13   \n",
       "\n",
       "                                               title    price  \\\n",
       "0             2015 GMC Terrian SLT Leather Seats SUV   $8,495   \n",
       "1                                 2012 Ford Edge SUV   $5,900   \n",
       "2  2014 FORD F-350 KING RANCH 4X4 DIESEL NAV ROOF...  $29,999   \n",
       "3  1-OWNER 2019 CHEVY 3500HD LTZ 4X4 DURAMAX SKIR...  $42,900   \n",
       "4  2017 FORD F-250 KING RANCH FX4 DIESEL NAV BDS ...  $42,897   \n",
       "\n",
       "             location odometer  \\\n",
       "0               Clyde  165k mi   \n",
       "1             Abilene  127k mi   \n",
       "2  WWW.GETADIESEL.COM  227k mi   \n",
       "3  WWW.GETADIESEL.COM  143k mi   \n",
       "4  WWW.GETADIESEL.COM  180k mi   \n",
       "\n",
       "                                              images  \n",
       "0  ['https://images.craigslist.org/00q0q_fqrDYmbI...  \n",
       "1  ['https://images.craigslist.org/00u0u_djFxYThj...  \n",
       "2  ['https://images.craigslist.org/00z0z_fBJpyxit...  \n",
       "3  ['https://images.craigslist.org/00J0J_cBZBKQMO...  \n",
       "4  ['https://images.craigslist.org/00v0v_3LJpHDnn...  "
      ]
     },
     "execution_count": 131,
     "metadata": {},
     "output_type": "execute_result"
    }
   ],
   "source": [
    "cars.head()"
   ]
  },
  {
   "cell_type": "code",
   "execution_count": 132,
   "metadata": {
    "scrolled": true
   },
   "outputs": [
    {
     "data": {
      "text/plain": [
       "source             0\n",
       "scraper-version    0\n",
       "scrape-date        0\n",
       "title              0\n",
       "price              0\n",
       "location           0\n",
       "odometer           0\n",
       "images             0\n",
       "dtype: int64"
      ]
     },
     "execution_count": 132,
     "metadata": {},
     "output_type": "execute_result"
    }
   ],
   "source": [
    "# look at the number of NA values by column\n",
    "cars.isna().sum()"
   ]
  },
  {
   "cell_type": "code",
   "execution_count": 69,
   "metadata": {},
   "outputs": [],
   "source": [
    "#cars = cars.drop(columns = ['images/23','images/22','images/21','images/20','images/19','images/18','images/17','images/16','images/15','images/14','images/13','images/12','images/11','images/10','images/9','images/8', 'images/7','images/6','images/5','images/4','images/3','images/2','images/1'])"
   ]
  },
  {
   "cell_type": "code",
   "execution_count": 133,
   "metadata": {
    "scrolled": true
   },
   "outputs": [
    {
     "data": {
      "text/html": [
       "<div>\n",
       "<style scoped>\n",
       "    .dataframe tbody tr th:only-of-type {\n",
       "        vertical-align: middle;\n",
       "    }\n",
       "\n",
       "    .dataframe tbody tr th {\n",
       "        vertical-align: top;\n",
       "    }\n",
       "\n",
       "    .dataframe thead th {\n",
       "        text-align: right;\n",
       "    }\n",
       "</style>\n",
       "<table border=\"1\" class=\"dataframe\">\n",
       "  <thead>\n",
       "    <tr style=\"text-align: right;\">\n",
       "      <th></th>\n",
       "      <th>source</th>\n",
       "      <th>scraper-version</th>\n",
       "      <th>scrape-date</th>\n",
       "      <th>title</th>\n",
       "      <th>price</th>\n",
       "      <th>location</th>\n",
       "      <th>odometer</th>\n",
       "      <th>images</th>\n",
       "    </tr>\n",
       "  </thead>\n",
       "  <tbody>\n",
       "    <tr>\n",
       "      <th>0</th>\n",
       "      <td>craigslist</td>\n",
       "      <td>1</td>\n",
       "      <td>2023-11-13</td>\n",
       "      <td>2015 GMC Terrian SLT Leather Seats SUV</td>\n",
       "      <td>$8,495</td>\n",
       "      <td>Clyde</td>\n",
       "      <td>165k mi</td>\n",
       "      <td>['https://images.craigslist.org/00q0q_fqrDYmbI...</td>\n",
       "    </tr>\n",
       "    <tr>\n",
       "      <th>1</th>\n",
       "      <td>craigslist</td>\n",
       "      <td>1</td>\n",
       "      <td>2023-11-13</td>\n",
       "      <td>2012 Ford Edge SUV</td>\n",
       "      <td>$5,900</td>\n",
       "      <td>Abilene</td>\n",
       "      <td>127k mi</td>\n",
       "      <td>['https://images.craigslist.org/00u0u_djFxYThj...</td>\n",
       "    </tr>\n",
       "    <tr>\n",
       "      <th>2</th>\n",
       "      <td>craigslist</td>\n",
       "      <td>1</td>\n",
       "      <td>2023-11-13</td>\n",
       "      <td>2014 FORD F-350 KING RANCH 4X4 DIESEL NAV ROOF...</td>\n",
       "      <td>$29,999</td>\n",
       "      <td>WWW.GETADIESEL.COM</td>\n",
       "      <td>227k mi</td>\n",
       "      <td>['https://images.craigslist.org/00z0z_fBJpyxit...</td>\n",
       "    </tr>\n",
       "    <tr>\n",
       "      <th>3</th>\n",
       "      <td>craigslist</td>\n",
       "      <td>1</td>\n",
       "      <td>2023-11-13</td>\n",
       "      <td>1-OWNER 2019 CHEVY 3500HD LTZ 4X4 DURAMAX SKIR...</td>\n",
       "      <td>$42,900</td>\n",
       "      <td>WWW.GETADIESEL.COM</td>\n",
       "      <td>143k mi</td>\n",
       "      <td>['https://images.craigslist.org/00J0J_cBZBKQMO...</td>\n",
       "    </tr>\n",
       "    <tr>\n",
       "      <th>4</th>\n",
       "      <td>craigslist</td>\n",
       "      <td>1</td>\n",
       "      <td>2023-11-13</td>\n",
       "      <td>2017 FORD F-250 KING RANCH FX4 DIESEL NAV BDS ...</td>\n",
       "      <td>$42,897</td>\n",
       "      <td>WWW.GETADIESEL.COM</td>\n",
       "      <td>180k mi</td>\n",
       "      <td>['https://images.craigslist.org/00v0v_3LJpHDnn...</td>\n",
       "    </tr>\n",
       "  </tbody>\n",
       "</table>\n",
       "</div>"
      ],
      "text/plain": [
       "       source  scraper-version scrape-date  \\\n",
       "0  craigslist                1  2023-11-13   \n",
       "1  craigslist                1  2023-11-13   \n",
       "2  craigslist                1  2023-11-13   \n",
       "3  craigslist                1  2023-11-13   \n",
       "4  craigslist                1  2023-11-13   \n",
       "\n",
       "                                               title    price  \\\n",
       "0             2015 GMC Terrian SLT Leather Seats SUV   $8,495   \n",
       "1                                 2012 Ford Edge SUV   $5,900   \n",
       "2  2014 FORD F-350 KING RANCH 4X4 DIESEL NAV ROOF...  $29,999   \n",
       "3  1-OWNER 2019 CHEVY 3500HD LTZ 4X4 DURAMAX SKIR...  $42,900   \n",
       "4  2017 FORD F-250 KING RANCH FX4 DIESEL NAV BDS ...  $42,897   \n",
       "\n",
       "             location odometer  \\\n",
       "0               Clyde  165k mi   \n",
       "1             Abilene  127k mi   \n",
       "2  WWW.GETADIESEL.COM  227k mi   \n",
       "3  WWW.GETADIESEL.COM  143k mi   \n",
       "4  WWW.GETADIESEL.COM  180k mi   \n",
       "\n",
       "                                              images  \n",
       "0  ['https://images.craigslist.org/00q0q_fqrDYmbI...  \n",
       "1  ['https://images.craigslist.org/00u0u_djFxYThj...  \n",
       "2  ['https://images.craigslist.org/00z0z_fBJpyxit...  \n",
       "3  ['https://images.craigslist.org/00J0J_cBZBKQMO...  \n",
       "4  ['https://images.craigslist.org/00v0v_3LJpHDnn...  "
      ]
     },
     "execution_count": 133,
     "metadata": {},
     "output_type": "execute_result"
    }
   ],
   "source": [
    "cars.head()"
   ]
  },
  {
   "cell_type": "code",
   "execution_count": 134,
   "metadata": {},
   "outputs": [
    {
     "data": {
      "text/plain": [
       "176"
      ]
     },
     "execution_count": 134,
     "metadata": {},
     "output_type": "execute_result"
    }
   ],
   "source": [
    "cars.shape[0]"
   ]
  },
  {
   "cell_type": "code",
   "execution_count": 135,
   "metadata": {},
   "outputs": [],
   "source": [
    "# drop NA values\n",
    "cars = cars.dropna()"
   ]
  },
  {
   "cell_type": "code",
   "execution_count": 136,
   "metadata": {},
   "outputs": [
    {
     "data": {
      "text/plain": [
       "176"
      ]
     },
     "execution_count": 136,
     "metadata": {},
     "output_type": "execute_result"
    }
   ],
   "source": [
    "cars.shape[0]"
   ]
  },
  {
   "cell_type": "code",
   "execution_count": 137,
   "metadata": {
    "scrolled": true
   },
   "outputs": [
    {
     "data": {
      "text/html": [
       "<div>\n",
       "<style scoped>\n",
       "    .dataframe tbody tr th:only-of-type {\n",
       "        vertical-align: middle;\n",
       "    }\n",
       "\n",
       "    .dataframe tbody tr th {\n",
       "        vertical-align: top;\n",
       "    }\n",
       "\n",
       "    .dataframe thead th {\n",
       "        text-align: right;\n",
       "    }\n",
       "</style>\n",
       "<table border=\"1\" class=\"dataframe\">\n",
       "  <thead>\n",
       "    <tr style=\"text-align: right;\">\n",
       "      <th></th>\n",
       "      <th>source</th>\n",
       "      <th>scraper-version</th>\n",
       "      <th>scrape-date</th>\n",
       "      <th>title</th>\n",
       "      <th>price</th>\n",
       "      <th>location</th>\n",
       "      <th>odometer</th>\n",
       "      <th>images</th>\n",
       "    </tr>\n",
       "  </thead>\n",
       "  <tbody>\n",
       "    <tr>\n",
       "      <th>0</th>\n",
       "      <td>craigslist</td>\n",
       "      <td>1</td>\n",
       "      <td>2023-11-13</td>\n",
       "      <td>2015 GMC Terrian SLT Leather Seats SUV</td>\n",
       "      <td>$8,495</td>\n",
       "      <td>Clyde</td>\n",
       "      <td>165k mi</td>\n",
       "      <td>['https://images.craigslist.org/00q0q_fqrDYmbI...</td>\n",
       "    </tr>\n",
       "    <tr>\n",
       "      <th>1</th>\n",
       "      <td>craigslist</td>\n",
       "      <td>1</td>\n",
       "      <td>2023-11-13</td>\n",
       "      <td>2012 Ford Edge SUV</td>\n",
       "      <td>$5,900</td>\n",
       "      <td>Abilene</td>\n",
       "      <td>127k mi</td>\n",
       "      <td>['https://images.craigslist.org/00u0u_djFxYThj...</td>\n",
       "    </tr>\n",
       "    <tr>\n",
       "      <th>2</th>\n",
       "      <td>craigslist</td>\n",
       "      <td>1</td>\n",
       "      <td>2023-11-13</td>\n",
       "      <td>2014 FORD F-350 KING RANCH 4X4 DIESEL NAV ROOF...</td>\n",
       "      <td>$29,999</td>\n",
       "      <td>WWW.GETADIESEL.COM</td>\n",
       "      <td>227k mi</td>\n",
       "      <td>['https://images.craigslist.org/00z0z_fBJpyxit...</td>\n",
       "    </tr>\n",
       "    <tr>\n",
       "      <th>3</th>\n",
       "      <td>craigslist</td>\n",
       "      <td>1</td>\n",
       "      <td>2023-11-13</td>\n",
       "      <td>1-OWNER 2019 CHEVY 3500HD LTZ 4X4 DURAMAX SKIR...</td>\n",
       "      <td>$42,900</td>\n",
       "      <td>WWW.GETADIESEL.COM</td>\n",
       "      <td>143k mi</td>\n",
       "      <td>['https://images.craigslist.org/00J0J_cBZBKQMO...</td>\n",
       "    </tr>\n",
       "    <tr>\n",
       "      <th>4</th>\n",
       "      <td>craigslist</td>\n",
       "      <td>1</td>\n",
       "      <td>2023-11-13</td>\n",
       "      <td>2017 FORD F-250 KING RANCH FX4 DIESEL NAV BDS ...</td>\n",
       "      <td>$42,897</td>\n",
       "      <td>WWW.GETADIESEL.COM</td>\n",
       "      <td>180k mi</td>\n",
       "      <td>['https://images.craigslist.org/00v0v_3LJpHDnn...</td>\n",
       "    </tr>\n",
       "  </tbody>\n",
       "</table>\n",
       "</div>"
      ],
      "text/plain": [
       "       source  scraper-version scrape-date  \\\n",
       "0  craigslist                1  2023-11-13   \n",
       "1  craigslist                1  2023-11-13   \n",
       "2  craigslist                1  2023-11-13   \n",
       "3  craigslist                1  2023-11-13   \n",
       "4  craigslist                1  2023-11-13   \n",
       "\n",
       "                                               title    price  \\\n",
       "0             2015 GMC Terrian SLT Leather Seats SUV   $8,495   \n",
       "1                                 2012 Ford Edge SUV   $5,900   \n",
       "2  2014 FORD F-350 KING RANCH 4X4 DIESEL NAV ROOF...  $29,999   \n",
       "3  1-OWNER 2019 CHEVY 3500HD LTZ 4X4 DURAMAX SKIR...  $42,900   \n",
       "4  2017 FORD F-250 KING RANCH FX4 DIESEL NAV BDS ...  $42,897   \n",
       "\n",
       "             location odometer  \\\n",
       "0               Clyde  165k mi   \n",
       "1             Abilene  127k mi   \n",
       "2  WWW.GETADIESEL.COM  227k mi   \n",
       "3  WWW.GETADIESEL.COM  143k mi   \n",
       "4  WWW.GETADIESEL.COM  180k mi   \n",
       "\n",
       "                                              images  \n",
       "0  ['https://images.craigslist.org/00q0q_fqrDYmbI...  \n",
       "1  ['https://images.craigslist.org/00u0u_djFxYThj...  \n",
       "2  ['https://images.craigslist.org/00z0z_fBJpyxit...  \n",
       "3  ['https://images.craigslist.org/00J0J_cBZBKQMO...  \n",
       "4  ['https://images.craigslist.org/00v0v_3LJpHDnn...  "
      ]
     },
     "execution_count": 137,
     "metadata": {},
     "output_type": "execute_result"
    }
   ],
   "source": [
    "cars.head()"
   ]
  },
  {
   "cell_type": "code",
   "execution_count": 138,
   "metadata": {
    "scrolled": true
   },
   "outputs": [],
   "source": [
    "# convert year and odometer to integer values\n",
    "#cars['odometer'] = cars['odometer'].str.replace('K', '').str.replace(' miles', '').astype(int) * 1000\n",
    "#cars['odometer'] = cars['odometer'].str.replace('K miles', '').str.replace(' miles · Dealership', '').astype(float).astype(int) * 1000\n",
    "import re\n",
    "cars['odometer'] = cars['odometer'].apply(lambda x: int(re.search(r'\\d+', str(x)).group(0)) if re.search(r'\\d+', str(x)) else None)\n",
    "cars['year'] = cars['title'].str.extract(r'(\\d{4})')\n",
    "# Fill NaN values in the 'year' column with a placeholder (you can choose a value that makes sense)\n",
    "cars['year'].fillna(-1, inplace=True)\n",
    "cars = cars.astype({'year':'int', 'odometer':'int'})"
   ]
  },
  {
   "cell_type": "code",
   "execution_count": 139,
   "metadata": {},
   "outputs": [],
   "source": [
    "# create an age variable to get a better understanding of how old a car is\n",
    "cars['age'] = datetime.date.today().year - cars['year']"
   ]
  },
  {
   "cell_type": "code",
   "execution_count": 140,
   "metadata": {
    "scrolled": true
   },
   "outputs": [
    {
     "data": {
      "text/html": [
       "<div>\n",
       "<style scoped>\n",
       "    .dataframe tbody tr th:only-of-type {\n",
       "        vertical-align: middle;\n",
       "    }\n",
       "\n",
       "    .dataframe tbody tr th {\n",
       "        vertical-align: top;\n",
       "    }\n",
       "\n",
       "    .dataframe thead th {\n",
       "        text-align: right;\n",
       "    }\n",
       "</style>\n",
       "<table border=\"1\" class=\"dataframe\">\n",
       "  <thead>\n",
       "    <tr style=\"text-align: right;\">\n",
       "      <th></th>\n",
       "      <th>source</th>\n",
       "      <th>scraper-version</th>\n",
       "      <th>scrape-date</th>\n",
       "      <th>title</th>\n",
       "      <th>price</th>\n",
       "      <th>location</th>\n",
       "      <th>odometer</th>\n",
       "      <th>images</th>\n",
       "      <th>year</th>\n",
       "      <th>age</th>\n",
       "    </tr>\n",
       "  </thead>\n",
       "  <tbody>\n",
       "    <tr>\n",
       "      <th>0</th>\n",
       "      <td>craigslist</td>\n",
       "      <td>1</td>\n",
       "      <td>2023-11-13</td>\n",
       "      <td>2015 GMC Terrian SLT Leather Seats SUV</td>\n",
       "      <td>$8,495</td>\n",
       "      <td>Clyde</td>\n",
       "      <td>165</td>\n",
       "      <td>['https://images.craigslist.org/00q0q_fqrDYmbI...</td>\n",
       "      <td>2015</td>\n",
       "      <td>8</td>\n",
       "    </tr>\n",
       "    <tr>\n",
       "      <th>1</th>\n",
       "      <td>craigslist</td>\n",
       "      <td>1</td>\n",
       "      <td>2023-11-13</td>\n",
       "      <td>2012 Ford Edge SUV</td>\n",
       "      <td>$5,900</td>\n",
       "      <td>Abilene</td>\n",
       "      <td>127</td>\n",
       "      <td>['https://images.craigslist.org/00u0u_djFxYThj...</td>\n",
       "      <td>2012</td>\n",
       "      <td>11</td>\n",
       "    </tr>\n",
       "    <tr>\n",
       "      <th>2</th>\n",
       "      <td>craigslist</td>\n",
       "      <td>1</td>\n",
       "      <td>2023-11-13</td>\n",
       "      <td>2014 FORD F-350 KING RANCH 4X4 DIESEL NAV ROOF...</td>\n",
       "      <td>$29,999</td>\n",
       "      <td>WWW.GETADIESEL.COM</td>\n",
       "      <td>227</td>\n",
       "      <td>['https://images.craigslist.org/00z0z_fBJpyxit...</td>\n",
       "      <td>2014</td>\n",
       "      <td>9</td>\n",
       "    </tr>\n",
       "    <tr>\n",
       "      <th>3</th>\n",
       "      <td>craigslist</td>\n",
       "      <td>1</td>\n",
       "      <td>2023-11-13</td>\n",
       "      <td>1-OWNER 2019 CHEVY 3500HD LTZ 4X4 DURAMAX SKIR...</td>\n",
       "      <td>$42,900</td>\n",
       "      <td>WWW.GETADIESEL.COM</td>\n",
       "      <td>143</td>\n",
       "      <td>['https://images.craigslist.org/00J0J_cBZBKQMO...</td>\n",
       "      <td>2019</td>\n",
       "      <td>4</td>\n",
       "    </tr>\n",
       "    <tr>\n",
       "      <th>4</th>\n",
       "      <td>craigslist</td>\n",
       "      <td>1</td>\n",
       "      <td>2023-11-13</td>\n",
       "      <td>2017 FORD F-250 KING RANCH FX4 DIESEL NAV BDS ...</td>\n",
       "      <td>$42,897</td>\n",
       "      <td>WWW.GETADIESEL.COM</td>\n",
       "      <td>180</td>\n",
       "      <td>['https://images.craigslist.org/00v0v_3LJpHDnn...</td>\n",
       "      <td>2017</td>\n",
       "      <td>6</td>\n",
       "    </tr>\n",
       "  </tbody>\n",
       "</table>\n",
       "</div>"
      ],
      "text/plain": [
       "       source  scraper-version scrape-date  \\\n",
       "0  craigslist                1  2023-11-13   \n",
       "1  craigslist                1  2023-11-13   \n",
       "2  craigslist                1  2023-11-13   \n",
       "3  craigslist                1  2023-11-13   \n",
       "4  craigslist                1  2023-11-13   \n",
       "\n",
       "                                               title    price  \\\n",
       "0             2015 GMC Terrian SLT Leather Seats SUV   $8,495   \n",
       "1                                 2012 Ford Edge SUV   $5,900   \n",
       "2  2014 FORD F-350 KING RANCH 4X4 DIESEL NAV ROOF...  $29,999   \n",
       "3  1-OWNER 2019 CHEVY 3500HD LTZ 4X4 DURAMAX SKIR...  $42,900   \n",
       "4  2017 FORD F-250 KING RANCH FX4 DIESEL NAV BDS ...  $42,897   \n",
       "\n",
       "             location  odometer  \\\n",
       "0               Clyde       165   \n",
       "1             Abilene       127   \n",
       "2  WWW.GETADIESEL.COM       227   \n",
       "3  WWW.GETADIESEL.COM       143   \n",
       "4  WWW.GETADIESEL.COM       180   \n",
       "\n",
       "                                              images  year  age  \n",
       "0  ['https://images.craigslist.org/00q0q_fqrDYmbI...  2015    8  \n",
       "1  ['https://images.craigslist.org/00u0u_djFxYThj...  2012   11  \n",
       "2  ['https://images.craigslist.org/00z0z_fBJpyxit...  2014    9  \n",
       "3  ['https://images.craigslist.org/00J0J_cBZBKQMO...  2019    4  \n",
       "4  ['https://images.craigslist.org/00v0v_3LJpHDnn...  2017    6  "
      ]
     },
     "execution_count": 140,
     "metadata": {},
     "output_type": "execute_result"
    }
   ],
   "source": [
    "cars.head()"
   ]
  },
  {
   "cell_type": "markdown",
   "metadata": {},
   "source": [
    "## Data Exploration"
   ]
  },
  {
   "cell_type": "code",
   "execution_count": 141,
   "metadata": {
    "scrolled": false
   },
   "outputs": [
    {
     "data": {
      "text/plain": [
       "[Text(0.5, 1.0, 'Distribution of Car Ages')]"
      ]
     },
     "execution_count": 141,
     "metadata": {},
     "output_type": "execute_result"
    },
    {
     "data": {
      "image/png": "[encoded data removed]",
      "text/plain": [
       "<Figure size 640x480 with 1 Axes>"
      ]
     },
     "metadata": {},
     "output_type": "display_data"
    }
   ],
   "source": [
    "sns.histplot(data = cars, x = 'age', binwidth = 5).set(title = 'Distribution of Car Ages')"
   ]
  },
  {
   "cell_type": "code",
   "execution_count": 142,
   "metadata": {
    "scrolled": true
   },
   "outputs": [
    {
     "data": {
      "text/html": [
       "<div>\n",
       "<style scoped>\n",
       "    .dataframe tbody tr th:only-of-type {\n",
       "        vertical-align: middle;\n",
       "    }\n",
       "\n",
       "    .dataframe tbody tr th {\n",
       "        vertical-align: top;\n",
       "    }\n",
       "\n",
       "    .dataframe thead th {\n",
       "        text-align: right;\n",
       "    }\n",
       "</style>\n",
       "<table border=\"1\" class=\"dataframe\">\n",
       "  <thead>\n",
       "    <tr style=\"text-align: right;\">\n",
       "      <th></th>\n",
       "      <th>source</th>\n",
       "      <th>scraper-version</th>\n",
       "      <th>scrape-date</th>\n",
       "      <th>title</th>\n",
       "      <th>price</th>\n",
       "      <th>location</th>\n",
       "      <th>odometer</th>\n",
       "      <th>images</th>\n",
       "      <th>year</th>\n",
       "      <th>age</th>\n",
       "    </tr>\n",
       "  </thead>\n",
       "  <tbody>\n",
       "    <tr>\n",
       "      <th>20</th>\n",
       "      <td>craigslist</td>\n",
       "      <td>1</td>\n",
       "      <td>2023-11-13</td>\n",
       "      <td>Hyundai n line night edition</td>\n",
       "      <td>$1</td>\n",
       "      <td>Abilene</td>\n",
       "      <td>43</td>\n",
       "      <td>['https://images.craigslist.org/00d0d_kxEDyPhc...</td>\n",
       "      <td>-1</td>\n",
       "      <td>2024</td>\n",
       "    </tr>\n",
       "    <tr>\n",
       "      <th>110</th>\n",
       "      <td>craigslist</td>\n",
       "      <td>1</td>\n",
       "      <td>2023-11-17</td>\n",
       "      <td>VW Beetle</td>\n",
       "      <td>$11,000</td>\n",
       "      <td>De Leon</td>\n",
       "      <td>123</td>\n",
       "      <td>['https://images.craigslist.org/00y0y_beMk0BoY...</td>\n",
       "      <td>-1</td>\n",
       "      <td>2024</td>\n",
       "    </tr>\n",
       "    <tr>\n",
       "      <th>171</th>\n",
       "      <td>craigslist</td>\n",
       "      <td>1</td>\n",
       "      <td>2023-11-17</td>\n",
       "      <td>Semi truck</td>\n",
       "      <td>$17,500</td>\n",
       "      <td>Amarillo</td>\n",
       "      <td>735</td>\n",
       "      <td>['https://images.craigslist.org/00y0y_lf5lgq6v...</td>\n",
       "      <td>-1</td>\n",
       "      <td>2024</td>\n",
       "    </tr>\n",
       "  </tbody>\n",
       "</table>\n",
       "</div>"
      ],
      "text/plain": [
       "         source  scraper-version scrape-date                         title  \\\n",
       "20   craigslist                1  2023-11-13  Hyundai n line night edition   \n",
       "110  craigslist                1  2023-11-17                     VW Beetle   \n",
       "171  craigslist                1  2023-11-17                    Semi truck   \n",
       "\n",
       "       price  location  odometer  \\\n",
       "20        $1   Abilene        43   \n",
       "110  $11,000   De Leon       123   \n",
       "171  $17,500  Amarillo       735   \n",
       "\n",
       "                                                images  year   age  \n",
       "20   ['https://images.craigslist.org/00d0d_kxEDyPhc...    -1  2024  \n",
       "110  ['https://images.craigslist.org/00y0y_beMk0BoY...    -1  2024  \n",
       "171  ['https://images.craigslist.org/00y0y_lf5lgq6v...    -1  2024  "
      ]
     },
     "execution_count": 142,
     "metadata": {},
     "output_type": "execute_result"
    }
   ],
   "source": [
    "cars[cars['year'] < 1990]"
   ]
  },
  {
   "cell_type": "code",
   "execution_count": 143,
   "metadata": {},
   "outputs": [],
   "source": [
    "cars = cars[cars.year >= 2005]"
   ]
  },
  {
   "cell_type": "code",
   "execution_count": 144,
   "metadata": {},
   "outputs": [
    {
     "data": {
      "text/plain": [
       "173"
      ]
     },
     "execution_count": 144,
     "metadata": {},
     "output_type": "execute_result"
    }
   ],
   "source": [
    "cars.shape[0]"
   ]
  },
  {
   "cell_type": "code",
   "execution_count": 145,
   "metadata": {},
   "outputs": [
    {
     "data": {
      "text/plain": [
       "[Text(0.5, 1.0, 'Distribution of Car Ages')]"
      ]
     },
     "execution_count": 145,
     "metadata": {},
     "output_type": "execute_result"
    },
    {
     "data": {
      "image/png": "[encoded data removed]",
      "text/plain": [
       "<Figure size 640x480 with 1 Axes>"
      ]
     },
     "metadata": {},
     "output_type": "display_data"
    }
   ],
   "source": [
    "# looking again at the distribution of ages\n",
    "sns.histplot(data = cars, x = 'age', binwidth = 1).set(title = 'Distribution of Car Ages')"
   ]
  },
  {
   "cell_type": "code",
   "execution_count": 146,
   "metadata": {},
   "outputs": [
    {
     "data": {
      "text/plain": [
       "173"
      ]
     },
     "execution_count": 146,
     "metadata": {},
     "output_type": "execute_result"
    }
   ],
   "source": [
    "cars.shape[0]"
   ]
  },
  {
   "cell_type": "code",
   "execution_count": 147,
   "metadata": {
    "scrolled": false
   },
   "outputs": [
    {
     "data": {
      "text/plain": [
       "[Text(0.5, 1.0, 'Distribution of Car Odometer')]"
      ]
     },
     "execution_count": 147,
     "metadata": {},
     "output_type": "execute_result"
    },
    {
     "data": {
      "image/png": "[encoded data removed]",
      "text/plain": [
       "<Figure size 640x480 with 1 Axes>"
      ]
     },
     "metadata": {},
     "output_type": "display_data"
    }
   ],
   "source": [
    "sns.histplot(data = cars, x = 'odometer').set(title = 'Distribution of Car Odometer')"
   ]
  },
  {
   "cell_type": "code",
   "execution_count": 148,
   "metadata": {
    "scrolled": true
   },
   "outputs": [
    {
     "data": {
      "text/html": [
       "<div>\n",
       "<style scoped>\n",
       "    .dataframe tbody tr th:only-of-type {\n",
       "        vertical-align: middle;\n",
       "    }\n",
       "\n",
       "    .dataframe tbody tr th {\n",
       "        vertical-align: top;\n",
       "    }\n",
       "\n",
       "    .dataframe thead th {\n",
       "        text-align: right;\n",
       "    }\n",
       "</style>\n",
       "<table border=\"1\" class=\"dataframe\">\n",
       "  <thead>\n",
       "    <tr style=\"text-align: right;\">\n",
       "      <th></th>\n",
       "      <th>source</th>\n",
       "      <th>scraper-version</th>\n",
       "      <th>scrape-date</th>\n",
       "      <th>title</th>\n",
       "      <th>price</th>\n",
       "      <th>location</th>\n",
       "      <th>odometer</th>\n",
       "      <th>images</th>\n",
       "      <th>year</th>\n",
       "      <th>age</th>\n",
       "    </tr>\n",
       "  </thead>\n",
       "  <tbody>\n",
       "    <tr>\n",
       "      <th>14</th>\n",
       "      <td>craigslist</td>\n",
       "      <td>1</td>\n",
       "      <td>2023-11-13</td>\n",
       "      <td>2015 *Peterbilt* *579* *w/sleeper*</td>\n",
       "      <td>$42,900</td>\n",
       "      <td>Peterbilt 579 w/sleeper</td>\n",
       "      <td>627</td>\n",
       "      <td>['https://images.craigslist.org/00u0u_iI62XuOK...</td>\n",
       "      <td>2015</td>\n",
       "      <td>8</td>\n",
       "    </tr>\n",
       "  </tbody>\n",
       "</table>\n",
       "</div>"
      ],
      "text/plain": [
       "        source  scraper-version scrape-date  \\\n",
       "14  craigslist                1  2023-11-13   \n",
       "\n",
       "                                 title    price                 location  \\\n",
       "14  2015 *Peterbilt* *579* *w/sleeper*  $42,900  Peterbilt 579 w/sleeper   \n",
       "\n",
       "    odometer                                             images  year  age  \n",
       "14       627  ['https://images.craigslist.org/00u0u_iI62XuOK...  2015    8  "
      ]
     },
     "execution_count": 148,
     "metadata": {},
     "output_type": "execute_result"
    }
   ],
   "source": [
    "cars[cars['odometer'] > 300]"
   ]
  },
  {
   "cell_type": "code",
   "execution_count": 149,
   "metadata": {},
   "outputs": [],
   "source": [
    "cars = cars[cars.odometer <= 300]\n",
    "# Clean up the 'price' column by replacing non-numeric values with NaN\n",
    "cars['price'] = pd.to_numeric(cars['price'].replace('[\\$,]', '', regex=True), errors='coerce')\n",
    "\n",
    "# Fill NaN values in the 'price' column with a placeholder (you can choose a value that makes sense)\n",
    "cars['price'].fillna(-1, inplace=True)\n",
    "\n",
    "# Convert 'price' column to integers\n",
    "cars['price'] = cars['price'].astype(int)\n"
   ]
  },
  {
   "cell_type": "code",
   "execution_count": 150,
   "metadata": {},
   "outputs": [
    {
     "data": {
      "text/plain": [
       "172"
      ]
     },
     "execution_count": 150,
     "metadata": {},
     "output_type": "execute_result"
    }
   ],
   "source": [
    "cars.shape[0]"
   ]
  },
  {
   "cell_type": "code",
   "execution_count": 151,
   "metadata": {
    "scrolled": true
   },
   "outputs": [
    {
     "data": {
      "text/plain": [
       "[Text(0.5, 1.0, 'Distribution of Car Odometer')]"
      ]
     },
     "execution_count": 151,
     "metadata": {},
     "output_type": "execute_result"
    },
    {
     "data": {
      "image/png": "[encoded data removed]",
      "text/plain": [
       "<Figure size 640x480 with 1 Axes>"
      ]
     },
     "metadata": {},
     "output_type": "display_data"
    }
   ],
   "source": [
    "sns.histplot(data = cars, x = 'odometer').set(title = 'Distribution of Car Odometer')"
   ]
  },
  {
   "cell_type": "code",
   "execution_count": 152,
   "metadata": {
    "scrolled": true
   },
   "outputs": [
    {
     "data": {
      "text/plain": [
       "[Text(0.5, 1.0, 'Correlation of Vehicle Odometer and List Price')]"
      ]
     },
     "execution_count": 152,
     "metadata": {},
     "output_type": "execute_result"
    },
    {
     "data": {
      "image/png": "[encoded data removed]",
      "text/plain": [
       "<Figure size 640x480 with 1 Axes>"
      ]
     },
     "metadata": {},
     "output_type": "display_data"
    }
   ],
   "source": [
    "sns.scatterplot(data = cars, x = 'odometer', y = 'price').set(title = 'Correlation of Vehicle Odometer and List Price')"
   ]
  },
  {
   "cell_type": "code",
   "execution_count": 153,
   "metadata": {
    "scrolled": true
   },
   "outputs": [
    {
     "data": {
      "text/html": [
       "<div>\n",
       "<style scoped>\n",
       "    .dataframe tbody tr th:only-of-type {\n",
       "        vertical-align: middle;\n",
       "    }\n",
       "\n",
       "    .dataframe tbody tr th {\n",
       "        vertical-align: top;\n",
       "    }\n",
       "\n",
       "    .dataframe thead th {\n",
       "        text-align: right;\n",
       "    }\n",
       "</style>\n",
       "<table border=\"1\" class=\"dataframe\">\n",
       "  <thead>\n",
       "    <tr style=\"text-align: right;\">\n",
       "      <th></th>\n",
       "      <th>source</th>\n",
       "      <th>scraper-version</th>\n",
       "      <th>scrape-date</th>\n",
       "      <th>title</th>\n",
       "      <th>price</th>\n",
       "      <th>location</th>\n",
       "      <th>odometer</th>\n",
       "      <th>images</th>\n",
       "      <th>year</th>\n",
       "      <th>age</th>\n",
       "    </tr>\n",
       "  </thead>\n",
       "  <tbody>\n",
       "  </tbody>\n",
       "</table>\n",
       "</div>"
      ],
      "text/plain": [
       "Empty DataFrame\n",
       "Columns: [source, scraper-version, scrape-date, title, price, location, odometer, images, year, age]\n",
       "Index: []"
      ]
     },
     "execution_count": 153,
     "metadata": {},
     "output_type": "execute_result"
    }
   ],
   "source": [
    "cars[cars['price'] > 100000]"
   ]
  },
  {
   "cell_type": "code",
   "execution_count": 155,
   "metadata": {},
   "outputs": [],
   "source": [
    "cars = cars[cars.price <= 100000]"
   ]
  },
  {
   "cell_type": "code",
   "execution_count": 156,
   "metadata": {},
   "outputs": [
    {
     "data": {
      "text/plain": [
       "172"
      ]
     },
     "execution_count": 156,
     "metadata": {},
     "output_type": "execute_result"
    }
   ],
   "source": [
    "cars.shape[0]"
   ]
  },
  {
   "cell_type": "code",
   "execution_count": 157,
   "metadata": {
    "scrolled": true
   },
   "outputs": [
    {
     "data": {
      "text/plain": [
       "[Text(0.5, 1.0, 'Correlation of Vehicle Odometer and List Price')]"
      ]
     },
     "execution_count": 157,
     "metadata": {},
     "output_type": "execute_result"
    },
    {
     "data": {
      "image/png": "[encoded data removed]",
      "text/plain": [
       "<Figure size 640x480 with 1 Axes>"
      ]
     },
     "metadata": {},
     "output_type": "display_data"
    }
   ],
   "source": [
    "# look at the odometer vs price now\n",
    "sns.scatterplot(data = cars, x = 'odometer', y = 'price').set(title = 'Correlation of Vehicle Odometer and List Price')"
   ]
  },
  {
   "cell_type": "code",
   "execution_count": 158,
   "metadata": {
    "scrolled": true
   },
   "outputs": [
    {
     "data": {
      "text/plain": [
       "[Text(0.5, 1.0, 'Distribution of List Price')]"
      ]
     },
     "execution_count": 158,
     "metadata": {},
     "output_type": "execute_result"
    },
    {
     "data": {
      "image/png": "[encoded data removed]",
      "text/plain": [
       "<Figure size 640x480 with 1 Axes>"
      ]
     },
     "metadata": {},
     "output_type": "display_data"
    }
   ],
   "source": [
    "sns.histplot(data = cars, x = 'price').set(title = 'Distribution of List Price')"
   ]
  },
  {
   "cell_type": "code",
   "execution_count": 159,
   "metadata": {
    "scrolled": true
   },
   "outputs": [
    {
     "data": {
      "text/html": [
       "<div>\n",
       "<style scoped>\n",
       "    .dataframe tbody tr th:only-of-type {\n",
       "        vertical-align: middle;\n",
       "    }\n",
       "\n",
       "    .dataframe tbody tr th {\n",
       "        vertical-align: top;\n",
       "    }\n",
       "\n",
       "    .dataframe thead th {\n",
       "        text-align: right;\n",
       "    }\n",
       "</style>\n",
       "<table border=\"1\" class=\"dataframe\">\n",
       "  <thead>\n",
       "    <tr style=\"text-align: right;\">\n",
       "      <th></th>\n",
       "      <th>source</th>\n",
       "      <th>scraper-version</th>\n",
       "      <th>scrape-date</th>\n",
       "      <th>title</th>\n",
       "      <th>price</th>\n",
       "      <th>location</th>\n",
       "      <th>odometer</th>\n",
       "      <th>images</th>\n",
       "      <th>year</th>\n",
       "      <th>age</th>\n",
       "    </tr>\n",
       "  </thead>\n",
       "  <tbody>\n",
       "  </tbody>\n",
       "</table>\n",
       "</div>"
      ],
      "text/plain": [
       "Empty DataFrame\n",
       "Columns: [source, scraper-version, scrape-date, title, price, location, odometer, images, year, age]\n",
       "Index: []"
      ]
     },
     "execution_count": 159,
     "metadata": {},
     "output_type": "execute_result"
    }
   ],
   "source": [
    "cars[cars['price'] < 1000]"
   ]
  },
  {
   "cell_type": "code",
   "execution_count": 160,
   "metadata": {},
   "outputs": [],
   "source": [
    "cars = cars[cars.price >= 1000]"
   ]
  },
  {
   "cell_type": "code",
   "execution_count": 161,
   "metadata": {},
   "outputs": [
    {
     "data": {
      "text/plain": [
       "[Text(0.5, 1.0, 'Distribution of List Price')]"
      ]
     },
     "execution_count": 161,
     "metadata": {},
     "output_type": "execute_result"
    },
    {
     "data": {
      "image/png": "[encoded data removed]",
      "text/plain": [
       "<Figure size 640x480 with 1 Axes>"
      ]
     },
     "metadata": {},
     "output_type": "display_data"
    }
   ],
   "source": [
    "sns.histplot(data = cars, x = 'price').set(title = 'Distribution of List Price')"
   ]
  },
  {
   "cell_type": "code",
   "execution_count": 162,
   "metadata": {},
   "outputs": [
    {
     "data": {
      "text/plain": [
       "172"
      ]
     },
     "execution_count": 162,
     "metadata": {},
     "output_type": "execute_result"
    }
   ],
   "source": [
    "cars.shape[0]"
   ]
  },
  {
   "cell_type": "code",
   "execution_count": 174,
   "metadata": {},
   "outputs": [],
   "source": [
    "#Dictionary of car makes\n",
    "kbb_make = {\n",
    "    'acura',\n",
    "    'alfa-romeo',\n",
    "    'aston-martin',\n",
    "    'audi',\n",
    "    'bentley',\n",
    "    'bmw',\n",
    "    'buick',\n",
    "    'cadillac',\n",
    "    'chevrolet',\n",
    "    'chrysler',\n",
    "    'dodge',\n",
    "    'ferrari',\n",
    "    'fiat',\n",
    "    'ford',\n",
    "    'genesis',\n",
    "    'gmc',\n",
    "    'honda',\n",
    "    'hyundai',\n",
    "    'infiniti',\n",
    "    'jaguar',\n",
    "    'jeep',\n",
    "    'kia',\n",
    "    'lamborghini',\n",
    "    'land rover',\n",
    "    'lexus',\n",
    "    'lincoln',\n",
    "    'lucid',\n",
    "    'maserati',\n",
    "    'mazda',\n",
    "    'mclaren',\n",
    "    'mercedes-benz',\n",
    "    'mini',\n",
    "    'mitsubishi',\n",
    "    'nissan',\n",
    "    'polestar',\n",
    "    'porsche',\n",
    "    'ram',\n",
    "    'rivian',\n",
    "    'rolls-royce',\n",
    "    'subaru',\n",
    "    'tesla',\n",
    "    'toyota',\n",
    "    'volkswagen',\n",
    "    'volvo',\n",
    "}\n",
    "\n",
    "# Dictionary to store car models for each make\n",
    "kbb_models = {\n",
    "    'acura': ['ILX', 'MDX', 'NSX','RDX','TLX'],\n",
    "    'alfa-romeo': ['Giulia', 'Stelvio'],\n",
    "    'aston-martin': ['DB11', 'DBS', 'DBX','Vantage'],\n",
    "    'audi': ['A3', 'A4','A4 allroad','A5', 'A6','A6 allroad',\n",
    "             'A7','A8','e-tron','e-tron GT','e-tron S',\n",
    "             'e-tron S Sportback','e-tron Sportback','Q3',\n",
    "             'Q4 e-tron','Q4 Sportback e-tron','Q5', \n",
    "             'Q5 Sportback','Q7','Q8','R8','RS 3','RS 5',\n",
    "             'RS 6','RS 7', 'RS e-tron GT','RS Q8','S3',\n",
    "             'S4','S5','S6','S7','S8','SQ5','SQ5 Sportback',\n",
    "             'SQ7','SQ8','TT'],\n",
    "    'bentley': ['Bentayga','Continental GT','Flying Spur'],\n",
    "    'bmw': ['2 Series','3 Series','4 Series', '5 Series',\n",
    "            '6 Series','7 Series','8 Series','i4','iX','M3',\n",
    "            'M4','M5','M8','X1','X2','X3','X3 M','X4','X4 M','X5',\n",
    "            'X5 M','X6','X6 M','X7','Z4'],\n",
    "    'buick': ['Enclave','Encore','Encore GX','Envision'],\n",
    "    'cadillac': ['CT4','CT5','Escalade','Escalade ESV','XT4','XT5','XT6'],\n",
    "    'chevrolet': ['Blazer','Bolt EUV','Bolt EV','Camaro','Colorado Crew Cab',\n",
    "                  'Colorado Extended Cab','Corvette','Equinox','Express 2500 Cargo',\n",
    "                  'Express 2500 Passenger','Express 3500 Cargo','Express 3500 Passenger',\n",
    "                  'Malibu','Silverado 1500 Crew Cab','Silverado 1500 Double Cab',\n",
    "                  'Silverado 1500 Regular Cab','Silverado 1500 Limited Crew Cab',\n",
    "                  'Silverado 1500 Limited Double Cab','Silverado 1500 Limited Regular Cab',\n",
    "                  'Silverado 2500 HD Crew Cab','Silverado 2500 HD Double Cab',\n",
    "                  'Silverado 2500 HD Regular Cab','Silverado 3500 HD Crew Cab',\n",
    "                  'Silverado 3500 HD Double Cab','Silverado 3500 HD Regular Cab',\n",
    "                  'Spark','Suburban','Tahoe','Trailblazer','Traverse','Trax',\n",
    "                  'Avalanche','Cruze','Impala','Lumina','Malibu Maxx','Monte Carlo','SS','Uplander','Venture'],\n",
    "    'chrysler': ['300','Pacifica','Pacifica Hybrid','Voyager'],\n",
    "    'dodge': ['Charger', 'Challenger', 'Durango'],\n",
    "    'ferrari': ['296 GTB','812 Competizione','812 Competizione A','812 GTS',\n",
    "                'F8', 'Portofino', 'SF90', 'Roma'],\n",
    "    'fiat': ['500X'],\n",
    "    'ford': ['Bronco', 'Bronco Sport','E-Transit 350 Cargo Van','EcoSport', 'Edge', \n",
    "             'Escape','Escape Plug-in Hybrid', 'Expedition','Expedition MAX', \n",
    "             'Explorer', 'F150 Lightning', 'F150 Regular Cab','F150 Super Cab',\n",
    "             'F150 SuperCrew Cab', 'F250 Super Duty Crew Cab','F250 Super Duty Regular Cab',\n",
    "             'F250 Super Duty Super Cab', 'F350 Super Duty Crew Cab','F350 Super Duty Regular Cab',\n",
    "             'F350 Super Duty Super Cab', 'F450 Super Duty Crew Cab','F450 Super Duty Regular Cab', \n",
    "             'Maverick', 'Mustang','Mustang MACH-E', 'Ranger SuperCab','Ranger SuperCrew', \n",
    "             'Transit 150 Cargo Van', 'Transit 150 Crew Van', 'Transit 150 Passenger Van',              \n",
    "             'Transit 250 Cargo Van', 'Transit 250 Crew Van', 'Transit 350 HD Cargo Van', 'Transit 350 HD Crew Van',\n",
    "             'Transit 350 Cargo Van', 'Transit 350 Crew Van', 'Transit 350 Passenger Van', \n",
    "             'Transit Connect Cargo Van', 'Transit Connect Passenger Wagon','C-Max Hybrid','C-Max Energi',\n",
    "             'Fiesta','Flex','Focus','Fusion','Mustang Mach-E','Taurus','Thunderbird'],\n",
    "    'genesis': ['G70', 'G80','G90', 'GV70','GV80'],\n",
    "    'gmc': ['Acadia','Canyon Crew Cab','Canyon Extended Cab','HUMMER EV Pickup','Savana 2500 Cargo','Savana 2500 Passenger', \n",
    "            'Savana 3500 Cargo','Savana 3500 Passenger','Sierra 1500 Crew Cab', 'Sierra 1500 Double Cab','Sierra 1500 Regular Cab',\n",
    "            'Sierra 1500 Limited Crew Cab', 'Sierra 1500 Limited Double Cab', 'Sierra 1500 Limited Regular Cab', \n",
    "            'Sierra 2500 HD Crew Cab','Sierra 2500 HD Double Cab','Sierra 2500 HD Regular Cab', 'Sierra 3500 HD Crew Cab',\n",
    "            'Sierra 3500 HD Double Cab','Sierra 3500 HD Regular Cab', 'Yukon', 'Yukon XL', 'Terrain','C1500 Pickup','C2500 Pickup',\n",
    "            'C3500 Pickup','Envoy','Envoy XL','Envoy XUV','Jimmy','R/V 3500 Series','S15 Jimmy','Safari','Savana 1500 Cargo',\n",
    "            'Savana 1500 Passenger','Savana 2500 Cargo','Savana 2500 Passenger','Savana 3500 Cargo',\n",
    "            'Savana 3500 Passenger','Sierra 1500 Classic Crew Cab','Sierra 1500 Classic Double Cab',\n",
    "            'Sierra 1500 Classic Regular Cab','Sierra 1500 HD Classic Crew Cab','Sierra 1500 HD Classic Double Cab',\n",
    "            'Sierra 1500 HD Classic Regular Cab','Sierra 2500 Classic Crew Cab','Sierra 2500 Classic Double Cab',\n",
    "            'Sierra 2500 Classic Regular Cab','Sierra 3500 Classic Crew Cab','Sierra 3500 Classic Double Cab',\n",
    "            'Sierra 3500 Classic Regular Cab','Sonoma','Suburban 1500','Suburban 2500','Syclone','Typhoon',\n",
    "            'Vandura 1500','Vandura 2500','Vandura 3500','Yukon XL 1500','Yukon XL 2500'],\n",
    "    'honda': ['Accord', 'Accord Hybrid', 'Civic', 'CR-V', 'CR-V Hybrid', 'HR-V', 'Insight', 'Odyssey', 'Passport', 'Pilot',\n",
    "              'Fit','Element','Prelude','S2000','Crosstour','Ridgeline'],\n",
    "    'hyundai': ['Accent', 'Elantra', 'Elantra N' , 'IONIQ5', 'Ioniq Hybrid','Ioniq Plug-in Hybrid','Kona', 'Kona Electric', 'Kona N',\n",
    "                'Palisade', 'Santa Fe', 'Santa Fe Hybrid', 'Santa Fe Plug-in Hybrid','Sonata', 'Sonata Hybrid', 'Tucson', 'Tucson Hybrid', \n",
    "                'Tucson Plug-in Hybrid', 'Venue', 'Veloster', 'Santa Cruz','Azera','Equus','Genesis Coupe','Genesis G70','Genesis G80',\n",
    "                'Genesis G90','Santa Fe Sport','Santa Fe XL','Veracruz'],\n",
    "    'infiniti': ['Q50', 'Q60','QX50','QX55','QX60','QX80','EX35','EX37','FX35','FX37','FX45','FX50',\n",
    "                'G25','G35','G37','I30','I35','JX35',\n",
    "                'M35','M35h','M37','M45','M56','Q40',\n",
    "                'Q45','QX4','QX56','QX60 Hybrid',\n",
    "                'QX70',],\n",
    "    'jaguar': ['XF', 'E-PACE','F-PACE','F-TYPE', 'I-PACE','S-Type','X-Type','XE','XE SV Project 8','XJ','XJR',\n",
    "                'XJR-S','XJS','XK','XK-Series'],\n",
    "    'jeep': ['Cherokee', 'Compass', 'Gladiator', 'Grand Cherokee', 'Grand Cherokee 4xe', 'Grand Cherokee L', 'Grand Wagoneer','Renegade', \n",
    "             'Wagoneer','Wrangler','Wrangler Unlimited', 'Wrangler Unlimited 4xe','CJ-5','CJ-7','CJ-8 Scrambler','Commander','Comanche','Dispatcher',\n",
    "            'FC-150','FC-170','FC-170 DRW','Gladiator (JT)','Grand Cherokee SRT',\n",
    "            'Grand Cherokee SRT8','Grand Cherokee Trackhawk','Grand Wagoneer (SJ)',\n",
    "            'J-100','J-2500','J-2600','J-2700','J-2800','J-3500','J-3600',\n",
    "            'J-3700','J-3800','J10','J20','Jeepster','Jeepster Commando','Liberty',\n",
    "            'Patriot','Scrambler','Wagoneer (SJ)','Wagoneer (XJ)','Willys','Wrangler (JK)',\n",
    "            'Wrangler (LJ)','Wrangler (TJ)','Wrangler (YJ)'],\n",
    "    'kia': ['Cadenza', 'Forte', 'K5', 'K900', 'Niro', 'Rio', 'Seltos', 'Sorento', 'Soul', 'Sportage', 'Stinger', \n",
    "            'Telluride','Amanti','Borrego','Forte5','K900','Optima','Optima Hybrid','Rondo','Sedona',\n",
    "            'Sephia','Sorento Sport','Soul EV','Spectra','Sportage Hybrid','Telluride Nightfall Edition'],\n",
    "    'lamborghini': ['Aventador', 'Huracan', 'Urus','Gallardo','Centenario','Diablo','Gallardo Spyder','Huracan Evo','Huracan Evo Spyder',\n",
    "            'Huracan Performante','Huracan Performante Spyder','Huracan Spyder',\n",
    "            'Murcielago','Murcielago Roadster','Reventon','Urus Graphite Capsule'],\n",
    "    'land rover': ['LR2','LR4','Defender', 'Discovery', 'Discovery Sport', 'Range Rover', 'Range Rover Evoque', 'Range Rover Sport', 'Range Rover Velar',\n",
    "                   'Discovery Series II','Discovery Series II SD','Discovery Sport SD',\n",
    "                    'Discovery Series II SE7','Discovery Series II XD','Freelander',\n",
    "                    'Freelander SE','Freelander SE3','LR2 HSE','LR3','LR3 HSE','LR3 SE',\n",
    "                    'LR4 HSE','LR4 HSE LUX','LR4 V8','LR4 V8 HSE LUX','Range Rover 4.0 SE',\n",
    "                    'Range Rover 4.6 HSE','Range Rover HSE','Range Rover Velar R-Dynamic',\n",
    "                    'Range Rover Velar S','Range Rover Velar SE','Range Rover Velar SVAutobiography Dynamic',\n",
    "                    'Range Rover Westminster','Range Rover Westminster Edition','Range Rover 4.6 HSE',\n",
    "                    'Range Rover Autobiography','Range Rover Autobiography Black','Range Rover Autobiography Black LWB',\n",
    "                    'Range Rover Autobiography L','Range Rover Autobiography LWB',\n",
    "                    'Range Rover HSE','Range Rover HSE LUX','Range Rover Long Wheelbase','Range Rover SE',\n",
    "                    'Range Rover Sport','Range Rover Sport 5.0L V8 Supercharged','Range Rover Sport GT Limited Edition',\n",
    "                    'Range Rover Sport HSE','Range Rover Sport HST','Range Rover Sport Limited Edition','Range Rover Sport SC',\n",
    "                    'Range Rover Sport SE','Range Rover Sport Supercharged','Range Rover Sport SVR',\n",
    "                    'Range Rover Velar','Range Rover Velar First Edition','Range Rover Velar P250 S','Range Rover Velar P250 SE',\n",
    "                    'Range Rover Velar P250 R-Dynamic S','Range Rover Velar P250 R-Dynamic SE','Range Rover Velar P250 R-Dynamic HSE',\n",
    "                    'Range Rover Velar P340 S','Range Rover Velar P340 SE','Range Rover Velar P340 R-Dynamic S',\n",
    "                    'Range Rover Velar P340 R-Dynamic SE','Range Rover Velar P380 R-Dynamic HSE','Range Rover 4.0 SE',\n",
    "                    'Range Rover Autobiography','Range Rover Autobiography Black',\n",
    "                    'Range Rover Autobiography Black LWB','Range Rover Autobiography L',\n",
    "                    'Range Rover Autobiography LWB','Range Rover HSE','Range Rover HSE LUX',\n",
    "                    'Range Rover Long Wheelbase','Range Rover SE'],\n",
    "    'lexus': ['ES', 'GS', 'GX', 'IS', 'LS', 'LX', 'NX', 'RC', 'RX', 'UX','CT','ES 250','ES 300','ES 300h','ES 330','ES 350','GS 200t','GS 300',\n",
    "            'GS 350','GS 400','GS 430','GS 450h','GS 460','GS F','GX 460','GX 470','HS 250h','IS 200t','IS 250',\n",
    "        'IS 300','IS 350','IS 350C','LC 500','LC 500h','LFA','LS 400',\n",
    "        'LS 430','LS 460','LS 500','LS 500h','LS 600h','LX 450','LX 470',\n",
    "        'LX 570','NX 200t','NX 300','NX 300h','RC 200t','RC 300','RC 350',\n",
    "        'RC F','RX 300','RX 330','RX 350','RX 350L','RX 400h','RX 450h',\n",
    "        'RX 450hL','SC 300','SC 400','SC 430','UX 200','UX 250h',\n",
    "        'GS 300','GS 350','GS 450h','GS F','IS 200t','IS 300',\n",
    "        'LC 500','LC 500h','LS 500','LS 500h','LX 570','NX 200t',\n",
    "        'NX 300','RC 300','RC 350','RC F','RX 350','RX 450h',\n",
    "        'ES 250','ES 300','ES 300h','ES 330','ES 350','GS 200t',\n",
    "        'GS 300','GS 350','GS 400','GS 430','GS 450h','GS F','GX 460',\n",
    "        'GX 470','HS 250h','IS 200t','IS 250','IS 300','IS 350',\n",
    "        'IS 350C','LC 500','LC 500h','LFA','LS 400','LS 430',\n",
    "        'LS 460','LS 500','LS 500h','LS 600h','LX 450','LX 470',\n",
    "        'LX 570','NX 200t','NX 300','NX 300h','RC 200t','RC 300',\n",
    "        'RC 350','RC F','RX 300','RX 330','RX 350','RX 350L',\n",
    "        'RX 400h','RX 450h','RX 450hL','SC 300','SC 400','SC 430',\n",
    "        'UX 200','UX 250h'],\n",
    "    'lincoln': ['Aviator', 'Continental', 'Corsair', 'MKS','MKZ','MKT','MKX', 'Nautilus', 'Navigator', 'Navigator L','Blackwood','Capri','Continental Mark III','Continental Mark IV',\n",
    "                'Continental Mark V','Continental Mark VI','Corsair','LS','Mark LT',\n",
    "                'Mark VI','Mark VII','Mark VIII','MKS','MKT','MKX','MKZ',\n",
    "                'Nautilus','Navigator','Navigator L','Town Car','Versailles',\n",
    "                'Zephyr'],\n",
    "    'lucid': ['Air','Air Dream Edition','Air Grand Touring','Air Pure','Air Touring'],\n",
    "    'maserati': ['Ghibli', 'GranTurismo','Levante','MC20', 'Quattroporte','430','GranSport','GranTurismo MC','Levante GTS','Levante S',\n",
    "                'Quattroporte GTS','Quattroporte S','Quattroporte Trofeo'],\n",
    "    'mazda': ['CX-30', 'CX-5', 'CX-9', 'Mazda3', 'Mazda6', 'MX-5 Miata','323','626','929','B-Series Pickup','CX-3','CX-7','CX-9',\n",
    "                'GLC','Mazda2','Mazda3 Sport','Mazda5','Mazda6 Sport',\n",
    "                'MAZDASPEED MX-5','MAZDASPEED Protege','MAZDASPEED3',\n",
    "                'MAZDASPEED6','Millenia','MPV','MX-3','MX-5 Miata RF','MX-6',\n",
    "                'Navajo','Protege','Protege5','RX-7','RX-8','Tribute'],\n",
    "                'mclaren': ['570S', '600LT', '720S', '765LT','GT',\n",
    "                '570S Spider','600LT Spider','620R','675LT','675LT Spider',\n",
    "                '720S Spider','765LT Spider','GT','GT Coupe','GT Spider',\n",
    "                'MP4-12C','MP4-12C Spider','P1'],\n",
    "    'mclaren': ['570S', '600LT', '720S', '765LT','GT'],\n",
    "    'mercedes-benz': ['A-Class', 'C-Class', 'E-Class', 'G-Class', 'GLA', 'GLC', 'GLE', 'GLS', 'S-Class','190-Class','260-Class','300-Class','350-Class','380-Class','400-Class','420-Class',\n",
    "                '450-Class','500-Class','560-Class','600-Class','AMG GT','B-Class','C-Class Coupe',\n",
    "                'C-Class Wagon','CL-Class','CLA','CLA-Class','CLK-Class','CLS','CLS-Class',\n",
    "                'E-Class Coupe','E-Class Wagon','G-Class','GL-Class','GLA-Class','GLB','GLB-Class',\n",
    "                'GLC Coupe','GLC-Class','GLE Coupe','GLE-Class','GLK-Class','GLS-Class',\n",
    "                'M-Class','Maybach S-Class','Metris','R-Class','S-Class Coupe',\n",
    "                'S-Class Maybach','SL-Class','SLC-Class','SLK-Class','SLR McLaren','SLS AMG',\n",
    "                'Sprinter'],\n",
    "    'mini': ['Clubman', 'Convertible', 'Countryman', 'Hardtop','Cooper','Cooper Clubman','Cooper Countryman','Cooper Paceman',\n",
    "        'Hardtop 2 Door','Hardtop 4 Door','John Cooper Works',\n",
    "        'John Cooper Works Clubman','John Cooper Works Convertible',\n",
    "        'John Cooper Works Countryman','John Cooper Works Hardtop',\n",
    "        'John Cooper Works Hardtop 2 Door','John Cooper Works Hardtop 4 Door',\n",
    "        'John Cooper Works Paceman'],\n",
    "    'mitsubishi': ['Outlander', 'Eclipse Cross', 'Pajero','3000GT','Diamante','Eclipse','Eclipse Spyder','Endeavor','Expo',\n",
    "                'Galant','Lancer','Mighty Max','Mirage','Montero','Montero Sport',\n",
    "                'Outlander PHEV','Outlander Sport','Raider','Sigma','Van'],\n",
    "    'nissan': ['370Z', 'Altima', 'Armada', 'Frontier', 'Kicks', 'LEAF', 'Maxima', 'Murano', 'NV Cargo', 'NV Passenger', 'NV200', 'Pathfinder', 'Rogue', 'Rogue Sport', 'Titan', 'Versa',\n",
    "               '200SX','240SX','300ZX','350Z','370Z Coupe','370Z NISMO','370Z Roadster',\n",
    "                'Altima Hybrid','Armada','Cube','Frontier King Cab','Frontier Crew Cab',\n",
    "                'GT-R','Kicks','LEAF','Maxima','Murano','Murano CrossCabriolet','NV Cargo','NV Passenger','NV200',\n",
    "                'Pathfinder','Quest','Rogue','Rogue Select','Rogue Sport',\n",
    "                'Sentra','Titan King Cab','Titan Crew Cab','Titan XD',\n",
    "                'Versa','Versa Note','Versa Sedan','Xterra','Altima','Armada',\n",
    "                'Cube','Frontier','GT-R','JUKE','Kicks','LEAF','Maxima',\n",
    "                'Murano','Murano CrossCabriolet','NV Cargo','NV Passenger',\n",
    "                'NV200','Pathfinder','Quest','Rogue','Rogue Select','Rogue Sport',\n",
    "                'Sentra','Titan'],\n",
    "    'polestar': ['2', '1', '3'],\n",
    "    'porsche': ['911', 'Cayenne', 'Macan', 'Panamera', 'Taycan','718 Cayman','911 Carrera','911 Carrera 4','911 Carrera 4 Cabriolet',\n",
    "                '911 Carrera 4 GTS','911 Carrera 4S','911 Carrera 4S Cabriolet',\n",
    "                '911 Carrera Cabriolet','911 Carrera GTS','911 Carrera S',\n",
    "                '911 Carrera S Cabriolet','911 Targa','911 Targa 4',\n",
    "                '911 Targa 4 GTS','911 Targa 4S','911 Turbo','911 Turbo Cabriolet',\n",
    "                '911 Turbo S','911 Turbo S Cabriolet','918 Spyder','Boxster',\n",
    "                'Carrera GT','Cayenne','Cayenne Coupe','Cayenne E-Hybrid','Cayenne GTS',\n",
    "                'Cayenne S','Cayenne S E-Hybrid','Cayenne Turbo','Cayenne Turbo S E-Hybrid',\n",
    "                'Cayman','Macan','Panamera','Panamera 4','Panamera 4 E-Hybrid',\n",
    "                'Panamera 4 Executive','Panamera 4S','Panamera 4S E-Hybrid',\n",
    "                'Panamera Executive','Panamera GTS','Panamera S','Panamera Turbo',\n",
    "                'Panamera Turbo Executive','Panamera Turbo S E-Hybrid'],\n",
    "    'ram': ['1500', '2500', '3500','1500 Classic','1500 Classic Crew Cab','1500 Classic Quad Cab',\n",
    "        '1500 Classic Regular Cab','2500','3500','3500 Chassis Cab',\n",
    "        '4500 Chassis Cab','5500 Chassis Cab','C/V','Dakota',\n",
    "        'ProMaster Cargo Van','ProMaster Chassis Cab','ProMaster City Cargo',\n",
    "        'ProMaster City Wagon','ProMaster Cutaway','ProMaster Window Van'],\n",
    "    'rivian': ['R1T', 'R1S'],\n",
    "    'rolls-royce': ['Cullinan', 'Dawn', 'Ghost', 'Phantom', 'Wraith','Cullinan Black Badge','Dawn','Dawn Black Badge','Ghost',\n",
    "                'Ghost Black Badge','Phantom','Phantom Drophead Coupe',\n",
    "                'Phantom Drophead Coupe Waterspeed Collection','Phantom Coupe',\n",
    "                'Phantom Coupe Aviator Collection','Phantom Coupe Waterspeed Collection',\n",
    "                'Phantom Coupe Tiger Edition','Wraith','Wraith Black Badge'],\n",
    "    'subaru': ['Ascent', 'BRZ', 'Crosstrek', 'Forester', 'Impreza', 'Legacy', 'Outback', 'WRX',\n",
    "               'Ascent','Baja','BRAT','BRZ','Crosstrek','Crosstrek Hybrid',\n",
    "                'Forester','Impreza','Impreza Outback Sport','Impreza WRX',\n",
    "                'Legacy','Outback','SVX','Tribeca','WRX','XT','XT6'],\n",
    "    'tesla': ['Model 3', 'Model S', 'Model X', 'Model Y'],\n",
    "    'toyota': ['4Runner', 'Avalon', 'C-HR', 'Camry', 'Corolla', 'Highlander', 'Land Cruiser', 'Prius', 'RAV4', \n",
    "               'Sequoia', 'Sienna', 'Tacoma', 'Tundra', 'Venza', 'Yaris', 'Corolla Hatchback',\n",
    "                'Corolla Hybrid','Corolla iM','FJ Cruiser','GR86','Highlander',\n",
    "                'Highlander Hybrid','Land Cruiser','Matrix','Mirai','MR2',\n",
    "                'MR2 Spyder','Paseo','Previa','Prius','Prius c','Prius Plug-in',\n",
    "                'Prius Prime','Prius Prime Advanced','Prius Prime Premium',\n",
    "                'Prius v','RAV4','RAV4 Prime','Sequoia','Sienna',\n",
    "                'Supra','T100','Tacoma','Tercel','Tundra','Venza',\n",
    "                'Yaris','Yaris iA','4Runner','Avalon','Avalon Hybrid',\n",
    "                'C-HR','Camry','Camry Hybrid','Camry Solara','Celica',\n",
    "                'Corolla','Corolla Hatchback','Corolla Hybrid','Corolla iM',\n",
    "                'FJ Cruiser','GR86','Highlander','Highlander Hybrid',\n",
    "                'Land Cruiser','Matrix','Mirai','MR2','MR2 Spyder',\n",
    "                'Paseo','Previa','Prius','Prius c','Prius Plug-in',\n",
    "                'Prius Prime','Prius Prime Advanced','Prius Prime Premium',\n",
    "                'Prius v','RAV4','RAV4 Prime','Sequoia','Sienna',\n",
    "                'Supra','T100','Tacoma','Tercel','Tundra','Venza',\n",
    "                'Yaris','Yaris iA'],\n",
    "    'volkswagen': ['Arteon', 'Atlas', 'Golf', 'Jetta', 'Passat', 'Tiguan',\n",
    "                   'Atlas','Atlas Cross Sport','Beetle','Cabrio',\n",
    "                'CC','e-Golf','EuroVan','Fox','GLI','Golf','Golf Alltrack',\n",
    "                'Golf GTI','Golf R','Golf SportWagen','ID.4','Jetta','Jetta GLI',\n",
    "                'Karmann Ghia','Microbus','Passat','Quantum','R32','Rabbit',\n",
    "                'Routan','Tiguan','Touareg','Touareg 2'],\n",
    "    'volvo': ['S60', 'S90', 'V60', 'V90', 'XC40', 'XC60', 'XC90','240','740','760','780','850','940','960','C30',\n",
    "                'C40 Recharge','C70','S40','S60 Cross Country','S60 Recharge',\n",
    "                'S70','S80','S90 Recharge','V40','V50','V60','V60 Cross Country',\n",
    "                'V60 Recharge','V70','V90','V90 Cross Country','V90 Recharge',\n",
    "                'XC40','XC40 Recharge','XC60','XC60 Recharge','XC70',\n",
    "                'XC90','XC90 Recharge'],\n",
    "}"
   ]
  },
  {
   "cell_type": "code",
   "execution_count": 199,
   "metadata": {},
   "outputs": [
    {
     "name": "stdout",
     "output_type": "stream",
     "text": [
      "    manufacturer                    model\n",
      "0            gmc                  Terrain\n",
      "1           ford                     Edge\n",
      "2           ford                     F350\n",
      "3      chevrolet                   3500HD\n",
      "4           ford                     F250\n",
      "..           ...                      ...\n",
      "170         ford                     F250\n",
      "172       toyota                    Prius\n",
      "173    chevrolet  Silverado 1500 Crew Cab\n",
      "174         ford                     F350\n",
      "175         ford                     F350\n",
      "\n",
      "[169 rows x 2 columns]\n"
     ]
    },
    {
     "data": {
      "text/plain": [
       "([0, 1, 2, 3, 4, 5, 6, 7, 8, 9, 10, 11, 12, 13, 14, 15, 16, 17, 18, 19],\n",
       " [Text(0, 0, 'gmc'),\n",
       "  Text(1, 0, 'ford'),\n",
       "  Text(2, 0, 'chevrolet'),\n",
       "  Text(3, 0, 'ram'),\n",
       "  Text(4, 0, 'bmw'),\n",
       "  Text(5, 0, 'jeep'),\n",
       "  Text(6, 0, 'nissan'),\n",
       "  Text(7, 0, 'kia'),\n",
       "  Text(8, 0, 'cadillac'),\n",
       "  Text(9, 0, 'dodge'),\n",
       "  Text(10, 0, 'acura'),\n",
       "  Text(11, 0, 'volkswagen'),\n",
       "  Text(12, 0, 'subaru'),\n",
       "  Text(13, 0, 'honda'),\n",
       "  Text(14, 0, 'land rover'),\n",
       "  Text(15, 0, 'hyundai'),\n",
       "  Text(16, 0, 'buick'),\n",
       "  Text(17, 0, 'toyota'),\n",
       "  Text(18, 0, 'infiniti'),\n",
       "  Text(19, 0, 'lexus')])"
      ]
     },
     "execution_count": 199,
     "metadata": {},
     "output_type": "execute_result"
    },
    {
     "data": {
      "image/png": "[encoded data removed]",
      "text/plain": [
       "<Figure size 2000x1000 with 1 Axes>"
      ]
     },
     "metadata": {},
     "output_type": "display_data"
    },
    {
     "data": {
      "image/png": "[encoded data removed]",
      "text/plain": [
       "<Figure size 2000x1000 with 1 Axes>"
      ]
     },
     "metadata": {},
     "output_type": "display_data"
    }
   ],
   "source": [
    "\n",
    "from difflib import get_close_matches\n",
    "\n",
    "title = cars['title']\n",
    "\n",
    "# Function to extract make from title\n",
    "def extract_make(title):\n",
    "    title_lower = title.lower()\n",
    "    for make in kbb_make:\n",
    "        if make in title_lower:\n",
    "            return make\n",
    "        elif (len(make) >= 4 and make[:4] in title_lower):\n",
    "            return make\n",
    "    return None\n",
    "\n",
    "def extract_model_wreg(title, make):\n",
    "    title_lower = title.lower()\n",
    "\n",
    "    # Check if the make is in the kbb_models dictionary\n",
    "    make_models = kbb_models.get(make, [])\n",
    "\n",
    "    # Use regex to find patterns like \"2021 RAM 3500\" in the title\n",
    "    match = re.search(r'\\b\\d{4}\\s*[a-zA-Z0-9-]+\\s*([a-zA-Z0-9-]+)\\b', title)\n",
    "\n",
    "    if match:\n",
    "        # Extracted model is in the first capturing group\n",
    "        model = match.group(1)\n",
    "\n",
    "        if model is not None:\n",
    "            # Handle models with dashes\n",
    "            model = model.replace(\"-\", \"\")\n",
    "\n",
    "            # Compare with the kbb_models dictionary\n",
    "            matched_model = get_close_matches(model, make_models, n=1)\n",
    "\n",
    "            if matched_model:\n",
    "                return matched_model[0]\n",
    "            else:\n",
    "                # If no direct match, try finding a close match using pieces of words\n",
    "                title_words = re.findall(r'\\b\\w+\\b', title)\n",
    "                extracted_model_pieces = []\n",
    "\n",
    "                for word in title_words:\n",
    "                    # Check if the word is part of the make name, if yes, skip it\n",
    "                    if make is not None and word.lower() in make.lower():\n",
    "                        continue\n",
    "\n",
    "                    extracted_model_pieces.append(word)\n",
    "                    current_model_attempt = ' '.join(extracted_model_pieces)\n",
    "\n",
    "                    # Check if the current attempt is a close match\n",
    "                    matched_model = get_close_matches(current_model_attempt, make_models, n=1)\n",
    "                    if matched_model:\n",
    "                        return matched_model[0]\n",
    "\n",
    "                # If still no match, return the original extracted model\n",
    "                return model\n",
    "        else:\n",
    "            return None\n",
    "    else:\n",
    "        return None\n",
    "\n",
    "# Apply the extraction functions\n",
    "cars['manufacturer'] = cars['title'].apply(extract_make)\n",
    "cars['model'] = cars.apply(lambda row: extract_model_wreg(row['title'], row['manufacturer']), axis=1)\n",
    "\n",
    "# Print the DataFrame with 'manufacturer' and 'model'\n",
    "result_df = cars[['manufacturer', 'model']]\n",
    "print(result_df)\n",
    "\n",
    "# Save the selected columns to CSV\n",
    "result_df.to_csv('output.csv', index=False)\n",
    "\n",
    "fig, ax = plt.subplots(figsize=(20, 10))\n",
    "sns.barplot(data=cars, x='manufacturer', y='price', estimator=np.median, ax=ax).set(title='Median List Price by Manufacturer')\n",
    "plt.xticks(rotation=45)\n",
    "\n",
    "fig, ax = plt.subplots(figsize=(20, 10))\n",
    "sns.barplot(data = cars, x = 'manufacturer', y = 'price', estimator = np.median, ax = ax).set(title = 'Median List Price by Manufacturer')\n",
    "plt.xticks(rotation = 45)\n"
   ]
  },
  {
   "cell_type": "code",
   "execution_count": 187,
   "metadata": {
    "scrolled": true
   },
   "outputs": [
    {
     "data": {
      "text/plain": [
       "manufacturer\n",
       "ram           34990.0\n",
       "subaru        31495.0\n",
       "gmc           31240.5\n",
       "cadillac      29490.0\n",
       "dodge         29286.0\n",
       "ford          28440.0\n",
       "land rover    27224.0\n",
       "nissan        25683.0\n",
       "chevrolet     24429.0\n",
       "jeep          23995.5\n",
       "hyundai       18995.0\n",
       "volkswagen    17895.0\n",
       "lexus         17805.0\n",
       "infiniti      17392.5\n",
       "bmw           16745.0\n",
       "honda         14945.0\n",
       "buick         13500.0\n",
       "kia           12747.5\n",
       "toyota        12248.0\n",
       "acura          8750.0\n",
       "Name: price, dtype: float64"
      ]
     },
     "execution_count": 187,
     "metadata": {},
     "output_type": "execute_result"
    }
   ],
   "source": [
    "cars.groupby(['manufacturer'])['price'].median().sort_values(ascending = False)"
   ]
  },
  {
   "cell_type": "code",
   "execution_count": 188,
   "metadata": {},
   "outputs": [
    {
     "data": {
      "text/plain": [
       "manufacturer\n",
       "ford          49\n",
       "chevrolet     35\n",
       "ram           17\n",
       "nissan        11\n",
       "gmc            8\n",
       "jeep           8\n",
       "toyota         7\n",
       "cadillac       5\n",
       "dodge          5\n",
       "kia            4\n",
       "land rover     3\n",
       "lexus          3\n",
       "volkswagen     3\n",
       "honda          2\n",
       "bmw            2\n",
       "infiniti       2\n",
       "acura          2\n",
       "subaru         1\n",
       "hyundai        1\n",
       "buick          1\n",
       "Name: count, dtype: int64"
      ]
     },
     "execution_count": 188,
     "metadata": {},
     "output_type": "execute_result"
    }
   ],
   "source": [
    "cars['manufacturer'].value_counts()"
   ]
  },
  {
   "cell_type": "code",
   "execution_count": 189,
   "metadata": {},
   "outputs": [
    {
     "data": {
      "text/plain": [
       "169"
      ]
     },
     "execution_count": 189,
     "metadata": {},
     "output_type": "execute_result"
    }
   ],
   "source": [
    "cars.shape[0]"
   ]
  },
  {
   "cell_type": "code",
   "execution_count": 190,
   "metadata": {},
   "outputs": [
    {
     "name": "stdout",
     "output_type": "stream",
     "text": [
      "    manufacturer                    model\n",
      "0            gmc                  Terrain\n",
      "1           ford                     Edge\n",
      "2           ford                     F350\n",
      "3      chevrolet                   3500HD\n",
      "4           ford                     F250\n",
      "..           ...                      ...\n",
      "170         ford                     F250\n",
      "172       toyota                    Prius\n",
      "173    chevrolet  Silverado 1500 Crew Cab\n",
      "174         ford                     F350\n",
      "175         ford                     F350\n",
      "\n",
      "[169 rows x 2 columns]\n"
     ]
    }
   ],
   "source": [
    "# Drop rows where either 'manufacturer' or 'model' is empty\n",
    "cars.dropna(subset=['manufacturer', 'model'], inplace=True)\n",
    "\n",
    "# Print the DataFrame with 'manufacturer' and 'model'\n",
    "result_df = cars[['manufacturer', 'model']]\n",
    "print(result_df)\n",
    "\n",
    "# Save the selected columns to CSV\n",
    "#result_df.to_csv('outputff.csv', index=False)\n"
   ]
  },
  {
   "cell_type": "code",
   "execution_count": 191,
   "metadata": {},
   "outputs": [
    {
     "data": {
      "text/plain": [
       "169"
      ]
     },
     "execution_count": 191,
     "metadata": {},
     "output_type": "execute_result"
    }
   ],
   "source": [
    "cars.shape[0]"
   ]
  },
  {
   "cell_type": "code",
   "execution_count": 192,
   "metadata": {},
   "outputs": [],
   "source": [
    "numeric_columns = ['price', 'year', 'odometer','age']\n",
    "#cars.groupby(['title_status'])[numeric_columns].median()"
   ]
  },
  {
   "cell_type": "markdown",
   "metadata": {},
   "source": [
    "## Modeling"
   ]
  },
  {
   "cell_type": "markdown",
   "metadata": {},
   "source": [
    "### Segmentation"
   ]
  },
  {
   "cell_type": "code",
   "execution_count": 193,
   "metadata": {
    "scrolled": false
   },
   "outputs": [
    {
     "data": {
      "text/html": [
       "<div>\n",
       "<style scoped>\n",
       "    .dataframe tbody tr th:only-of-type {\n",
       "        vertical-align: middle;\n",
       "    }\n",
       "\n",
       "    .dataframe tbody tr th {\n",
       "        vertical-align: top;\n",
       "    }\n",
       "\n",
       "    .dataframe thead th {\n",
       "        text-align: right;\n",
       "    }\n",
       "</style>\n",
       "<table border=\"1\" class=\"dataframe\">\n",
       "  <thead>\n",
       "    <tr style=\"text-align: right;\">\n",
       "      <th></th>\n",
       "      <th>source</th>\n",
       "      <th>scraper-version</th>\n",
       "      <th>scrape-date</th>\n",
       "      <th>title</th>\n",
       "      <th>price</th>\n",
       "      <th>location</th>\n",
       "      <th>odometer</th>\n",
       "      <th>images</th>\n",
       "      <th>year</th>\n",
       "      <th>age</th>\n",
       "      <th>manufacturer</th>\n",
       "      <th>model_with_dict</th>\n",
       "      <th>model_without_dict</th>\n",
       "      <th>model_wreg</th>\n",
       "      <th>model</th>\n",
       "    </tr>\n",
       "  </thead>\n",
       "  <tbody>\n",
       "    <tr>\n",
       "      <th>0</th>\n",
       "      <td>craigslist</td>\n",
       "      <td>1</td>\n",
       "      <td>2023-11-13</td>\n",
       "      <td>2015 GMC Terrian SLT Leather Seats SUV</td>\n",
       "      <td>8495</td>\n",
       "      <td>Clyde</td>\n",
       "      <td>165</td>\n",
       "      <td>['https://images.craigslist.org/00q0q_fqrDYmbI...</td>\n",
       "      <td>2015</td>\n",
       "      <td>8</td>\n",
       "      <td>gmc</td>\n",
       "      <td>Acadia</td>\n",
       "      <td>None</td>\n",
       "      <td>Terrain</td>\n",
       "      <td>Terrain</td>\n",
       "    </tr>\n",
       "    <tr>\n",
       "      <th>1</th>\n",
       "      <td>craigslist</td>\n",
       "      <td>1</td>\n",
       "      <td>2023-11-13</td>\n",
       "      <td>2012 Ford Edge SUV</td>\n",
       "      <td>5900</td>\n",
       "      <td>Abilene</td>\n",
       "      <td>127</td>\n",
       "      <td>['https://images.craigslist.org/00u0u_djFxYThj...</td>\n",
       "      <td>2012</td>\n",
       "      <td>11</td>\n",
       "      <td>ford</td>\n",
       "      <td>Edge</td>\n",
       "      <td>None</td>\n",
       "      <td>Edge</td>\n",
       "      <td>Edge</td>\n",
       "    </tr>\n",
       "    <tr>\n",
       "      <th>2</th>\n",
       "      <td>craigslist</td>\n",
       "      <td>1</td>\n",
       "      <td>2023-11-13</td>\n",
       "      <td>2014 FORD F-350 KING RANCH 4X4 DIESEL NAV ROOF...</td>\n",
       "      <td>29999</td>\n",
       "      <td>WWW.GETADIESEL.COM</td>\n",
       "      <td>227</td>\n",
       "      <td>['https://images.craigslist.org/00z0z_fBJpyxit...</td>\n",
       "      <td>2014</td>\n",
       "      <td>9</td>\n",
       "      <td>ford</td>\n",
       "      <td>Bronco</td>\n",
       "      <td>F350</td>\n",
       "      <td>F350</td>\n",
       "      <td>F350</td>\n",
       "    </tr>\n",
       "    <tr>\n",
       "      <th>3</th>\n",
       "      <td>craigslist</td>\n",
       "      <td>1</td>\n",
       "      <td>2023-11-13</td>\n",
       "      <td>1-OWNER 2019 CHEVY 3500HD LTZ 4X4 DURAMAX SKIR...</td>\n",
       "      <td>42900</td>\n",
       "      <td>WWW.GETADIESEL.COM</td>\n",
       "      <td>143</td>\n",
       "      <td>['https://images.craigslist.org/00J0J_cBZBKQMO...</td>\n",
       "      <td>2019</td>\n",
       "      <td>4</td>\n",
       "      <td>chevrolet</td>\n",
       "      <td>Blazer</td>\n",
       "      <td>OWNER 2019</td>\n",
       "      <td>3500HD</td>\n",
       "      <td>3500HD</td>\n",
       "    </tr>\n",
       "    <tr>\n",
       "      <th>4</th>\n",
       "      <td>craigslist</td>\n",
       "      <td>1</td>\n",
       "      <td>2023-11-13</td>\n",
       "      <td>2017 FORD F-250 KING RANCH FX4 DIESEL NAV BDS ...</td>\n",
       "      <td>42897</td>\n",
       "      <td>WWW.GETADIESEL.COM</td>\n",
       "      <td>180</td>\n",
       "      <td>['https://images.craigslist.org/00v0v_3LJpHDnn...</td>\n",
       "      <td>2017</td>\n",
       "      <td>6</td>\n",
       "      <td>ford</td>\n",
       "      <td>Bronco</td>\n",
       "      <td>F250</td>\n",
       "      <td>F250</td>\n",
       "      <td>F250</td>\n",
       "    </tr>\n",
       "  </tbody>\n",
       "</table>\n",
       "</div>"
      ],
      "text/plain": [
       "       source  scraper-version scrape-date  \\\n",
       "0  craigslist                1  2023-11-13   \n",
       "1  craigslist                1  2023-11-13   \n",
       "2  craigslist                1  2023-11-13   \n",
       "3  craigslist                1  2023-11-13   \n",
       "4  craigslist                1  2023-11-13   \n",
       "\n",
       "                                               title  price  \\\n",
       "0             2015 GMC Terrian SLT Leather Seats SUV   8495   \n",
       "1                                 2012 Ford Edge SUV   5900   \n",
       "2  2014 FORD F-350 KING RANCH 4X4 DIESEL NAV ROOF...  29999   \n",
       "3  1-OWNER 2019 CHEVY 3500HD LTZ 4X4 DURAMAX SKIR...  42900   \n",
       "4  2017 FORD F-250 KING RANCH FX4 DIESEL NAV BDS ...  42897   \n",
       "\n",
       "             location  odometer  \\\n",
       "0               Clyde       165   \n",
       "1             Abilene       127   \n",
       "2  WWW.GETADIESEL.COM       227   \n",
       "3  WWW.GETADIESEL.COM       143   \n",
       "4  WWW.GETADIESEL.COM       180   \n",
       "\n",
       "                                              images  year  age manufacturer  \\\n",
       "0  ['https://images.craigslist.org/00q0q_fqrDYmbI...  2015    8          gmc   \n",
       "1  ['https://images.craigslist.org/00u0u_djFxYThj...  2012   11         ford   \n",
       "2  ['https://images.craigslist.org/00z0z_fBJpyxit...  2014    9         ford   \n",
       "3  ['https://images.craigslist.org/00J0J_cBZBKQMO...  2019    4    chevrolet   \n",
       "4  ['https://images.craigslist.org/00v0v_3LJpHDnn...  2017    6         ford   \n",
       "\n",
       "  model_with_dict model_without_dict model_wreg    model  \n",
       "0          Acadia               None    Terrain  Terrain  \n",
       "1            Edge               None       Edge     Edge  \n",
       "2          Bronco               F350       F350     F350  \n",
       "3          Blazer         OWNER 2019     3500HD   3500HD  \n",
       "4          Bronco               F250       F250     F250  "
      ]
     },
     "execution_count": 193,
     "metadata": {},
     "output_type": "execute_result"
    }
   ],
   "source": [
    "cars.head()"
   ]
  },
  {
   "cell_type": "code",
   "execution_count": 203,
   "metadata": {},
   "outputs": [
    {
     "name": "stdout",
     "output_type": "stream",
     "text": [
      "    manufacturer                    model  year  price kbb_price  \\\n",
      "0            gmc                  Terrain  2015   8495      8092   \n",
      "1           ford                     Edge  2012   5900      7199   \n",
      "2           ford                     F350  2014  29999     16934   \n",
      "4           ford                     F250  2017  42897     21218   \n",
      "6           ford                     F250  2014  39995     14463   \n",
      "..           ...                      ...   ...    ...       ...   \n",
      "170         ford                     F250  2017  38500     21218   \n",
      "172       toyota                    Prius  2013  12248     10574   \n",
      "173    chevrolet  Silverado 1500 Crew Cab  2019  32792     24966   \n",
      "174         ford                     F350  2020  49781     45503   \n",
      "175         ford                     F350  2020  49781     45503   \n",
      "\n",
      "     price_difference  fraudulent  \n",
      "0               403.0       False  \n",
      "1             -1299.0       False  \n",
      "2             13065.0        True  \n",
      "4             21679.0        True  \n",
      "6             25532.0        True  \n",
      "..                ...         ...  \n",
      "170           17282.0        True  \n",
      "172            1674.0       False  \n",
      "173            7826.0       False  \n",
      "174            4278.0       False  \n",
      "175            4278.0       False  \n",
      "\n",
      "[135 rows x 7 columns]\n",
      "Results have been saved to price_comparison_results.csv\n"
     ]
    }
   ],
   "source": [
    "import requests\n",
    "from bs4 import BeautifulSoup\n",
    "from concurrent.futures import ThreadPoolExecutor\n",
    "import pandas as pd\n",
    "import numpy as np\n",
    "from difflib import get_close_matches\n",
    "import matplotlib.pyplot as plt\n",
    "import seaborn as sns\n",
    "\n",
    "# Function to scrape current market price from Kelly Blue Book\n",
    "def get_kbb_price(row):\n",
    "    base_url = 'https://www.kbb.com/'\n",
    "    \n",
    "    # Check if vehicle_make and vehicle_model are not None or float\n",
    "    if isinstance(row['manufacturer'], str) and isinstance(row['model'], str):\n",
    "        # Replace spaces with dashes in the manufacturer and model for the URL\n",
    "        make_url_part = row[\"manufacturer\"].lower().replace(\" \", \"-\")\n",
    "        model_url_part = row[\"model\"].lower().replace(\" \", \"-\")\n",
    "        \n",
    "        search_url = f'{base_url}{make_url_part}/{model_url_part}/{row[\"year\"]}/'\n",
    "        #print(search_url)\n",
    "        try:\n",
    "            response = requests.get(search_url)\n",
    "            soup = BeautifulSoup(response.text, 'html.parser')\n",
    "            # Extract relevant information (adjust based on the actual HTML structure)\n",
    "            # Extract the price information from the HTML code\n",
    "            #price_field = soup.find('div', {'class': 'nationalBaseDefaultPrice'})\n",
    "            #kbb_price = price_field['content'] if price_field else None\n",
    "\n",
    "            # Use regular expression to extract the price information\n",
    "            pattern = re.compile(r'\"nationalBaseDefaultPrice\":(\\d+),')\n",
    "            match = pattern.search(response.text)\n",
    "            \n",
    "            kbb_price = match.group(1) if match else None\n",
    "\n",
    "            return kbb_price\n",
    "\n",
    "            #return kbb_price.text.strip() if kbb_price else None\n",
    "        except Exception as e:\n",
    "            print(f\"Error: {e}\")\n",
    "            return None\n",
    "    else:\n",
    "        return None\n",
    "\n",
    "\n",
    "# Use ThreadPoolExecutor to parallelize the scraping process\n",
    "with ThreadPoolExecutor(max_workers=5) as executor:\n",
    "    kbb_prices = list(executor.map(get_kbb_price, cars.to_dict(orient='records')))\n",
    "\n",
    "# Add the kbb_prices to the DataFrame\n",
    "cars['kbb_price'] = kbb_prices\n",
    "\n",
    "# Drop rows where kbb_price is empty\n",
    "cars = cars.dropna(subset=['kbb_price'])\n",
    "\n",
    "# Compare the actual market price with the dataset\n",
    "cars['price_difference'] = cars['price'] - cars['kbb_price'].astype(float)\n",
    "\n",
    "# Print the results\n",
    "#print(cars[['manufacturer', 'model', 'year', 'price', 'kbb_price', 'price_difference']])\n",
    "\n",
    "# Flag rows with price difference greater than 10000 as fraudulent\n",
    "cars['fraudulent'] = np.where(cars['price_difference'] > 10000, True, False)\n",
    "\n",
    "# Print the results\n",
    "output_df = cars[['manufacturer', 'model', 'year', 'price', 'kbb_price', 'price_difference', 'fraudulent']]\n",
    "print(output_df)\n",
    "\n",
    "# Save the results to a CSV file\n",
    "output_csv_filename = 'price_comparison_results.csv'\n",
    "output_df.to_csv(output_csv_filename, index=False)\n",
    "print(f'Results have been saved to {output_csv_filename}')\n"
   ]
  },
  {
   "cell_type": "code",
   "execution_count": 204,
   "metadata": {},
   "outputs": [
    {
     "data": {
      "image/png": "[encoded data removed]",
      "text/plain": [
       "<Figure size 2000x1000 with 1 Axes>"
      ]
     },
     "metadata": {},
     "output_type": "display_data"
    },
    {
     "data": {
      "image/png": "[encoded data removed]",
      "text/plain": [
       "<Figure size 1200x600 with 1 Axes>"
      ]
     },
     "metadata": {},
     "output_type": "display_data"
    }
   ],
   "source": [
    "# Visualize the comparison\n",
    "fig, ax = plt.subplots(figsize=(20, 10))\n",
    "sns.barplot(data=cars, x='manufacturer', y='price_difference', estimator=np.median, ax=ax).set(title='Median Price Difference by Manufacturer')\n",
    "plt.xticks(rotation=45)\n",
    "plt.show()\n",
    "\n",
    "# Visualize the average fraudulent status on a separate plot\n",
    "avg_fraudulent_status = cars.groupby('manufacturer')['fraudulent'].mean().reset_index()\n",
    "plt.figure(figsize=(12, 6))\n",
    "sns.barplot(data=avg_fraudulent_status, x='manufacturer', y='fraudulent', color='red').set(title='Average Fraudulent Status by Manufacturer')\n",
    "plt.xticks(rotation=45)\n",
    "plt.show()"
   ]
  },
  {
   "cell_type": "code",
   "execution_count": 205,
   "metadata": {},
   "outputs": [
    {
     "name": "stdout",
     "output_type": "stream",
     "text": [
      "    manufacturer                    model  year  price  kbb_price  \\\n",
      "1           ford                     Edge  2012   5900       7199   \n",
      "2           ford                     F350  2014  29999      16934   \n",
      "4           ford                     F250  2017  42897      21218   \n",
      "6           ford                     F250  2014  39995      14463   \n",
      "7           ford                     F250  2014  33885      14463   \n",
      "..           ...                      ...   ...    ...        ...   \n",
      "166       toyota                     RAV4  2019  27995      22284   \n",
      "169       nissan                    TITAN  2018  28888      14764   \n",
      "170         ford                     F250  2017  38500      21218   \n",
      "172       toyota                    Prius  2013  12248      10574   \n",
      "173    chevrolet  Silverado 1500 Crew Cab  2019  32792      24966   \n",
      "\n",
      "     price_difference_percentage  \n",
      "1                     -18.044173  \n",
      "2                      77.152474  \n",
      "4                     102.172684  \n",
      "6                     176.533223  \n",
      "7                     134.287492  \n",
      "..                           ...  \n",
      "166                    25.628253  \n",
      "169                    95.665131  \n",
      "170                    81.449713  \n",
      "172                    15.831284  \n",
      "173                    31.346631  \n",
      "\n",
      "[117 rows x 6 columns]\n"
     ]
    }
   ],
   "source": [
    "cars['kbb_price'] = pd.to_numeric(cars['kbb_price'], errors='coerce')\n",
    "\n",
    "# Calculate the percentage difference between the actual price and KBB price\n",
    "cars['price_difference_percentage'] = ((cars['price'] - cars['kbb_price']) / cars['kbb_price']) * 100\n",
    "\n",
    "# Set a threshold for percentage difference, beyond which a vehicle is flagged as potentially fraudulent\n",
    "fraud_threshold = 10  # You can adjust this threshold based on your criteria\n",
    "\n",
    "# Create a new column 'fraudulent' to flag potentially fraudulent vehicles\n",
    "cars['fraudulent'] = np.abs(cars['price_difference_percentage']) > fraud_threshold\n",
    "\n",
    "# Print or analyze the flagged vehicles\n",
    "fraudulent_vehicles = cars[cars['fraudulent']]\n",
    "print(fraudulent_vehicles[['manufacturer', 'model', 'year', 'price', 'kbb_price', 'price_difference_percentage']])"
   ]
  },
  {
   "cell_type": "code",
   "execution_count": 90,
   "metadata": {},
   "outputs": [
    {
     "data": {
      "text/plain": [
       "\"\\n#from sklearn.model_selection import train_test_split\\n#from sklearn.ensemble import IsolationForest\\n#from sklearn.preprocessing import StandardScaler\\n#from sklearn.metrics import classification_report\\n\\n#features = ['year', 'odometer']\\n#target = 'price'\\ndata = cars[features + [target]].copy()\\n\\ntrain_data, test_data = train_test_split(data, test_size=0.2, random_state=42)\\n\\nscaler = StandardScaler()\\ntrain_data[features] = scaler.fit_transform(train_data[features])\\ntest_data[features] = scaler.transform(test_data[features])\\n\\nmodel = IsolationForest(contamination=0.05, random_state=42)\\nmodel.fit(train_data[features])\\n\\ntest_data['anomaly_score'] = model.decision_function(test_data[features])\\n\\nthreshold = -0.2\\n\\ntest_data['anomaly'] = test_data['anomaly_score'] < threshold\\n\\nprint(classification_report(test_data[target], ~test_data['anomaly']))\\n\""
      ]
     },
     "execution_count": 90,
     "metadata": {},
     "output_type": "execute_result"
    }
   ],
   "source": [
    "'''\n",
    "#from sklearn.model_selection import train_test_split\n",
    "#from sklearn.ensemble import IsolationForest\n",
    "#from sklearn.preprocessing import StandardScaler\n",
    "#from sklearn.metrics import classification_report\n",
    "\n",
    "#features = ['year', 'odometer']\n",
    "#target = 'price'\n",
    "data = cars[features + [target]].copy()\n",
    "\n",
    "train_data, test_data = train_test_split(data, test_size=0.2, random_state=42)\n",
    "\n",
    "scaler = StandardScaler()\n",
    "train_data[features] = scaler.fit_transform(train_data[features])\n",
    "test_data[features] = scaler.transform(test_data[features])\n",
    "\n",
    "model = IsolationForest(contamination=0.05, random_state=42)\n",
    "model.fit(train_data[features])\n",
    "\n",
    "test_data['anomaly_score'] = model.decision_function(test_data[features])\n",
    "\n",
    "threshold = -0.2\n",
    "\n",
    "test_data['anomaly'] = test_data['anomaly_score'] < threshold\n",
    "\n",
    "print(classification_report(test_data[target], ~test_data['anomaly']))\n",
    "'''\n"
   ]
  }
 ],
 "metadata": {
  "kernelspec": {
   "display_name": "Python 3 (ipykernel)",
   "language": "python",
   "name": "python3"
  },
  "language_info": {
   "codemirror_mode": {
    "name": "ipython",
    "version": 3
   },
   "file_extension": ".py",
   "mimetype": "text/x-python",
   "name": "python",
   "nbconvert_exporter": "python",
   "pygments_lexer": "ipython3",
   "version": "3.11.5"
  }
 },
 "nbformat": 4,
 "nbformat_minor": 4
}
