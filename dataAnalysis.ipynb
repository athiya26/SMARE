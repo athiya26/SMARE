{
 "cells": [
  {
   "cell_type": "code",
   "execution_count": 92,
   "metadata": {},
   "outputs": [
    {
     "data": {
      "application/javascript": "IPython.OutputArea.prototype._should_scroll = function(lines) {\n    return false;\n}\n",
      "text/plain": [
       "<IPython.core.display.Javascript object>"
      ]
     },
     "metadata": {},
     "output_type": "display_data"
    }
   ],
   "source": [
    "%%javascript\n",
    "IPython.OutputArea.prototype._should_scroll = function(lines) {\n",
    "    return false;\n",
    "}"
   ]
  },
  {
   "cell_type": "code",
   "execution_count": 93,
   "metadata": {},
   "outputs": [],
   "source": [
    "# import necessary libraries\n",
    "import pandas as pd\n",
    "import numpy as np\n",
    "import math\n",
    "import seaborn as sns\n",
    "import datetime\n",
    "import matplotlib.pylab as plt\n",
    "import plotly.graph_objects as go\n",
    "from pathlib import Path\n",
    "from matplotlib import pyplot\n",
    "from sklearn.linear_model import LinearRegression\n",
    "from sklearn.model_selection import train_test_split\n",
    "from sklearn.ensemble import RandomForestRegressor\n",
    "from matplotlib.ticker import NullFormatter\n",
    "import matplotlib.ticker as ticker\n",
    "from sklearn.gaussian_process import GaussianProcessRegressor\n",
    "from sklearn.gaussian_process.kernels import WhiteKernel, DotProduct, RBF\n",
    "from sklearn.metrics import mean_squared_error\n",
    "from sklearn.neighbors import KNeighborsRegressor\n",
    "%matplotlib inline"
   ]
  },
  {
   "cell_type": "code",
   "execution_count": 94,
   "metadata": {},
   "outputs": [],
   "source": [
    "cars = pd.read_csv('data.csv')"
   ]
  },
  {
   "cell_type": "code",
   "execution_count": 95,
   "metadata": {
    "scrolled": true
   },
   "outputs": [
    {
     "data": {
      "text/html": [
       "<div>\n",
       "<style scoped>\n",
       "    .dataframe tbody tr th:only-of-type {\n",
       "        vertical-align: middle;\n",
       "    }\n",
       "\n",
       "    .dataframe tbody tr th {\n",
       "        vertical-align: top;\n",
       "    }\n",
       "\n",
       "    .dataframe thead th {\n",
       "        text-align: right;\n",
       "    }\n",
       "</style>\n",
       "<table border=\"1\" class=\"dataframe\">\n",
       "  <thead>\n",
       "    <tr style=\"text-align: right;\">\n",
       "      <th></th>\n",
       "      <th>_id</th>\n",
       "      <th>source</th>\n",
       "      <th>scraper-version</th>\n",
       "      <th>scrape-date</th>\n",
       "      <th>title</th>\n",
       "      <th>price</th>\n",
       "      <th>location</th>\n",
       "      <th>odometer</th>\n",
       "      <th>link</th>\n",
       "      <th>images/0</th>\n",
       "      <th>...</th>\n",
       "      <th>images/14</th>\n",
       "      <th>images/15</th>\n",
       "      <th>images/16</th>\n",
       "      <th>images/17</th>\n",
       "      <th>images/18</th>\n",
       "      <th>images/19</th>\n",
       "      <th>images/20</th>\n",
       "      <th>images/21</th>\n",
       "      <th>images/22</th>\n",
       "      <th>images/23</th>\n",
       "    </tr>\n",
       "  </thead>\n",
       "  <tbody>\n",
       "    <tr>\n",
       "      <th>0</th>\n",
       "      <td>https://facebook.com/marketplace/item/69164597...</td>\n",
       "      <td>facebook</td>\n",
       "      <td>1</td>\n",
       "      <td>2023-11-09</td>\n",
       "      <td>2015 Ram 2500 laramie 4x4 diesel</td>\n",
       "      <td>$4,999</td>\n",
       "      <td>Houston, TX</td>\n",
       "      <td>100K miles</td>\n",
       "      <td>https://facebook.com/marketplace/item/69164597...</td>\n",
       "      <td>https://scontent-dfw5-1.xx.fbcdn.net/v/t39.308...</td>\n",
       "      <td>...</td>\n",
       "      <td>NaN</td>\n",
       "      <td>NaN</td>\n",
       "      <td>NaN</td>\n",
       "      <td>NaN</td>\n",
       "      <td>NaN</td>\n",
       "      <td>NaN</td>\n",
       "      <td>NaN</td>\n",
       "      <td>NaN</td>\n",
       "      <td>NaN</td>\n",
       "      <td>NaN</td>\n",
       "    </tr>\n",
       "    <tr>\n",
       "      <th>1</th>\n",
       "      <td>https://facebook.com/marketplace/item/20974833...</td>\n",
       "      <td>facebook</td>\n",
       "      <td>1</td>\n",
       "      <td>2023-11-09</td>\n",
       "      <td>2022 Chevrolet silverado 1500 crew cab RST Pic...</td>\n",
       "      <td>$52,888</td>\n",
       "      <td>Houston, TX</td>\n",
       "      <td>17K miles · Dealership</td>\n",
       "      <td>https://facebook.com/marketplace/item/20974833...</td>\n",
       "      <td>https://scontent-dfw5-1.xx.fbcdn.net/v/t39.308...</td>\n",
       "      <td>...</td>\n",
       "      <td>NaN</td>\n",
       "      <td>NaN</td>\n",
       "      <td>NaN</td>\n",
       "      <td>NaN</td>\n",
       "      <td>NaN</td>\n",
       "      <td>NaN</td>\n",
       "      <td>NaN</td>\n",
       "      <td>NaN</td>\n",
       "      <td>NaN</td>\n",
       "      <td>NaN</td>\n",
       "    </tr>\n",
       "    <tr>\n",
       "      <th>2</th>\n",
       "      <td>https://facebook.com/marketplace/item/31693791...</td>\n",
       "      <td>facebook</td>\n",
       "      <td>1</td>\n",
       "      <td>2023-11-09</td>\n",
       "      <td>2017 Nissan versa S Sedan 4D</td>\n",
       "      <td>$7,500</td>\n",
       "      <td>Houston, TX</td>\n",
       "      <td>42K miles</td>\n",
       "      <td>https://facebook.com/marketplace/item/31693791...</td>\n",
       "      <td>https://scontent-dfw5-2.xx.fbcdn.net/v/t39.308...</td>\n",
       "      <td>...</td>\n",
       "      <td>NaN</td>\n",
       "      <td>NaN</td>\n",
       "      <td>NaN</td>\n",
       "      <td>NaN</td>\n",
       "      <td>NaN</td>\n",
       "      <td>NaN</td>\n",
       "      <td>NaN</td>\n",
       "      <td>NaN</td>\n",
       "      <td>NaN</td>\n",
       "      <td>NaN</td>\n",
       "    </tr>\n",
       "    <tr>\n",
       "      <th>3</th>\n",
       "      <td>https://facebook.com/marketplace/item/32754086...</td>\n",
       "      <td>facebook</td>\n",
       "      <td>1</td>\n",
       "      <td>2023-11-09</td>\n",
       "      <td>2022 Toyota 4runner TRD Off-Road Premium Sport...</td>\n",
       "      <td>$43,602</td>\n",
       "      <td>Houston, TX</td>\n",
       "      <td>19K miles · Dealership</td>\n",
       "      <td>https://facebook.com/marketplace/item/32754086...</td>\n",
       "      <td>https://scontent-dfw5-2.xx.fbcdn.net/v/t39.308...</td>\n",
       "      <td>...</td>\n",
       "      <td>NaN</td>\n",
       "      <td>NaN</td>\n",
       "      <td>NaN</td>\n",
       "      <td>NaN</td>\n",
       "      <td>NaN</td>\n",
       "      <td>NaN</td>\n",
       "      <td>NaN</td>\n",
       "      <td>NaN</td>\n",
       "      <td>NaN</td>\n",
       "      <td>NaN</td>\n",
       "    </tr>\n",
       "    <tr>\n",
       "      <th>4</th>\n",
       "      <td>https://facebook.com/marketplace/item/60374145...</td>\n",
       "      <td>facebook</td>\n",
       "      <td>1</td>\n",
       "      <td>2023-11-09</td>\n",
       "      <td>2022 Ford f250 super duty crew cab Platinum Pi...</td>\n",
       "      <td>$79,992</td>\n",
       "      <td>Houston, TX</td>\n",
       "      <td>25K miles · Dealership</td>\n",
       "      <td>https://facebook.com/marketplace/item/60374145...</td>\n",
       "      <td>https://scontent-dfw5-1.xx.fbcdn.net/v/t39.308...</td>\n",
       "      <td>...</td>\n",
       "      <td>NaN</td>\n",
       "      <td>NaN</td>\n",
       "      <td>NaN</td>\n",
       "      <td>NaN</td>\n",
       "      <td>NaN</td>\n",
       "      <td>NaN</td>\n",
       "      <td>NaN</td>\n",
       "      <td>NaN</td>\n",
       "      <td>NaN</td>\n",
       "      <td>NaN</td>\n",
       "    </tr>\n",
       "  </tbody>\n",
       "</table>\n",
       "<p>5 rows × 33 columns</p>\n",
       "</div>"
      ],
      "text/plain": [
       "                                                 _id    source  \\\n",
       "0  https://facebook.com/marketplace/item/69164597...  facebook   \n",
       "1  https://facebook.com/marketplace/item/20974833...  facebook   \n",
       "2  https://facebook.com/marketplace/item/31693791...  facebook   \n",
       "3  https://facebook.com/marketplace/item/32754086...  facebook   \n",
       "4  https://facebook.com/marketplace/item/60374145...  facebook   \n",
       "\n",
       "   scraper-version scrape-date  \\\n",
       "0                1  2023-11-09   \n",
       "1                1  2023-11-09   \n",
       "2                1  2023-11-09   \n",
       "3                1  2023-11-09   \n",
       "4                1  2023-11-09   \n",
       "\n",
       "                                               title    price     location  \\\n",
       "0                   2015 Ram 2500 laramie 4x4 diesel   $4,999  Houston, TX   \n",
       "1  2022 Chevrolet silverado 1500 crew cab RST Pic...  $52,888  Houston, TX   \n",
       "2                       2017 Nissan versa S Sedan 4D   $7,500  Houston, TX   \n",
       "3  2022 Toyota 4runner TRD Off-Road Premium Sport...  $43,602  Houston, TX   \n",
       "4  2022 Ford f250 super duty crew cab Platinum Pi...  $79,992  Houston, TX   \n",
       "\n",
       "                 odometer                                               link  \\\n",
       "0              100K miles  https://facebook.com/marketplace/item/69164597...   \n",
       "1  17K miles · Dealership  https://facebook.com/marketplace/item/20974833...   \n",
       "2               42K miles  https://facebook.com/marketplace/item/31693791...   \n",
       "3  19K miles · Dealership  https://facebook.com/marketplace/item/32754086...   \n",
       "4  25K miles · Dealership  https://facebook.com/marketplace/item/60374145...   \n",
       "\n",
       "                                            images/0  ... images/14 images/15  \\\n",
       "0  https://scontent-dfw5-1.xx.fbcdn.net/v/t39.308...  ...       NaN       NaN   \n",
       "1  https://scontent-dfw5-1.xx.fbcdn.net/v/t39.308...  ...       NaN       NaN   \n",
       "2  https://scontent-dfw5-2.xx.fbcdn.net/v/t39.308...  ...       NaN       NaN   \n",
       "3  https://scontent-dfw5-2.xx.fbcdn.net/v/t39.308...  ...       NaN       NaN   \n",
       "4  https://scontent-dfw5-1.xx.fbcdn.net/v/t39.308...  ...       NaN       NaN   \n",
       "\n",
       "  images/16 images/17 images/18 images/19 images/20 images/21 images/22  \\\n",
       "0       NaN       NaN       NaN       NaN       NaN       NaN       NaN   \n",
       "1       NaN       NaN       NaN       NaN       NaN       NaN       NaN   \n",
       "2       NaN       NaN       NaN       NaN       NaN       NaN       NaN   \n",
       "3       NaN       NaN       NaN       NaN       NaN       NaN       NaN   \n",
       "4       NaN       NaN       NaN       NaN       NaN       NaN       NaN   \n",
       "\n",
       "  images/23  \n",
       "0       NaN  \n",
       "1       NaN  \n",
       "2       NaN  \n",
       "3       NaN  \n",
       "4       NaN  \n",
       "\n",
       "[5 rows x 33 columns]"
      ]
     },
     "execution_count": 95,
     "metadata": {},
     "output_type": "execute_result"
    }
   ],
   "source": [
    "cars.head()"
   ]
  },
  {
   "cell_type": "code",
   "execution_count": 96,
   "metadata": {
    "scrolled": true
   },
   "outputs": [
    {
     "data": {
      "text/plain": [
       "137"
      ]
     },
     "execution_count": 96,
     "metadata": {},
     "output_type": "execute_result"
    }
   ],
   "source": [
    "cars.shape[0]"
   ]
  },
  {
   "cell_type": "markdown",
   "metadata": {},
   "source": [
    "## Data Cleaning"
   ]
  },
  {
   "cell_type": "code",
   "execution_count": 97,
   "metadata": {},
   "outputs": [],
   "source": [
    "# drop unnecessary variables: id, url, region_url, VIN, image_url, description, lat, and long\n",
    "cars = cars.drop(columns = ['_id', 'link'])"
   ]
  },
  {
   "cell_type": "code",
   "execution_count": 98,
   "metadata": {
    "scrolled": false
   },
   "outputs": [
    {
     "data": {
      "text/html": [
       "<div>\n",
       "<style scoped>\n",
       "    .dataframe tbody tr th:only-of-type {\n",
       "        vertical-align: middle;\n",
       "    }\n",
       "\n",
       "    .dataframe tbody tr th {\n",
       "        vertical-align: top;\n",
       "    }\n",
       "\n",
       "    .dataframe thead th {\n",
       "        text-align: right;\n",
       "    }\n",
       "</style>\n",
       "<table border=\"1\" class=\"dataframe\">\n",
       "  <thead>\n",
       "    <tr style=\"text-align: right;\">\n",
       "      <th></th>\n",
       "      <th>source</th>\n",
       "      <th>scraper-version</th>\n",
       "      <th>scrape-date</th>\n",
       "      <th>title</th>\n",
       "      <th>price</th>\n",
       "      <th>location</th>\n",
       "      <th>odometer</th>\n",
       "      <th>images/0</th>\n",
       "      <th>images/1</th>\n",
       "      <th>images/2</th>\n",
       "      <th>...</th>\n",
       "      <th>images/14</th>\n",
       "      <th>images/15</th>\n",
       "      <th>images/16</th>\n",
       "      <th>images/17</th>\n",
       "      <th>images/18</th>\n",
       "      <th>images/19</th>\n",
       "      <th>images/20</th>\n",
       "      <th>images/21</th>\n",
       "      <th>images/22</th>\n",
       "      <th>images/23</th>\n",
       "    </tr>\n",
       "  </thead>\n",
       "  <tbody>\n",
       "    <tr>\n",
       "      <th>0</th>\n",
       "      <td>facebook</td>\n",
       "      <td>1</td>\n",
       "      <td>2023-11-09</td>\n",
       "      <td>2015 Ram 2500 laramie 4x4 diesel</td>\n",
       "      <td>$4,999</td>\n",
       "      <td>Houston, TX</td>\n",
       "      <td>100K miles</td>\n",
       "      <td>https://scontent-dfw5-1.xx.fbcdn.net/v/t39.308...</td>\n",
       "      <td>NaN</td>\n",
       "      <td>NaN</td>\n",
       "      <td>...</td>\n",
       "      <td>NaN</td>\n",
       "      <td>NaN</td>\n",
       "      <td>NaN</td>\n",
       "      <td>NaN</td>\n",
       "      <td>NaN</td>\n",
       "      <td>NaN</td>\n",
       "      <td>NaN</td>\n",
       "      <td>NaN</td>\n",
       "      <td>NaN</td>\n",
       "      <td>NaN</td>\n",
       "    </tr>\n",
       "    <tr>\n",
       "      <th>1</th>\n",
       "      <td>facebook</td>\n",
       "      <td>1</td>\n",
       "      <td>2023-11-09</td>\n",
       "      <td>2022 Chevrolet silverado 1500 crew cab RST Pic...</td>\n",
       "      <td>$52,888</td>\n",
       "      <td>Houston, TX</td>\n",
       "      <td>17K miles · Dealership</td>\n",
       "      <td>https://scontent-dfw5-1.xx.fbcdn.net/v/t39.308...</td>\n",
       "      <td>NaN</td>\n",
       "      <td>NaN</td>\n",
       "      <td>...</td>\n",
       "      <td>NaN</td>\n",
       "      <td>NaN</td>\n",
       "      <td>NaN</td>\n",
       "      <td>NaN</td>\n",
       "      <td>NaN</td>\n",
       "      <td>NaN</td>\n",
       "      <td>NaN</td>\n",
       "      <td>NaN</td>\n",
       "      <td>NaN</td>\n",
       "      <td>NaN</td>\n",
       "    </tr>\n",
       "    <tr>\n",
       "      <th>2</th>\n",
       "      <td>facebook</td>\n",
       "      <td>1</td>\n",
       "      <td>2023-11-09</td>\n",
       "      <td>2017 Nissan versa S Sedan 4D</td>\n",
       "      <td>$7,500</td>\n",
       "      <td>Houston, TX</td>\n",
       "      <td>42K miles</td>\n",
       "      <td>https://scontent-dfw5-2.xx.fbcdn.net/v/t39.308...</td>\n",
       "      <td>NaN</td>\n",
       "      <td>NaN</td>\n",
       "      <td>...</td>\n",
       "      <td>NaN</td>\n",
       "      <td>NaN</td>\n",
       "      <td>NaN</td>\n",
       "      <td>NaN</td>\n",
       "      <td>NaN</td>\n",
       "      <td>NaN</td>\n",
       "      <td>NaN</td>\n",
       "      <td>NaN</td>\n",
       "      <td>NaN</td>\n",
       "      <td>NaN</td>\n",
       "    </tr>\n",
       "    <tr>\n",
       "      <th>3</th>\n",
       "      <td>facebook</td>\n",
       "      <td>1</td>\n",
       "      <td>2023-11-09</td>\n",
       "      <td>2022 Toyota 4runner TRD Off-Road Premium Sport...</td>\n",
       "      <td>$43,602</td>\n",
       "      <td>Houston, TX</td>\n",
       "      <td>19K miles · Dealership</td>\n",
       "      <td>https://scontent-dfw5-2.xx.fbcdn.net/v/t39.308...</td>\n",
       "      <td>NaN</td>\n",
       "      <td>NaN</td>\n",
       "      <td>...</td>\n",
       "      <td>NaN</td>\n",
       "      <td>NaN</td>\n",
       "      <td>NaN</td>\n",
       "      <td>NaN</td>\n",
       "      <td>NaN</td>\n",
       "      <td>NaN</td>\n",
       "      <td>NaN</td>\n",
       "      <td>NaN</td>\n",
       "      <td>NaN</td>\n",
       "      <td>NaN</td>\n",
       "    </tr>\n",
       "    <tr>\n",
       "      <th>4</th>\n",
       "      <td>facebook</td>\n",
       "      <td>1</td>\n",
       "      <td>2023-11-09</td>\n",
       "      <td>2022 Ford f250 super duty crew cab Platinum Pi...</td>\n",
       "      <td>$79,992</td>\n",
       "      <td>Houston, TX</td>\n",
       "      <td>25K miles · Dealership</td>\n",
       "      <td>https://scontent-dfw5-1.xx.fbcdn.net/v/t39.308...</td>\n",
       "      <td>NaN</td>\n",
       "      <td>NaN</td>\n",
       "      <td>...</td>\n",
       "      <td>NaN</td>\n",
       "      <td>NaN</td>\n",
       "      <td>NaN</td>\n",
       "      <td>NaN</td>\n",
       "      <td>NaN</td>\n",
       "      <td>NaN</td>\n",
       "      <td>NaN</td>\n",
       "      <td>NaN</td>\n",
       "      <td>NaN</td>\n",
       "      <td>NaN</td>\n",
       "    </tr>\n",
       "  </tbody>\n",
       "</table>\n",
       "<p>5 rows × 31 columns</p>\n",
       "</div>"
      ],
      "text/plain": [
       "     source  scraper-version scrape-date  \\\n",
       "0  facebook                1  2023-11-09   \n",
       "1  facebook                1  2023-11-09   \n",
       "2  facebook                1  2023-11-09   \n",
       "3  facebook                1  2023-11-09   \n",
       "4  facebook                1  2023-11-09   \n",
       "\n",
       "                                               title    price     location  \\\n",
       "0                   2015 Ram 2500 laramie 4x4 diesel   $4,999  Houston, TX   \n",
       "1  2022 Chevrolet silverado 1500 crew cab RST Pic...  $52,888  Houston, TX   \n",
       "2                       2017 Nissan versa S Sedan 4D   $7,500  Houston, TX   \n",
       "3  2022 Toyota 4runner TRD Off-Road Premium Sport...  $43,602  Houston, TX   \n",
       "4  2022 Ford f250 super duty crew cab Platinum Pi...  $79,992  Houston, TX   \n",
       "\n",
       "                 odometer                                           images/0  \\\n",
       "0              100K miles  https://scontent-dfw5-1.xx.fbcdn.net/v/t39.308...   \n",
       "1  17K miles · Dealership  https://scontent-dfw5-1.xx.fbcdn.net/v/t39.308...   \n",
       "2               42K miles  https://scontent-dfw5-2.xx.fbcdn.net/v/t39.308...   \n",
       "3  19K miles · Dealership  https://scontent-dfw5-2.xx.fbcdn.net/v/t39.308...   \n",
       "4  25K miles · Dealership  https://scontent-dfw5-1.xx.fbcdn.net/v/t39.308...   \n",
       "\n",
       "  images/1 images/2  ... images/14 images/15 images/16 images/17 images/18  \\\n",
       "0      NaN      NaN  ...       NaN       NaN       NaN       NaN       NaN   \n",
       "1      NaN      NaN  ...       NaN       NaN       NaN       NaN       NaN   \n",
       "2      NaN      NaN  ...       NaN       NaN       NaN       NaN       NaN   \n",
       "3      NaN      NaN  ...       NaN       NaN       NaN       NaN       NaN   \n",
       "4      NaN      NaN  ...       NaN       NaN       NaN       NaN       NaN   \n",
       "\n",
       "  images/19 images/20 images/21 images/22 images/23  \n",
       "0       NaN       NaN       NaN       NaN       NaN  \n",
       "1       NaN       NaN       NaN       NaN       NaN  \n",
       "2       NaN       NaN       NaN       NaN       NaN  \n",
       "3       NaN       NaN       NaN       NaN       NaN  \n",
       "4       NaN       NaN       NaN       NaN       NaN  \n",
       "\n",
       "[5 rows x 31 columns]"
      ]
     },
     "execution_count": 98,
     "metadata": {},
     "output_type": "execute_result"
    }
   ],
   "source": [
    "cars.head()"
   ]
  },
  {
   "cell_type": "code",
   "execution_count": 99,
   "metadata": {
    "scrolled": true
   },
   "outputs": [
    {
     "data": {
      "text/plain": [
       "source               0\n",
       "scraper-version      0\n",
       "scrape-date          0\n",
       "title                0\n",
       "price                0\n",
       "location             0\n",
       "odometer            13\n",
       "images/0             0\n",
       "images/1            87\n",
       "images/2            87\n",
       "images/3            87\n",
       "images/4            88\n",
       "images/5            89\n",
       "images/6            89\n",
       "images/7            92\n",
       "images/8            94\n",
       "images/9            96\n",
       "images/10           99\n",
       "images/11           99\n",
       "images/12          100\n",
       "images/13          100\n",
       "images/14          101\n",
       "images/15          101\n",
       "images/16          101\n",
       "images/17          101\n",
       "images/18          103\n",
       "images/19          103\n",
       "images/20          104\n",
       "images/21          105\n",
       "images/22          107\n",
       "images/23          109\n",
       "dtype: int64"
      ]
     },
     "execution_count": 99,
     "metadata": {},
     "output_type": "execute_result"
    }
   ],
   "source": [
    "# look at the number of NA values by column\n",
    "cars.isna().sum()"
   ]
  },
  {
   "cell_type": "code",
   "execution_count": 100,
   "metadata": {},
   "outputs": [],
   "source": [
    "cars = cars.drop(columns = ['images/23','images/22','images/21','images/20','images/19','images/18','images/17','images/16','images/15','images/14','images/13','images/12','images/11','images/10','images/9','images/8', 'images/7','images/6','images/5','images/4','images/3','images/2','images/1'])"
   ]
  },
  {
   "cell_type": "code",
   "execution_count": 101,
   "metadata": {
    "scrolled": true
   },
   "outputs": [
    {
     "data": {
      "text/html": [
       "<div>\n",
       "<style scoped>\n",
       "    .dataframe tbody tr th:only-of-type {\n",
       "        vertical-align: middle;\n",
       "    }\n",
       "\n",
       "    .dataframe tbody tr th {\n",
       "        vertical-align: top;\n",
       "    }\n",
       "\n",
       "    .dataframe thead th {\n",
       "        text-align: right;\n",
       "    }\n",
       "</style>\n",
       "<table border=\"1\" class=\"dataframe\">\n",
       "  <thead>\n",
       "    <tr style=\"text-align: right;\">\n",
       "      <th></th>\n",
       "      <th>source</th>\n",
       "      <th>scraper-version</th>\n",
       "      <th>scrape-date</th>\n",
       "      <th>title</th>\n",
       "      <th>price</th>\n",
       "      <th>location</th>\n",
       "      <th>odometer</th>\n",
       "      <th>images/0</th>\n",
       "    </tr>\n",
       "  </thead>\n",
       "  <tbody>\n",
       "    <tr>\n",
       "      <th>0</th>\n",
       "      <td>facebook</td>\n",
       "      <td>1</td>\n",
       "      <td>2023-11-09</td>\n",
       "      <td>2015 Ram 2500 laramie 4x4 diesel</td>\n",
       "      <td>$4,999</td>\n",
       "      <td>Houston, TX</td>\n",
       "      <td>100K miles</td>\n",
       "      <td>https://scontent-dfw5-1.xx.fbcdn.net/v/t39.308...</td>\n",
       "    </tr>\n",
       "    <tr>\n",
       "      <th>1</th>\n",
       "      <td>facebook</td>\n",
       "      <td>1</td>\n",
       "      <td>2023-11-09</td>\n",
       "      <td>2022 Chevrolet silverado 1500 crew cab RST Pic...</td>\n",
       "      <td>$52,888</td>\n",
       "      <td>Houston, TX</td>\n",
       "      <td>17K miles · Dealership</td>\n",
       "      <td>https://scontent-dfw5-1.xx.fbcdn.net/v/t39.308...</td>\n",
       "    </tr>\n",
       "    <tr>\n",
       "      <th>2</th>\n",
       "      <td>facebook</td>\n",
       "      <td>1</td>\n",
       "      <td>2023-11-09</td>\n",
       "      <td>2017 Nissan versa S Sedan 4D</td>\n",
       "      <td>$7,500</td>\n",
       "      <td>Houston, TX</td>\n",
       "      <td>42K miles</td>\n",
       "      <td>https://scontent-dfw5-2.xx.fbcdn.net/v/t39.308...</td>\n",
       "    </tr>\n",
       "    <tr>\n",
       "      <th>3</th>\n",
       "      <td>facebook</td>\n",
       "      <td>1</td>\n",
       "      <td>2023-11-09</td>\n",
       "      <td>2022 Toyota 4runner TRD Off-Road Premium Sport...</td>\n",
       "      <td>$43,602</td>\n",
       "      <td>Houston, TX</td>\n",
       "      <td>19K miles · Dealership</td>\n",
       "      <td>https://scontent-dfw5-2.xx.fbcdn.net/v/t39.308...</td>\n",
       "    </tr>\n",
       "    <tr>\n",
       "      <th>4</th>\n",
       "      <td>facebook</td>\n",
       "      <td>1</td>\n",
       "      <td>2023-11-09</td>\n",
       "      <td>2022 Ford f250 super duty crew cab Platinum Pi...</td>\n",
       "      <td>$79,992</td>\n",
       "      <td>Houston, TX</td>\n",
       "      <td>25K miles · Dealership</td>\n",
       "      <td>https://scontent-dfw5-1.xx.fbcdn.net/v/t39.308...</td>\n",
       "    </tr>\n",
       "  </tbody>\n",
       "</table>\n",
       "</div>"
      ],
      "text/plain": [
       "     source  scraper-version scrape-date  \\\n",
       "0  facebook                1  2023-11-09   \n",
       "1  facebook                1  2023-11-09   \n",
       "2  facebook                1  2023-11-09   \n",
       "3  facebook                1  2023-11-09   \n",
       "4  facebook                1  2023-11-09   \n",
       "\n",
       "                                               title    price     location  \\\n",
       "0                   2015 Ram 2500 laramie 4x4 diesel   $4,999  Houston, TX   \n",
       "1  2022 Chevrolet silverado 1500 crew cab RST Pic...  $52,888  Houston, TX   \n",
       "2                       2017 Nissan versa S Sedan 4D   $7,500  Houston, TX   \n",
       "3  2022 Toyota 4runner TRD Off-Road Premium Sport...  $43,602  Houston, TX   \n",
       "4  2022 Ford f250 super duty crew cab Platinum Pi...  $79,992  Houston, TX   \n",
       "\n",
       "                 odometer                                           images/0  \n",
       "0              100K miles  https://scontent-dfw5-1.xx.fbcdn.net/v/t39.308...  \n",
       "1  17K miles · Dealership  https://scontent-dfw5-1.xx.fbcdn.net/v/t39.308...  \n",
       "2               42K miles  https://scontent-dfw5-2.xx.fbcdn.net/v/t39.308...  \n",
       "3  19K miles · Dealership  https://scontent-dfw5-2.xx.fbcdn.net/v/t39.308...  \n",
       "4  25K miles · Dealership  https://scontent-dfw5-1.xx.fbcdn.net/v/t39.308...  "
      ]
     },
     "execution_count": 101,
     "metadata": {},
     "output_type": "execute_result"
    }
   ],
   "source": [
    "cars.head()"
   ]
  },
  {
   "cell_type": "code",
   "execution_count": 102,
   "metadata": {},
   "outputs": [
    {
     "data": {
      "text/plain": [
       "137"
      ]
     },
     "execution_count": 102,
     "metadata": {},
     "output_type": "execute_result"
    }
   ],
   "source": [
    "cars.shape[0]"
   ]
  },
  {
   "cell_type": "code",
   "execution_count": 103,
   "metadata": {},
   "outputs": [],
   "source": [
    "# drop NA values\n",
    "cars = cars.dropna()"
   ]
  },
  {
   "cell_type": "code",
   "execution_count": 104,
   "metadata": {},
   "outputs": [
    {
     "data": {
      "text/plain": [
       "124"
      ]
     },
     "execution_count": 104,
     "metadata": {},
     "output_type": "execute_result"
    }
   ],
   "source": [
    "cars.shape[0]"
   ]
  },
  {
   "cell_type": "code",
   "execution_count": 105,
   "metadata": {
    "scrolled": true
   },
   "outputs": [
    {
     "data": {
      "text/html": [
       "<div>\n",
       "<style scoped>\n",
       "    .dataframe tbody tr th:only-of-type {\n",
       "        vertical-align: middle;\n",
       "    }\n",
       "\n",
       "    .dataframe tbody tr th {\n",
       "        vertical-align: top;\n",
       "    }\n",
       "\n",
       "    .dataframe thead th {\n",
       "        text-align: right;\n",
       "    }\n",
       "</style>\n",
       "<table border=\"1\" class=\"dataframe\">\n",
       "  <thead>\n",
       "    <tr style=\"text-align: right;\">\n",
       "      <th></th>\n",
       "      <th>source</th>\n",
       "      <th>scraper-version</th>\n",
       "      <th>scrape-date</th>\n",
       "      <th>title</th>\n",
       "      <th>price</th>\n",
       "      <th>location</th>\n",
       "      <th>odometer</th>\n",
       "      <th>images/0</th>\n",
       "    </tr>\n",
       "  </thead>\n",
       "  <tbody>\n",
       "    <tr>\n",
       "      <th>0</th>\n",
       "      <td>facebook</td>\n",
       "      <td>1</td>\n",
       "      <td>2023-11-09</td>\n",
       "      <td>2015 Ram 2500 laramie 4x4 diesel</td>\n",
       "      <td>$4,999</td>\n",
       "      <td>Houston, TX</td>\n",
       "      <td>100K miles</td>\n",
       "      <td>https://scontent-dfw5-1.xx.fbcdn.net/v/t39.308...</td>\n",
       "    </tr>\n",
       "    <tr>\n",
       "      <th>1</th>\n",
       "      <td>facebook</td>\n",
       "      <td>1</td>\n",
       "      <td>2023-11-09</td>\n",
       "      <td>2022 Chevrolet silverado 1500 crew cab RST Pic...</td>\n",
       "      <td>$52,888</td>\n",
       "      <td>Houston, TX</td>\n",
       "      <td>17K miles · Dealership</td>\n",
       "      <td>https://scontent-dfw5-1.xx.fbcdn.net/v/t39.308...</td>\n",
       "    </tr>\n",
       "    <tr>\n",
       "      <th>2</th>\n",
       "      <td>facebook</td>\n",
       "      <td>1</td>\n",
       "      <td>2023-11-09</td>\n",
       "      <td>2017 Nissan versa S Sedan 4D</td>\n",
       "      <td>$7,500</td>\n",
       "      <td>Houston, TX</td>\n",
       "      <td>42K miles</td>\n",
       "      <td>https://scontent-dfw5-2.xx.fbcdn.net/v/t39.308...</td>\n",
       "    </tr>\n",
       "    <tr>\n",
       "      <th>3</th>\n",
       "      <td>facebook</td>\n",
       "      <td>1</td>\n",
       "      <td>2023-11-09</td>\n",
       "      <td>2022 Toyota 4runner TRD Off-Road Premium Sport...</td>\n",
       "      <td>$43,602</td>\n",
       "      <td>Houston, TX</td>\n",
       "      <td>19K miles · Dealership</td>\n",
       "      <td>https://scontent-dfw5-2.xx.fbcdn.net/v/t39.308...</td>\n",
       "    </tr>\n",
       "    <tr>\n",
       "      <th>4</th>\n",
       "      <td>facebook</td>\n",
       "      <td>1</td>\n",
       "      <td>2023-11-09</td>\n",
       "      <td>2022 Ford f250 super duty crew cab Platinum Pi...</td>\n",
       "      <td>$79,992</td>\n",
       "      <td>Houston, TX</td>\n",
       "      <td>25K miles · Dealership</td>\n",
       "      <td>https://scontent-dfw5-1.xx.fbcdn.net/v/t39.308...</td>\n",
       "    </tr>\n",
       "  </tbody>\n",
       "</table>\n",
       "</div>"
      ],
      "text/plain": [
       "     source  scraper-version scrape-date  \\\n",
       "0  facebook                1  2023-11-09   \n",
       "1  facebook                1  2023-11-09   \n",
       "2  facebook                1  2023-11-09   \n",
       "3  facebook                1  2023-11-09   \n",
       "4  facebook                1  2023-11-09   \n",
       "\n",
       "                                               title    price     location  \\\n",
       "0                   2015 Ram 2500 laramie 4x4 diesel   $4,999  Houston, TX   \n",
       "1  2022 Chevrolet silverado 1500 crew cab RST Pic...  $52,888  Houston, TX   \n",
       "2                       2017 Nissan versa S Sedan 4D   $7,500  Houston, TX   \n",
       "3  2022 Toyota 4runner TRD Off-Road Premium Sport...  $43,602  Houston, TX   \n",
       "4  2022 Ford f250 super duty crew cab Platinum Pi...  $79,992  Houston, TX   \n",
       "\n",
       "                 odometer                                           images/0  \n",
       "0              100K miles  https://scontent-dfw5-1.xx.fbcdn.net/v/t39.308...  \n",
       "1  17K miles · Dealership  https://scontent-dfw5-1.xx.fbcdn.net/v/t39.308...  \n",
       "2               42K miles  https://scontent-dfw5-2.xx.fbcdn.net/v/t39.308...  \n",
       "3  19K miles · Dealership  https://scontent-dfw5-2.xx.fbcdn.net/v/t39.308...  \n",
       "4  25K miles · Dealership  https://scontent-dfw5-1.xx.fbcdn.net/v/t39.308...  "
      ]
     },
     "execution_count": 105,
     "metadata": {},
     "output_type": "execute_result"
    }
   ],
   "source": [
    "cars.head()"
   ]
  },
  {
   "cell_type": "code",
   "execution_count": 106,
   "metadata": {
    "scrolled": true
   },
   "outputs": [],
   "source": [
    "# convert year and odometer to integer values\n",
    "#cars['odometer'] = cars['odometer'].str.replace('K', '').str.replace(' miles', '').astype(int) * 1000\n",
    "#cars['odometer'] = cars['odometer'].str.replace('K miles', '').str.replace(' miles · Dealership', '').astype(float).astype(int) * 1000\n",
    "import re\n",
    "cars['odometer'] = cars['odometer'].apply(lambda x: int(re.search(r'\\d+', str(x)).group(0)) if re.search(r'\\d+', str(x)) else None)\n",
    "cars['year'] = cars['title'].str.extract(r'(\\d{4})')\n",
    "# Fill NaN values in the 'year' column with a placeholder (you can choose a value that makes sense)\n",
    "cars['year'].fillna(-1, inplace=True)\n",
    "cars = cars.astype({'year':'int', 'odometer':'int'})"
   ]
  },
  {
   "cell_type": "code",
   "execution_count": 107,
   "metadata": {},
   "outputs": [],
   "source": [
    "# create an age variable to get a better understanding of how old a car is\n",
    "cars['age'] = datetime.date.today().year - cars['year']"
   ]
  },
  {
   "cell_type": "code",
   "execution_count": 108,
   "metadata": {
    "scrolled": true
   },
   "outputs": [
    {
     "data": {
      "text/html": [
       "<div>\n",
       "<style scoped>\n",
       "    .dataframe tbody tr th:only-of-type {\n",
       "        vertical-align: middle;\n",
       "    }\n",
       "\n",
       "    .dataframe tbody tr th {\n",
       "        vertical-align: top;\n",
       "    }\n",
       "\n",
       "    .dataframe thead th {\n",
       "        text-align: right;\n",
       "    }\n",
       "</style>\n",
       "<table border=\"1\" class=\"dataframe\">\n",
       "  <thead>\n",
       "    <tr style=\"text-align: right;\">\n",
       "      <th></th>\n",
       "      <th>source</th>\n",
       "      <th>scraper-version</th>\n",
       "      <th>scrape-date</th>\n",
       "      <th>title</th>\n",
       "      <th>price</th>\n",
       "      <th>location</th>\n",
       "      <th>odometer</th>\n",
       "      <th>images/0</th>\n",
       "      <th>year</th>\n",
       "      <th>age</th>\n",
       "    </tr>\n",
       "  </thead>\n",
       "  <tbody>\n",
       "    <tr>\n",
       "      <th>0</th>\n",
       "      <td>facebook</td>\n",
       "      <td>1</td>\n",
       "      <td>2023-11-09</td>\n",
       "      <td>2015 Ram 2500 laramie 4x4 diesel</td>\n",
       "      <td>$4,999</td>\n",
       "      <td>Houston, TX</td>\n",
       "      <td>100</td>\n",
       "      <td>https://scontent-dfw5-1.xx.fbcdn.net/v/t39.308...</td>\n",
       "      <td>2015</td>\n",
       "      <td>8</td>\n",
       "    </tr>\n",
       "    <tr>\n",
       "      <th>1</th>\n",
       "      <td>facebook</td>\n",
       "      <td>1</td>\n",
       "      <td>2023-11-09</td>\n",
       "      <td>2022 Chevrolet silverado 1500 crew cab RST Pic...</td>\n",
       "      <td>$52,888</td>\n",
       "      <td>Houston, TX</td>\n",
       "      <td>17</td>\n",
       "      <td>https://scontent-dfw5-1.xx.fbcdn.net/v/t39.308...</td>\n",
       "      <td>2022</td>\n",
       "      <td>1</td>\n",
       "    </tr>\n",
       "    <tr>\n",
       "      <th>2</th>\n",
       "      <td>facebook</td>\n",
       "      <td>1</td>\n",
       "      <td>2023-11-09</td>\n",
       "      <td>2017 Nissan versa S Sedan 4D</td>\n",
       "      <td>$7,500</td>\n",
       "      <td>Houston, TX</td>\n",
       "      <td>42</td>\n",
       "      <td>https://scontent-dfw5-2.xx.fbcdn.net/v/t39.308...</td>\n",
       "      <td>2017</td>\n",
       "      <td>6</td>\n",
       "    </tr>\n",
       "    <tr>\n",
       "      <th>3</th>\n",
       "      <td>facebook</td>\n",
       "      <td>1</td>\n",
       "      <td>2023-11-09</td>\n",
       "      <td>2022 Toyota 4runner TRD Off-Road Premium Sport...</td>\n",
       "      <td>$43,602</td>\n",
       "      <td>Houston, TX</td>\n",
       "      <td>19</td>\n",
       "      <td>https://scontent-dfw5-2.xx.fbcdn.net/v/t39.308...</td>\n",
       "      <td>2022</td>\n",
       "      <td>1</td>\n",
       "    </tr>\n",
       "    <tr>\n",
       "      <th>4</th>\n",
       "      <td>facebook</td>\n",
       "      <td>1</td>\n",
       "      <td>2023-11-09</td>\n",
       "      <td>2022 Ford f250 super duty crew cab Platinum Pi...</td>\n",
       "      <td>$79,992</td>\n",
       "      <td>Houston, TX</td>\n",
       "      <td>25</td>\n",
       "      <td>https://scontent-dfw5-1.xx.fbcdn.net/v/t39.308...</td>\n",
       "      <td>2022</td>\n",
       "      <td>1</td>\n",
       "    </tr>\n",
       "  </tbody>\n",
       "</table>\n",
       "</div>"
      ],
      "text/plain": [
       "     source  scraper-version scrape-date  \\\n",
       "0  facebook                1  2023-11-09   \n",
       "1  facebook                1  2023-11-09   \n",
       "2  facebook                1  2023-11-09   \n",
       "3  facebook                1  2023-11-09   \n",
       "4  facebook                1  2023-11-09   \n",
       "\n",
       "                                               title    price     location  \\\n",
       "0                   2015 Ram 2500 laramie 4x4 diesel   $4,999  Houston, TX   \n",
       "1  2022 Chevrolet silverado 1500 crew cab RST Pic...  $52,888  Houston, TX   \n",
       "2                       2017 Nissan versa S Sedan 4D   $7,500  Houston, TX   \n",
       "3  2022 Toyota 4runner TRD Off-Road Premium Sport...  $43,602  Houston, TX   \n",
       "4  2022 Ford f250 super duty crew cab Platinum Pi...  $79,992  Houston, TX   \n",
       "\n",
       "   odometer                                           images/0  year  age  \n",
       "0       100  https://scontent-dfw5-1.xx.fbcdn.net/v/t39.308...  2015    8  \n",
       "1        17  https://scontent-dfw5-1.xx.fbcdn.net/v/t39.308...  2022    1  \n",
       "2        42  https://scontent-dfw5-2.xx.fbcdn.net/v/t39.308...  2017    6  \n",
       "3        19  https://scontent-dfw5-2.xx.fbcdn.net/v/t39.308...  2022    1  \n",
       "4        25  https://scontent-dfw5-1.xx.fbcdn.net/v/t39.308...  2022    1  "
      ]
     },
     "execution_count": 108,
     "metadata": {},
     "output_type": "execute_result"
    }
   ],
   "source": [
    "cars.head()"
   ]
  },
  {
   "cell_type": "markdown",
   "metadata": {},
   "source": [
    "## Data Exploration"
   ]
  },
  {
   "cell_type": "code",
   "execution_count": 109,
   "metadata": {
    "scrolled": false
   },
   "outputs": [
    {
     "data": {
      "text/plain": [
       "[Text(0.5, 1.0, 'Distribution of Car Ages')]"
      ]
     },
     "execution_count": 109,
     "metadata": {},
     "output_type": "execute_result"
    },
    {
     "data": {
      "image/png": "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",
      "text/plain": [
       "<Figure size 640x480 with 1 Axes>"
      ]
     },
     "metadata": {},
     "output_type": "display_data"
    }
   ],
   "source": [
    "sns.histplot(data = cars, x = 'age', binwidth = 5).set(title = 'Distribution of Car Ages')"
   ]
  },
  {
   "cell_type": "code",
   "execution_count": 110,
   "metadata": {
    "scrolled": true
   },
   "outputs": [
    {
     "data": {
      "text/html": [
       "<div>\n",
       "<style scoped>\n",
       "    .dataframe tbody tr th:only-of-type {\n",
       "        vertical-align: middle;\n",
       "    }\n",
       "\n",
       "    .dataframe tbody tr th {\n",
       "        vertical-align: top;\n",
       "    }\n",
       "\n",
       "    .dataframe thead th {\n",
       "        text-align: right;\n",
       "    }\n",
       "</style>\n",
       "<table border=\"1\" class=\"dataframe\">\n",
       "  <thead>\n",
       "    <tr style=\"text-align: right;\">\n",
       "      <th></th>\n",
       "      <th>source</th>\n",
       "      <th>scraper-version</th>\n",
       "      <th>scrape-date</th>\n",
       "      <th>title</th>\n",
       "      <th>price</th>\n",
       "      <th>location</th>\n",
       "      <th>odometer</th>\n",
       "      <th>images/0</th>\n",
       "      <th>year</th>\n",
       "      <th>age</th>\n",
       "    </tr>\n",
       "  </thead>\n",
       "  <tbody>\n",
       "    <tr>\n",
       "      <th>36</th>\n",
       "      <td>craigslist</td>\n",
       "      <td>1</td>\n",
       "      <td>2023-11-09</td>\n",
       "      <td>Hyundai n line night edition</td>\n",
       "      <td>$1</td>\n",
       "      <td>Abilene</td>\n",
       "      <td>43</td>\n",
       "      <td>https://images.craigslist.org/00d0d_kxEDyPhcMM...</td>\n",
       "      <td>-1</td>\n",
       "      <td>2024</td>\n",
       "    </tr>\n",
       "    <tr>\n",
       "      <th>70</th>\n",
       "      <td>craigslist</td>\n",
       "      <td>1</td>\n",
       "      <td>2023-11-09</td>\n",
       "      <td>Hyundai elantra</td>\n",
       "      <td>$7,000</td>\n",
       "      <td>ABILENE</td>\n",
       "      <td>151</td>\n",
       "      <td>https://images.craigslist.org/00B0B_fuirQWEg2J...</td>\n",
       "      <td>-1</td>\n",
       "      <td>2024</td>\n",
       "    </tr>\n",
       "    <tr>\n",
       "      <th>74</th>\n",
       "      <td>craigslist</td>\n",
       "      <td>1</td>\n",
       "      <td>2023-11-09</td>\n",
       "      <td>CHEV IMPALA</td>\n",
       "      <td>$5,000</td>\n",
       "      <td>ABILENE</td>\n",
       "      <td>251</td>\n",
       "      <td>https://images.craigslist.org/00l0l_9S7wq3loXa...</td>\n",
       "      <td>-1</td>\n",
       "      <td>2024</td>\n",
       "    </tr>\n",
       "  </tbody>\n",
       "</table>\n",
       "</div>"
      ],
      "text/plain": [
       "        source  scraper-version scrape-date                         title  \\\n",
       "36  craigslist                1  2023-11-09  Hyundai n line night edition   \n",
       "70  craigslist                1  2023-11-09               Hyundai elantra   \n",
       "74  craigslist                1  2023-11-09                   CHEV IMPALA   \n",
       "\n",
       "     price location  odometer  \\\n",
       "36      $1  Abilene        43   \n",
       "70  $7,000  ABILENE       151   \n",
       "74  $5,000  ABILENE       251   \n",
       "\n",
       "                                             images/0  year   age  \n",
       "36  https://images.craigslist.org/00d0d_kxEDyPhcMM...    -1  2024  \n",
       "70  https://images.craigslist.org/00B0B_fuirQWEg2J...    -1  2024  \n",
       "74  https://images.craigslist.org/00l0l_9S7wq3loXa...    -1  2024  "
      ]
     },
     "execution_count": 110,
     "metadata": {},
     "output_type": "execute_result"
    }
   ],
   "source": [
    "cars[cars['year'] < 1990]"
   ]
  },
  {
   "cell_type": "code",
   "execution_count": 111,
   "metadata": {},
   "outputs": [],
   "source": [
    "cars = cars[cars.year >= 2005]"
   ]
  },
  {
   "cell_type": "code",
   "execution_count": 112,
   "metadata": {},
   "outputs": [
    {
     "data": {
      "text/plain": [
       "121"
      ]
     },
     "execution_count": 112,
     "metadata": {},
     "output_type": "execute_result"
    }
   ],
   "source": [
    "cars.shape[0]"
   ]
  },
  {
   "cell_type": "code",
   "execution_count": 113,
   "metadata": {},
   "outputs": [
    {
     "data": {
      "text/plain": [
       "[Text(0.5, 1.0, 'Distribution of Car Ages')]"
      ]
     },
     "execution_count": 113,
     "metadata": {},
     "output_type": "execute_result"
    },
    {
     "data": {
      "image/png": "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",
      "text/plain": [
       "<Figure size 640x480 with 1 Axes>"
      ]
     },
     "metadata": {},
     "output_type": "display_data"
    }
   ],
   "source": [
    "# looking again at the distribution of ages\n",
    "sns.histplot(data = cars, x = 'age', binwidth = 1).set(title = 'Distribution of Car Ages')"
   ]
  },
  {
   "cell_type": "code",
   "execution_count": 114,
   "metadata": {},
   "outputs": [
    {
     "data": {
      "text/plain": [
       "121"
      ]
     },
     "execution_count": 114,
     "metadata": {},
     "output_type": "execute_result"
    }
   ],
   "source": [
    "cars.shape[0]"
   ]
  },
  {
   "cell_type": "code",
   "execution_count": 115,
   "metadata": {
    "scrolled": false
   },
   "outputs": [
    {
     "data": {
      "text/plain": [
       "[Text(0.5, 1.0, 'Distribution of Car Odometer')]"
      ]
     },
     "execution_count": 115,
     "metadata": {},
     "output_type": "execute_result"
    },
    {
     "data": {
      "image/png": "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",
      "text/plain": [
       "<Figure size 640x480 with 1 Axes>"
      ]
     },
     "metadata": {},
     "output_type": "display_data"
    }
   ],
   "source": [
    "sns.histplot(data = cars, x = 'odometer').set(title = 'Distribution of Car Odometer')"
   ]
  },
  {
   "cell_type": "code",
   "execution_count": 116,
   "metadata": {
    "scrolled": true
   },
   "outputs": [
    {
     "data": {
      "text/html": [
       "<div>\n",
       "<style scoped>\n",
       "    .dataframe tbody tr th:only-of-type {\n",
       "        vertical-align: middle;\n",
       "    }\n",
       "\n",
       "    .dataframe tbody tr th {\n",
       "        vertical-align: top;\n",
       "    }\n",
       "\n",
       "    .dataframe thead th {\n",
       "        text-align: right;\n",
       "    }\n",
       "</style>\n",
       "<table border=\"1\" class=\"dataframe\">\n",
       "  <thead>\n",
       "    <tr style=\"text-align: right;\">\n",
       "      <th></th>\n",
       "      <th>source</th>\n",
       "      <th>scraper-version</th>\n",
       "      <th>scrape-date</th>\n",
       "      <th>title</th>\n",
       "      <th>price</th>\n",
       "      <th>location</th>\n",
       "      <th>odometer</th>\n",
       "      <th>images/0</th>\n",
       "      <th>year</th>\n",
       "      <th>age</th>\n",
       "    </tr>\n",
       "  </thead>\n",
       "  <tbody>\n",
       "    <tr>\n",
       "      <th>25</th>\n",
       "      <td>craigslist</td>\n",
       "      <td>1</td>\n",
       "      <td>2023-11-09</td>\n",
       "      <td>2015 *Peterbilt* *579* *w/sleeper*</td>\n",
       "      <td>$42,900</td>\n",
       "      <td>Peterbilt 579 w/sleeper</td>\n",
       "      <td>627</td>\n",
       "      <td>https://images.craigslist.org/00u0u_iI62XuOKRn...</td>\n",
       "      <td>2015</td>\n",
       "      <td>8</td>\n",
       "    </tr>\n",
       "  </tbody>\n",
       "</table>\n",
       "</div>"
      ],
      "text/plain": [
       "        source  scraper-version scrape-date  \\\n",
       "25  craigslist                1  2023-11-09   \n",
       "\n",
       "                                 title    price                 location  \\\n",
       "25  2015 *Peterbilt* *579* *w/sleeper*  $42,900  Peterbilt 579 w/sleeper   \n",
       "\n",
       "    odometer                                           images/0  year  age  \n",
       "25       627  https://images.craigslist.org/00u0u_iI62XuOKRn...  2015    8  "
      ]
     },
     "execution_count": 116,
     "metadata": {},
     "output_type": "execute_result"
    }
   ],
   "source": [
    "cars[cars['odometer'] > 300]"
   ]
  },
  {
   "cell_type": "code",
   "execution_count": 117,
   "metadata": {},
   "outputs": [],
   "source": [
    "cars = cars[cars.odometer <= 300]\n",
    "# Clean up the 'price' column by replacing non-numeric values with NaN\n",
    "cars['price'] = pd.to_numeric(cars['price'].replace('[\\$,]', '', regex=True), errors='coerce')\n",
    "\n",
    "# Fill NaN values in the 'price' column with a placeholder (you can choose a value that makes sense)\n",
    "cars['price'].fillna(-1, inplace=True)\n",
    "\n",
    "# Convert 'price' column to integers\n",
    "cars['price'] = cars['price'].astype(int)\n"
   ]
  },
  {
   "cell_type": "code",
   "execution_count": 118,
   "metadata": {},
   "outputs": [
    {
     "data": {
      "text/plain": [
       "120"
      ]
     },
     "execution_count": 118,
     "metadata": {},
     "output_type": "execute_result"
    }
   ],
   "source": [
    "cars.shape[0]"
   ]
  },
  {
   "cell_type": "code",
   "execution_count": 119,
   "metadata": {
    "scrolled": true
   },
   "outputs": [
    {
     "data": {
      "text/plain": [
       "[Text(0.5, 1.0, 'Distribution of Car Odometer')]"
      ]
     },
     "execution_count": 119,
     "metadata": {},
     "output_type": "execute_result"
    },
    {
     "data": {
      "image/png": "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",
      "text/plain": [
       "<Figure size 640x480 with 1 Axes>"
      ]
     },
     "metadata": {},
     "output_type": "display_data"
    }
   ],
   "source": [
    "sns.histplot(data = cars, x = 'odometer').set(title = 'Distribution of Car Odometer')"
   ]
  },
  {
   "cell_type": "code",
   "execution_count": 120,
   "metadata": {
    "scrolled": true
   },
   "outputs": [
    {
     "data": {
      "text/plain": [
       "[Text(0.5, 1.0, 'Correlation of Vehicle Odometer and List Price')]"
      ]
     },
     "execution_count": 120,
     "metadata": {},
     "output_type": "execute_result"
    },
    {
     "data": {
      "image/png": "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",
      "text/plain": [
       "<Figure size 640x480 with 1 Axes>"
      ]
     },
     "metadata": {},
     "output_type": "display_data"
    }
   ],
   "source": [
    "sns.scatterplot(data = cars, x = 'odometer', y = 'price').set(title = 'Correlation of Vehicle Odometer and List Price')"
   ]
  },
  {
   "cell_type": "code",
   "execution_count": 121,
   "metadata": {
    "scrolled": true
   },
   "outputs": [
    {
     "data": {
      "text/html": [
       "<div>\n",
       "<style scoped>\n",
       "    .dataframe tbody tr th:only-of-type {\n",
       "        vertical-align: middle;\n",
       "    }\n",
       "\n",
       "    .dataframe tbody tr th {\n",
       "        vertical-align: top;\n",
       "    }\n",
       "\n",
       "    .dataframe thead th {\n",
       "        text-align: right;\n",
       "    }\n",
       "</style>\n",
       "<table border=\"1\" class=\"dataframe\">\n",
       "  <thead>\n",
       "    <tr style=\"text-align: right;\">\n",
       "      <th></th>\n",
       "      <th>source</th>\n",
       "      <th>scraper-version</th>\n",
       "      <th>scrape-date</th>\n",
       "      <th>title</th>\n",
       "      <th>price</th>\n",
       "      <th>location</th>\n",
       "      <th>odometer</th>\n",
       "      <th>images/0</th>\n",
       "      <th>year</th>\n",
       "      <th>age</th>\n",
       "    </tr>\n",
       "  </thead>\n",
       "  <tbody>\n",
       "  </tbody>\n",
       "</table>\n",
       "</div>"
      ],
      "text/plain": [
       "Empty DataFrame\n",
       "Columns: [source, scraper-version, scrape-date, title, price, location, odometer, images/0, year, age]\n",
       "Index: []"
      ]
     },
     "execution_count": 121,
     "metadata": {},
     "output_type": "execute_result"
    }
   ],
   "source": [
    "cars[cars['price'] > 100000]"
   ]
  },
  {
   "cell_type": "code",
   "execution_count": 122,
   "metadata": {},
   "outputs": [],
   "source": [
    "cars = cars[cars.price <= 100000]"
   ]
  },
  {
   "cell_type": "code",
   "execution_count": 123,
   "metadata": {},
   "outputs": [
    {
     "data": {
      "text/plain": [
       "120"
      ]
     },
     "execution_count": 123,
     "metadata": {},
     "output_type": "execute_result"
    }
   ],
   "source": [
    "cars.shape[0]"
   ]
  },
  {
   "cell_type": "code",
   "execution_count": 124,
   "metadata": {
    "scrolled": true
   },
   "outputs": [
    {
     "data": {
      "text/plain": [
       "[Text(0.5, 1.0, 'Correlation of Vehicle Odometer and List Price')]"
      ]
     },
     "execution_count": 124,
     "metadata": {},
     "output_type": "execute_result"
    },
    {
     "data": {
      "image/png": "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",
      "text/plain": [
       "<Figure size 640x480 with 1 Axes>"
      ]
     },
     "metadata": {},
     "output_type": "display_data"
    }
   ],
   "source": [
    "# look at the odometer vs price now\n",
    "sns.scatterplot(data = cars, x = 'odometer', y = 'price').set(title = 'Correlation of Vehicle Odometer and List Price')"
   ]
  },
  {
   "cell_type": "code",
   "execution_count": 125,
   "metadata": {
    "scrolled": true
   },
   "outputs": [
    {
     "data": {
      "text/plain": [
       "[Text(0.5, 1.0, 'Distribution of List Price')]"
      ]
     },
     "execution_count": 125,
     "metadata": {},
     "output_type": "execute_result"
    },
    {
     "data": {
      "image/png": "iVBORw0KGgoAAAANSUhEUgAAAjIAAAHHCAYAAACle7JuAAAAOXRFWHRTb2Z0d2FyZQBNYXRwbG90bGliIHZlcnNpb24zLjguMSwgaHR0cHM6Ly9tYXRwbG90bGliLm9yZy/SrBM8AAAACXBIWXMAAA9hAAAPYQGoP6dpAAA2BElEQVR4nO3deXRUVb728SdzAqESIKRChAwKEkahQSGCghhNIzhcYyu8qEij0MqMFxUVEByw7W5AMIB6FZyQFtsBlUEMgy0yRqOEIQIC4QJJDJgUIISQ7PePXqlrmQBJTDh1wvez1lly9t516le1C308Z58qH2OMEQAAgA35Wl0AAABAdRFkAACAbRFkAACAbRFkAACAbRFkAACAbRFkAACAbRFkAACAbRFkAACAbRFkAACAbRFkgAvoqaeeko+PzwV5rl69eqlXr17u/TVr1sjHx0fvv//+BXn+++67T3FxcRfkuarr+PHjuv/++xUVFSUfHx+NGTPmdx3PDq9ZKv/ZAOyMIANU04IFC+Tj4+PegoODFR0dreTkZM2aNUvHjh2rkec5dOiQnnrqKWVkZNTI8WqSN9dWGc8995wWLFigBx98UG+99Zbuueees46Ni4tTv379aryG7du366mnntK+ffsqNb4sDJdt9erVU5s2bfTkk0/K5XLVeH2At/O3ugDA7qZOnar4+HgVFxcrJydHa9as0ZgxYzR9+nQtWbJEHTp0cI998skn9dhjj1Xp+IcOHdKUKVMUFxenjh07Vvpxn3/+eZWepzrOVdurr76q0tLSWq/h91i1apW6deumyZMn18jxqvOat2/frilTpqhXr15VOpszd+5chYaG6vjx4/r888/17LPPatWqVVq3bt15z/pdiM8GcKEQZIDfqU+fPurSpYt7f8KECVq1apX69eunW265RTt27FBISIgkyd/fX/7+tfvX7pdfflG9evUUGBhYq89zPgEBAZY+f2Xk5eWpTZs2NXa8C/ma77jjDkVEREiS/vKXvyglJUUffPCBNmzYoMTExAof4y2fDaAmcWkJqAW9e/fWxIkTtX//fr399tvu9orWyKxcuVI9evRQeHi4QkND1apVKz3++OOS/rOu5corr5QkDR482H05YcGCBZL+s9ahXbt2Sk9P17XXXqt69eq5H3u2dRAlJSV6/PHHFRUVpfr16+uWW27RgQMHPMbExcXpvvvuK/fYXx/zfLVVtF7kxIkTevjhh9W8eXMFBQWpVatW+vvf/y5jjMc4Hx8fjRgxQh999JHatWunoKAgtW3bVsuXL6/4Df+NvLw8DRkyRE6nU8HBwbriiiv0xhtvuPvL1gvt3btXn332mbv2yl7eOZuKXvOiRYvUuXNnNWjQQA6HQ+3bt9eLL74o6T+XJ//0pz9Jkq677jp3HWvWrKnyc/fu3VuStHfvXklV/2ycOnVKTz31lC6//HIFBweradOmuv3227Vnzx73mNLSUs2cOVNt27ZVcHCwnE6nhg0bpp9//rnK9QI1hTMyQC2555579Pjjj+vzzz/XAw88UOGYbdu2qV+/furQoYOmTp2qoKAg7d69W+vWrZMktW7dWlOnTtWkSZM0dOhQXXPNNZKkq6++2n2MI0eOqE+fPurfv7/uvvtuOZ3Oc9b17LPPysfHR48++qjy8vI0c+ZMJSUlKSMjw33mqDIqU9uvGWN0yy23aPXq1RoyZIg6duyoFStWaPz48Tp48KBmzJjhMf6rr77SBx98oIceekgNGjTQrFmzlJKSouzsbDVu3PisdZ08eVK9evXS7t27NWLECMXHx2vx4sW67777VFBQoNGjR6t169Z66623NHbsWDVr1kwPP/ywJKlJkyaVfv2VsXLlSg0YMEDXX3+9/vrXv0qSduzYoXXr1mn06NG69tprNWrUKM2aNUuPP/64WrduLUnuf1ZFWeD49XtT2c9GSUmJ+vXrp7S0NPXv31+jR4/WsWPHtHLlSmVmZuqyyy6TJA0bNkwLFizQ4MGDNWrUKO3du1cvvfSSvv32W61bt84WZ+FQBxkA1TJ//nwjyWzevPmsY8LCwkynTp3c+5MnTza//ms3Y8YMI8n89NNPZz3G5s2bjSQzf/78cn09e/Y0ksy8efMq7OvZs6d7f/Xq1UaSueSSS4zL5XK3v/fee0aSefHFF91tsbGxZtCgQec95rlqGzRokImNjXXvf/TRR0aSeeaZZzzG3XHHHcbHx8fs3r3b3SbJBAYGerR99913RpKZPXt2uef6tZkzZxpJ5u2333a3nT592iQmJprQ0FCP1x4bG2v69u17zuNVZexvX/Po0aONw+EwZ86cOetjFi9ebCSZ1atXV6qOss9QVlaW+emnn8zevXvNyy+/bIKCgozT6TQnTpwwxlTts/H6668bSWb69OnlxpaWlhpjjPn3v/9tJJl33nnHo3/58uUVtgMXCpeWgFoUGhp6zruXwsPDJUkff/xxtRfGBgUFafDgwZUef++996pBgwbu/TvuuENNmzbV0qVLq/X8lbV06VL5+flp1KhRHu0PP/ywjDFatmyZR3tSUpL7TIAkdejQQQ6HQz/++ON5nycqKkoDBgxwtwUEBGjUqFE6fvy41q5dWwOvpnLCw8N14sQJrVy5ssaP3apVKzVp0kTx8fEaNmyYWrRooc8++0z16tVzj6nsZ+Nf//qXIiIiNHLkyHJ9ZZdCFy9erLCwMN1www3Kz893b507d1ZoaKhWr15dcy8OqAKCDFCLjh8/7hEafuuuu+5S9+7ddf/998vpdKp///567733qhRqLrnkkiot3mzZsqXHvo+Pj1q0aPG714ecz/79+xUdHV3u/Si7jLJ//36P9piYmHLHaNiw4XnXY+zfv18tW7aUr6/nv97O9jy16aGHHtLll1+uPn36qFmzZvrzn/9c6XU+5/Ovf/1LK1eu1Jo1a7R7925lZmaqc+fOHmMq+9nYs2ePWrVqdc6F6Lt27VJhYaEiIyPVpEkTj+348ePKy8v73a8JqA7WyAC15H//939VWFioFi1anHVMSEiIvvzyS61evVqfffaZli9frn/+85/q3bu3Pv/8c/n5+Z33eaqyrqWyznb7bklJSaVqqglnex7zm4XB3iwyMlIZGRlasWKFli1bpmXLlmn+/Pm69957PRYfV8e1117rvmvpbGrys1FaWqrIyEi98847FfbX9PoioLI4IwPUkrfeekuSlJycfM5xvr6+uv766zV9+nRt377d/X0gZafqa/qbgHft2uWxb4zR7t27Pe62adiwoQoKCso99rdnM6pSW2xsrA4dOlTuUtvOnTvd/TUhNjZWu3btKndWq6afp7ICAwN18803a86cOdqzZ4+GDRumN998U7t375ZU8/NbHZdddpmysrJUXFx8zjFHjhxR9+7dlZSUVG674oorLmDFwP8hyAC1YNWqVXr66acVHx+vgQMHnnXc0aNHy7WVfbFcUVGRJKl+/fqSVGGwqI4333zTI0y8//77Onz4sPr06eNuu+yyy7RhwwadPn3a3fbpp5+Wu027KrXddNNNKikp0UsvveTRPmPGDPn4+Hg8/+9x0003KScnR//85z/dbWfOnNHs2bMVGhqqnj171sjzVMaRI0c89n19fd1fkFhb81sdKSkpys/PLzc30v+dAbvzzjtVUlKip59+utyYM2fOWFo/Lm5cWgJ+p2XLlmnnzp06c+aMcnNztWrVKq1cuVKxsbFasmSJgoODz/rYqVOn6ssvv1Tfvn0VGxurvLw8zZkzR82aNVOPHj0k/SdUhIeHa968eWrQoIHq16+vrl27Kj4+vlr1NmrUSD169NDgwYOVm5urmTNnqkWLFh63iN9///16//339cc//lF33nmn9uzZo7fffttj8W1Va7v55pt13XXX6YknntC+fft0xRVX6PPPP9fHH3+sMWPGlDt2dQ0dOlQvv/yy7rvvPqWnpysuLk7vv/++1q1bp5kzZ55zzdL57N69W88880y59k6dOqlv377l2u+//34dPXpUvXv3VrNmzbR//37Nnj1bHTt2dK/Z6dixo/z8/PTXv/5VhYWFCgoKUu/evRUZGVntOqvq3nvv1Ztvvqlx48Zp06ZNuuaaa3TixAl98cUXeuihh3TrrbeqZ8+eGjZsmKZNm6aMjAzdeOONCggI0K5du7R48WK9+OKLuuOOOy5YzYCbtTdNAfZVdvt12RYYGGiioqLMDTfcYF588UWP23zL/Pb267S0NHPrrbea6OhoExgYaKKjo82AAQPMDz/84PG4jz/+2LRp08b4+/t73O7cs2dP07Zt2wrrO9vt1++++66ZMGGCiYyMNCEhIaZv375m//795R7/j3/8w1xyySUmKCjIdO/e3WzZsqXcMc9V229vRTbGmGPHjpmxY8ea6OhoExAQYFq2bGn+9re/uW/xLSPJDB8+vFxNZ7st/Ldyc3PN4MGDTUREhAkMDDTt27ev8Bbxqt5+/ev5/vU2ZMiQCl/z+++/b2688UYTGRlpAgMDTUxMjBk2bJg5fPiwx7FfffVVc+mllxo/P7/z3opd9hk61y37xlTts2GMMb/88ot54oknTHx8vAkICDBRUVHmjjvuMHv27PEY98orr5jOnTubkJAQ06BBA9O+fXvzyCOPmEOHDp2zHqC2+Bhjo5VzAAAAv8IaGQAAYFsEGQAAYFsEGQAAYFsEGQAAYFsEGQAAYFsEGQAAYFt1/gvxSktLdejQITVo0MArvgocAACcnzFGx44dU3R0dLkfgf21Oh9kDh06pObNm1tdBgAAqIYDBw6oWbNmZ+2v80Gm7OvIDxw4IIfDYXE1AACgMlwul5o3b37enxWp80Gm7HKSw+EgyAAAYDPnWxbCYl8AAGBbBBkAAGBbBBkAAGBbBBkAAGBbBBkAAGBbBBkAAGBbBBkAAGBbBBkAAGBbBBkAAGBbBBkAAGBbBBkAAGBbBBkAAGBbBBkAAGBbBBkAAGBb/lYXYGfZ2dnKz8+3uoxaFRERoZiYGKvLAACgQgSZasrOzlZCQmudPPmL1aXUqpCQetq5cwdhBgDglQgy1ZSfn6+TJ39R1z9PlqNpnNXl1ArX4X3a+PoU5efnE2QAAF6JIPM7OZrGqVFMK6vLAADgosRiXwAAYFsEGQAAYFsEGQAAYFsEGQAAYFsEGQAAYFsEGQAAYFsEGQAAYFsEGQAAYFsEGQAAYFsEGQAAYFsEGQAAYFsEGQAAYFsEGQAAYFsEGQAAYFuWB5mDBw/q7rvvVuPGjRUSEqL27dtry5Yt7n5jjCZNmqSmTZsqJCRESUlJ2rVrl4UVAwAAb2FpkPn555/VvXt3BQQEaNmyZdq+fbv+8Y9/qGHDhu4xL7zwgmbNmqV58+Zp48aNql+/vpKTk3Xq1CkLKwcAAN7A38on/+tf/6rmzZtr/vz57rb4+Hj3n40xmjlzpp588kndeuutkqQ333xTTqdTH330kfr373/BawYAAN7D0jMyS5YsUZcuXfSnP/1JkZGR6tSpk1599VV3/969e5WTk6OkpCR3W1hYmLp27ar169dbUTIAAPAilgaZH3/8UXPnzlXLli21YsUKPfjggxo1apTeeOMNSVJOTo4kyel0ejzO6XS6+36rqKhILpfLYwMAAHWTpZeWSktL1aVLFz333HOSpE6dOikzM1Pz5s3ToEGDqnXMadOmacqUKTVZJgAA8FKWnpFp2rSp2rRp49HWunVrZWdnS5KioqIkSbm5uR5jcnNz3X2/NWHCBBUWFrq3AwcO1ELlAADAG1gaZLp3766srCyPth9++EGxsbGS/rPwNyoqSmlpae5+l8uljRs3KjExscJjBgUFyeFweGwAAKBusvTS0tixY3X11Vfrueee05133qlNmzbplVde0SuvvCJJ8vHx0ZgxY/TMM8+oZcuWio+P18SJExUdHa3bbrvNytIBAIAXsDTIXHnllfrwww81YcIETZ06VfHx8Zo5c6YGDhzoHvPII4/oxIkTGjp0qAoKCtSjRw8tX75cwcHBFlYOAAC8gaVBRpL69eunfv36nbXfx8dHU6dO1dSpUy9gVQAAwA4s/4kCAACA6iLIAAAA2yLIAAAA2yLIAAAA2yLIAAAA2yLIAAAA2yLIAAAA2yLIAAAA2yLIAAAA2yLIAAAA2yLIAAAA2yLIAAAA2yLIAAAA2yLIAAAA2yLIAAAA2yLIAAAA2yLIAAAA2yLIAAAA2yLIAAAA2yLIAAAA2yLIAAAA2yLIAAAA2yLIAAAA2yLIAAAA2yLIAAAA2yLIAAAA2yLIAAAA2yLIAAAA2yLIAAAA2yLIAAAA2yLIAAAA2yLIAAAA2yLIAAAA2yLIAAAA2yLIAAAA2yLIAAAA2yLIAAAA2yLIAAAA2yLIAAAA2yLIAAAA2yLIAAAA2yLIAAAA2yLIAAAA2yLIAAAA27I0yDz11FPy8fHx2BISEtz9p06d0vDhw9W4cWOFhoYqJSVFubm5FlYMAAC8ieVnZNq2bavDhw+7t6+++srdN3bsWH3yySdavHix1q5dq0OHDun222+3sFoAAOBN/C0vwN9fUVFR5doLCwv12muvaeHCherdu7ckaf78+WrdurU2bNigbt26XehSAQCAl7H8jMyuXbsUHR2tSy+9VAMHDlR2drYkKT09XcXFxUpKSnKPTUhIUExMjNavX29VuQAAwItYekama9euWrBggVq1aqXDhw9rypQpuuaaa5SZmamcnBwFBgYqPDzc4zFOp1M5OTlnPWZRUZGKiorc+y6Xq7bKBwAAFrM0yPTp08f95w4dOqhr166KjY3Ve++9p5CQkGodc9q0aZoyZUpNlQgAALyY5ZeWfi08PFyXX365du/eraioKJ0+fVoFBQUeY3JzcytcU1NmwoQJKiwsdG8HDhyo5aoBAIBVvCrIHD9+XHv27FHTpk3VuXNnBQQEKC0tzd2flZWl7OxsJSYmnvUYQUFBcjgcHhsAAKibLL209N///d+6+eabFRsbq0OHDmny5Mny8/PTgAEDFBYWpiFDhmjcuHFq1KiRHA6HRo4cqcTERO5YAgAAkiwOMv/7v/+rAQMG6MiRI2rSpIl69OihDRs2qEmTJpKkGTNmyNfXVykpKSoqKlJycrLmzJljZckAAMCLWBpkFi1adM7+4OBgpaamKjU19QJVBAAA7MSr1sgAAABUBUEGAADYFkEGAADYFkEGAADYFkEGAADYFkEGAADYFkEGAADYFkEGAADYFkEGAADYFkEGAADYFkEGAADYFkEGAADYFkEGAADYFkEGAADYFkEGAADYFkEGAADYFkEGAADYFkEGAADYFkEGAADYFkEGAADYFkEGAADYFkEGAADYFkEGAADYFkEGAADYFkEGAADYFkEGAADYFkEGAADYFkEGAADYFkEGAADYFkEGAADYFkEGAADYFkEGAADYFkEGAADYFkEGAADYFkEGAADYFkEGAADYFkEGAADYFkEGAADYFkEGAADYFkEGAADYFkEGAADYFkEGAADYFkEGAADYFkEGAADYltcEmeeff14+Pj4aM2aMu+3UqVMaPny4GjdurNDQUKWkpCg3N9e6IgEAgFfxiiCzefNmvfzyy+rQoYNH+9ixY/XJJ59o8eLFWrt2rQ4dOqTbb7/doioBAIC3sTzIHD9+XAMHDtSrr76qhg0butsLCwv12muvafr06erdu7c6d+6s+fPn6+uvv9aGDRssrBgAAHgLy4PM8OHD1bdvXyUlJXm0p6enq7i42KM9ISFBMTExWr9+/YUuEwAAeCF/K5980aJF+uabb7R58+ZyfTk5OQoMDFR4eLhHu9PpVE5OzlmPWVRUpKKiIve+y+WqsXoBAIB3seyMzIEDBzR69Gi98847Cg4OrrHjTps2TWFhYe6tefPmNXZsAADgXSwLMunp6crLy9Mf/vAH+fv7y9/fX2vXrtWsWbPk7+8vp9Op06dPq6CgwONxubm5ioqKOutxJ0yYoMLCQvd24MCBWn4lAADAKpZdWrr++uu1detWj7bBgwcrISFBjz76qJo3b66AgAClpaUpJSVFkpSVlaXs7GwlJiae9bhBQUEKCgqq1doBAIB3sCzINGjQQO3atfNoq1+/vho3buxuHzJkiMaNG6dGjRrJ4XBo5MiRSkxMVLdu3awoGQAAeBlLF/uez4wZM+Tr66uUlBQVFRUpOTlZc+bMsbosAADgJbwqyKxZs8ZjPzg4WKmpqUpNTbWmIAAA4NUs/x4ZAACA6iLIAAAA2yLIAAAA2yLIAAAA2yLIAAAA2yLIAAAA2yLIAAAA2yLIAAAA2yLIAAAA2yLIAAAA2yLIAAAA26pWkLn00kt15MiRcu0FBQW69NJLf3dRAAAAlVGtILNv3z6VlJSUay8qKtLBgwd/d1EAAACVUaVfv16yZIn7zytWrFBYWJh7v6SkRGlpaYqLi6ux4gAAAM6lSkHmtttukyT5+Pho0KBBHn0BAQGKi4vTP/7xjxorDgAA4FyqFGRKS0slSfHx8dq8ebMiIiJqpSgAAIDKqFKQKbN3796argMAAKDKqhVkJCktLU1paWnKy8tzn6kp8/rrr//uwgAAAM6nWkFmypQpmjp1qrp06aKmTZvKx8enpusCAAA4r2oFmXnz5mnBggW65557aroeAACASqvW98icPn1aV199dU3XAgAAUCXVCjL333+/Fi5cWNO1AAAAVEm1Li2dOnVKr7zyir744gt16NBBAQEBHv3Tp0+vkeIAAADOpVpB5vvvv1fHjh0lSZmZmR59LPwFAAAXSrWCzOrVq2u6DgAAgCqr1hoZAAAAb1CtMzLXXXfdOS8hrVq1qtoFAQAAVFa1gkzZ+pgyxcXFysjIUGZmZrkfkwQAAKgt1QoyM2bMqLD9qaee0vHjx39XQQAAAJVVo2tk7r77bn5nCQAAXDA1GmTWr1+v4ODgmjwkAADAWVXr0tLtt9/usW+M0eHDh7VlyxZNnDixRgoDAAA4n2oFmbCwMI99X19ftWrVSlOnTtWNN95YI4UBAACcT7WCzPz582u6DgAAgCqrVpApk56erh07dkiS2rZtq06dOtVIUQAAAJVRrSCTl5en/v37a82aNQoPD5ckFRQU6LrrrtOiRYvUpEmTmqwRAACgQtW6a2nkyJE6duyYtm3bpqNHj+ro0aPKzMyUy+XSqFGjarpGAACAClXrjMzy5cv1xRdfqHXr1u62Nm3aKDU1lcW+AADggqnWGZnS0lIFBASUaw8ICFBpaenvLgoAAKAyqhVkevfurdGjR+vQoUPutoMHD2rs2LG6/vrra6w4AACAc6lWkHnppZfkcrkUFxenyy67TJdddpni4+Plcrk0e/bsmq4RAACgQtVaI9O8eXN98803+uKLL7Rz505JUuvWrZWUlFSjxQEAAJxLlc7IrFq1Sm3atJHL5ZKPj49uuOEGjRw5UiNHjtSVV16ptm3b6t///ndt1QoAAOChSkFm5syZeuCBB+RwOMr1hYWFadiwYZo+fXqNFQcAAHAuVQoy3333nf74xz+etf/GG29Uenp6pY83d+5cdejQQQ6HQw6HQ4mJiVq2bJm7/9SpUxo+fLgaN26s0NBQpaSkKDc3tyolAwCAOqxKQSY3N7fC267L+Pv766effqr08Zo1a6bnn39e6enp2rJli3r37q1bb71V27ZtkySNHTtWn3zyiRYvXqy1a9fq0KFD5X55GwAAXLyqtNj3kksuUWZmplq0aFFh//fff6+mTZtW+ng333yzx/6zzz6ruXPnasOGDWrWrJlee+01LVy4UL1795b0nx+rbN26tTZs2KBu3bpVpXQAAFAHVemMzE033aSJEyfq1KlT5fpOnjypyZMnq1+/ftUqpKSkRIsWLdKJEyeUmJio9PR0FRcXe9wJlZCQoJiYGK1fv75azwEAAOqWKp2RefLJJ/XBBx/o8ssv14gRI9SqVStJ0s6dO5WamqqSkhI98cQTVSpg69atSkxM1KlTpxQaGqoPP/xQbdq0UUZGhgIDA90/SlnG6XQqJyfnrMcrKipSUVGRe9/lclWpHgAAYB9VCjJOp1Nff/21HnzwQU2YMEHGGEmSj4+PkpOTlZqaKqfTWaUCWrVqpYyMDBUWFur999/XoEGDtHbt2iod49emTZumKVOmVPvxAADAPqr8hXixsbFaunSpfv75Z+3evVvGGLVs2VINGzasVgGBgYHuNTedO3fW5s2b9eKLL+quu+7S6dOnVVBQ4HFWJjc3V1FRUWc93oQJEzRu3Dj3vsvlUvPmzatVGwAA8G7V+mZfSWrYsKGuvPLKmqxF0n9+kLKoqEidO3dWQECA0tLSlJKSIknKyspSdna2EhMTz/r4oKAgBQUF1XhdAADA+1Q7yNSECRMmqE+fPoqJidGxY8e0cOFCrVmzRitWrFBYWJiGDBmicePGqVGjRnI4HBo5cqQSExO5YwkAAEiyOMjk5eXp3nvv1eHDhxUWFqYOHTpoxYoVuuGGGyRJM2bMkK+vr1JSUlRUVKTk5GTNmTPHypIBAIAXsTTIvPbaa+fsDw4OVmpqqlJTUy9QRQAAwE6q9D0yAAAA3oQgAwAAbIsgAwAAbIsgAwAAbIsgAwAAbIsgAwAAbIsgAwAAbIsgAwAAbIsgAwAAbIsgAwAAbIsgAwAAbIsgAwAAbIsgAwAAbIsgAwAAbIsgAwAAbIsgAwAAbIsgAwAAbIsgAwAAbIsgAwAAbIsgAwAAbIsgAwAAbIsgAwAAbIsgAwAAbIsgAwAAbIsgAwAAbIsgAwAAbIsgAwAAbIsgAwAAbIsgAwAAbIsgAwAAbIsgAwAAbIsgAwAAbIsgAwAAbIsgAwAAbIsgAwAAbIsgAwAAbIsgAwAAbIsgAwAAbIsgAwAAbIsgAwAAbIsgAwAAbIsgAwAAbIsgAwAAbIsgAwAAbMvSIDNt2jRdeeWVatCggSIjI3XbbbcpKyvLY8ypU6c0fPhwNW7cWKGhoUpJSVFubq5FFQMAAG9iaZBZu3athg8frg0bNmjlypUqLi7WjTfeqBMnTrjHjB07Vp988okWL16stWvX6tChQ7r99tstrBoAAHgLfyuffPny5R77CxYsUGRkpNLT03XttdeqsLBQr732mhYuXKjevXtLkubPn6/WrVtrw4YN6tatmxVlAwAAL+FVa2QKCwslSY0aNZIkpaenq7i4WElJSe4xCQkJiomJ0fr16y2pEQAAeA9Lz8j8WmlpqcaMGaPu3burXbt2kqScnBwFBgYqPDzcY6zT6VROTk6FxykqKlJRUZF73+Vy1VrNAADAWl5zRmb48OHKzMzUokWLftdxpk2bprCwMPfWvHnzGqoQAAB4G68IMiNGjNCnn36q1atXq1mzZu72qKgonT59WgUFBR7jc3NzFRUVVeGxJkyYoMLCQvd24MCB2iwdAABYyNIgY4zRiBEj9OGHH2rVqlWKj4/36O/cubMCAgKUlpbmbsvKylJ2drYSExMrPGZQUJAcDofHBgAA6iZL18gMHz5cCxcu1Mcff6wGDRq4172EhYUpJCREYWFhGjJkiMaNG6dGjRrJ4XBo5MiRSkxM5I4lAABgbZCZO3euJKlXr14e7fPnz9d9990nSZoxY4Z8fX2VkpKioqIiJScna86cORe4UgAA4I0sDTLGmPOOCQ4OVmpqqlJTUy9ARQAAwE68YrEvAABAdRBkAACAbRFkAACAbRFkAACAbRFkAACAbRFkAACAbRFkAACAbRFkAACAbRFkAACAbRFkAACAbRFkAACAbRFkAACAbRFkAACAbRFkAACAbRFkAACAbflbXQCA2pWdna38/Hyry6g1ERERiomJsboMABYhyAB1WHZ2thISWuvkyV+sLqXWhITU086dOwgzwEWKIAPUYfn5+Tp58hd1/fNkOZrGWV1OjXMd3qeNr09Rfn4+QQa4SBFkgIuAo2mcGsW0sroMAKhxLPYFAAC2xRkZXNTq+kLYHTt2WF0CANQqggwuWhfDQtgyxUWnrS4BAGoFQQYXrbq+EFaSDm9dr8wlr+jMmTNWlwIAtYIgg4teXV4I6zq8z+oSAKBWsdgXAADYFkEGAADYFkEGAADYFkEGAADYFkEGAADYFkEGAADYFkEGAADYFt8jA8D26vJPMURERPDL3sA5EGQA2NbJwiOSfHT33XdbXUqtCQmpp507dxBmgLMgyACwreJfjkky6vj/HlWT+ASry6lxrsP7tPH1KcrPzyfIAGdBkAFge6GRMXX2ZyYAnBuLfQEAgG0RZAAAgG0RZAAAgG0RZAAAgG0RZAAAgG0RZAAAgG0RZAAAgG0RZAAAgG0RZAAAgG1ZGmS+/PJL3XzzzYqOjpaPj48++ugjj35jjCZNmqSmTZsqJCRESUlJ2rVrlzXFAgAAr2NpkDlx4oSuuOIKpaamVtj/wgsvaNasWZo3b542btyo+vXrKzk5WadOnbrAlQIAAG9k6W8t9enTR3369KmwzxijmTNn6sknn9Stt94qSXrzzTfldDr10UcfqX///heyVAAA4IW8do3M3r17lZOTo6SkJHdbWFiYunbtqvXr11tYGQAA8BZe++vXOTk5kiSn0+nR7nQ63X0VKSoqUlFRkXvf5XLVToEAAMByXntGprqmTZumsLAw99a8eXOrSwIAALXEa4NMVFSUJCk3N9ejPTc3191XkQkTJqiwsNC9HThwoFbrBAAA1vHaIBMfH6+oqCilpaW521wulzZu3KjExMSzPi4oKEgOh8NjAwAAdZOla2SOHz+u3bt3u/f37t2rjIwMNWrUSDExMRozZoyeeeYZtWzZUvHx8Zo4caKio6N12223WVc0AADwGpYGmS1btui6665z748bN06SNGjQIC1YsECPPPKITpw4oaFDh6qgoEA9evTQ8uXLFRwcbFXJF6UdO3ZYXUKtqKuvCwAuJpYGmV69eskYc9Z+Hx8fTZ06VVOnTr2AVaHMycIjknx09913W11KrSouOm11CQCAavLa269hveJfjkky6vj/HlWT+ASry6lxh7euV+aSV3TmzBmrSwEAVBNBBucVGhmjRjGtrC6jxrkO77O6BADA7+S1dy0BAACcD0EGAADYFkEGAADYFkEGAADYFkEGAADYFkEGAADYFkEGAADYFkEGAADYFkEGAADYFkEGAADYFkEGAADYFkEGAADYFkEGAADYFkEGAADYFkEGAADYFkEGAADYFkEGAADYFkEGAADYFkEGAADYFkEGAADYFkEGAADYFkEGAADYFkEGAADYFkEGAADYFkEGAADYFkEGAADYFkEGAADYFkEGAADYFkEGAADYlr/VBQAAUJdlZ2crPz/f6jJqTUREhGJiYix7foIMAAC1JDs7WwkJrXXy5C9Wl1JrQkLqaefOHZaFGYIMAAC1JD8/XydP/qKuf54sR9M4q8upca7D+7Tx9SnKz88nyAAAUFc5msapUUwrq8uok1jsCwAAbIsgAwAAbIsgAwAAbIsgAwAAbIsgAwAAbIsgAwAAbIsgAwAAbIsgAwAAbIsgAwAAbMsWQSY1NVVxcXEKDg5W165dtWnTJqtLAgAAXsDrg8w///lPjRs3TpMnT9Y333yjK664QsnJycrLy7O6NAAAYDGvDzLTp0/XAw88oMGDB6tNmzaaN2+e6tWrp9dff93q0gAAgMW8OsicPn1a6enpSkpKcrf5+voqKSlJ69evt7AyAADgDbz616/z8/NVUlIip9Pp0e50OrVz584KH1NUVKSioiL3fmFhoSTJ5XLVaG3Hjx+XJB3dn6UzRSdr9NjewnV4vySp8OAuBfj7WFxNzavrr0+q+6+xzr++nGxJUnp6uvvfOXWRr6+vSktLrS6jVmRlZUmqu/+tKPuMHj9+vMb/O1t2PGPMuQcaL3bw4EEjyXz99dce7ePHjzdXXXVVhY+ZPHmykcTGxsbGxsZWB7YDBw6cMyt49RmZiIgI+fn5KTc316M9NzdXUVFRFT5mwoQJGjdunHu/tLRUR48eVePGjeXjU3P/x+ZyudS8eXMdOHBADoejxo6LmsU8eT/myB6YJ+9X1+bIGKNjx44pOjr6nOO8OsgEBgaqc+fOSktL02233SbpP8EkLS1NI0aMqPAxQUFBCgoK8mgLDw+vtRodDked+MDUdcyT92OO7IF58n51aY7CwsLOO8arg4wkjRs3ToMGDVKXLl101VVXaebMmTpx4oQGDx5sdWkAAMBiXh9k7rrrLv3000+aNGmScnJy1LFjRy1fvrzcAmAAAHDx8fogI0kjRow466UkqwQFBWny5MnlLmPBuzBP3o85sgfmyftdrHPkY8z57msCAADwTl79hXgAAADnQpABAAC2RZABAAC2RZABAAC2RZCpptTUVMXFxSk4OFhdu3bVpk2brC6pTpg2bZquvPJKNWjQQJGRkbrtttvcv1VS5tSpUxo+fLgaN26s0NBQpaSklPv25+zsbPXt21f16tVTZGSkxo8frzNnzniMWbNmjf7whz8oKChILVq00IIFC8rVwzyf3/PPPy8fHx+NGTPG3cYceYeDBw/q7rvvVuPGjRUSEqL27dtry5Yt7n5jjCZNmqSmTZsqJCRESUlJ2rVrl8cxjh49qoEDB8rhcCg8PFxDhgwp97tP33//va655hoFBwerefPmeuGFF8rVsnjxYiUkJCg4OFjt27fX0qVLa+dF20hJSYkmTpyo+Ph4hYSE6LLLLtPTTz/t8dtCzFEl1MBPIl10Fi1aZAIDA83rr79utm3bZh544AETHh5ucnNzrS7N9pKTk838+fNNZmamycjIMDfddJOJiYkxx48fd4/5y1/+Ypo3b27S0tLMli1bTLdu3czVV1/t7j9z5oxp166dSUpKMt9++61ZunSpiYiIMBMmTHCP+fHHH029evXMuHHjzPbt283s2bONn5+fWb58uXsM83x+mzZtMnFxcaZDhw5m9OjR7nbmyHpHjx41sbGx5r777jMbN240P/74o1mxYoXZvXu3e8zzzz9vwsLCzEcffWS+++47c8stt5j4+Hhz8uRJ95g//vGP5oorrjAbNmww//73v02LFi3MgAED3P2FhYXG6XSagQMHmszMTPPuu++akJAQ8/LLL7vHrFu3zvj5+ZkXXnjBbN++3Tz55JMmICDAbN269cK8GV7q2WefNY0bNzaffvqp2bt3r1m8eLEJDQ01L774onsMc3R+BJlquOqqq8zw4cPd+yUlJSY6OtpMmzbNwqrqpry8PCPJrF271hhjTEFBgQkICDCLFy92j9mxY4eRZNavX2+MMWbp0qXG19fX5OTkuMfMnTvXOBwOU1RUZIwx5pFHHjFt27b1eK677rrLJCcnu/eZ53M7duyYadmypVm5cqXp2bOnO8gwR97h0UcfNT169Dhrf2lpqYmKijJ/+9vf3G0FBQUmKCjIvPvuu8YYY7Zv324kmc2bN7vHLFu2zPj4+JiDBw8aY4yZM2eOadiwoXveyp67VatW7v0777zT9O3b1+P5u3btaoYNG/b7XqTN9e3b1/z5z3/2aLv99tvNwIEDjTHMUWVxaamKTp8+rfT0dCUlJbnbfH19lZSUpPXr11tYWd1UWFgoSWrUqJEkKT09XcXFxR7vf0JCgmJiYtzv//r169W+fXuPb39OTk6Wy+XStm3b3GN+fYyyMWXHYJ7Pb/jw4erbt2+595E58g5LlixRly5d9Kc//UmRkZHq1KmTXn31VXf/3r17lZOT4/H+hYWFqWvXrh7zFB4eri5durjHJCUlydfXVxs3bnSPufbaaxUYGOgek5ycrKysLP3888/uMeeay4vV1VdfrbS0NP3www+SpO+++05fffWV+vTpI4k5qixbfLOvN8nPz1dJSUm5n0hwOp3auXOnRVXVTaWlpRozZoy6d++udu3aSZJycnIUGBhY7odAnU6ncnJy3GMqmp+yvnONcblcOnnypH7++Wfm+RwWLVqkb775Rps3by7Xxxx5hx9//FFz587VuHHj9Pjjj2vz5s0aNWqUAgMDNWjQIPf7XNH79+s5iIyM9Oj39/dXo0aNPMbEx8eXO0ZZX8OGDc86l2XHuFg99thjcrlcSkhIkJ+fn0pKSvTss89q4MCBksQcVRJBBl5r+PDhyszM1FdffWV1KfiVAwcOaPTo0Vq5cqWCg4OtLgdnUVpaqi5duui5556TJHXq1EmZmZmaN2+eBg0aZHF1kKT33ntP77zzjhYuXKi2bdsqIyNDY8aMUXR0NHNUBVxaqqKIiAj5+fmVuwMjNzdXUVFRFlVV94wYMUKffvqpVq9erWbNmrnbo6KidPr0aRUUFHiM//X7HxUVVeH8lPWda4zD4VBISAjzfA7p6enKy8vTH/7wB/n7+8vf319r167VrFmz5O/vL6fTyRx5gaZNm6pNmzYeba1bt1Z2drak/3ufz/X+RUVFKS8vz6P/zJkzOnr0aI3M5cU+T+PHj9djjz2m/v37q3379rrnnns0duxYTZs2TRJzVFkEmSoKDAxU586dlZaW5m4rLS1VWlqaEhMTLaysbjDGaMSIEfrwww+1atWqcqdDO3furICAAI/3PysrS9nZ2e73PzExUVu3bvX4y71y5Uo5HA73v9gTExM9jlE2puwYzPPZXX/99dq6dasyMjLcW5cuXTRw4ED3n5kj63Xv3r3cVxf88MMPio2NlSTFx8crKirK4/1zuVzauHGjxzwVFBQoPT3dPWbVqlUqLS1V165d3WO+/PJLFRcXu8esXLlSrVq1UsOGDd1jzjWXF6tffvlFvr6e/xn28/NTaWmpJOao0qxebWxHixYtMkFBQWbBggVm+/btZujQoSY8PNzjDgxUz4MPPmjCwsLMmjVrzOHDh93bL7/84h7zl7/8xcTExJhVq1aZLVu2mMTERJOYmOjuL7u198YbbzQZGRlm+fLlpkmTJhXe2jt+/HizY8cOk5qaWuGtvcxz5fz6riVjmCNvsGnTJuPv72+effZZs2vXLvPOO++YevXqmbfffts95vnnnzfh4eHm448/Nt9//7259dZbK7y1t1OnTmbjxo3mq6++Mi1btvS4tbegoMA4nU5zzz33mMzMTLNo0SJTr169crf2+vv7m7///e9mx44dZvLkyba5tbc2DRo0yFxyySXu268/+OADExERYR555BH3GObo/Agy1TR79mwTExNjAgMDzVVXXWU2bNhgdUl1gqQKt/nz57vHnDx50jz00EOmYcOGpl69eua//uu/zOHDhz2Os2/fPtOnTx8TEhJiIiIizMMPP2yKi4s9xqxevdp07NjRBAYGmksvvdTjOcowz5Xz2yDDHHmHTz75xLRr184EBQWZhIQE88orr3j0l5aWmokTJxqn02mCgoLM9ddfb7KysjzGHDlyxAwYMMCEhoYah8NhBg8ebI4dO+Yx5rvvvjM9evQwQUFB5pJLLjHPP/98uVree+89c/nll5vAwEDTtm1b89lnn9X8C7YZl8tlRo8ebWJiYkxwcLC59NJLzRNPPOFxmzRzdH4+xvzqKwQBAABshDUyAADAtggyAADAtggyAADAtggyAADAtggyAADAtggyAADAtggyAADAtggyAGxn37598vHxUUZGhtWlALAYX4gHwHZKSkr0008/KSIiQv7+/laXA8BCBBkAtnL69GkFBgZaXQYAL8GlJQCW6tWrl0aMGKERI0YoLCxMERERmjhxosr+HysuLk5PP/207r33XjkcDg0dOrTCS0vbtm1Tv3795HA41KBBA11zzTXas2ePu/9//ud/1Lp1awUHByshIUFz5sy50C8VQC3gnCwAy73xxhsaMmSINm3apC1btmjo0KGKiYnRAw88IEn6+9//rkmTJmny5MkVPv7gwYO69tpr1atXL61atUoOh0Pr1q3TmTNnJEnvvPOOJk2apJdeekmdOnXSt99+qwceeED169fXoEGDLtjrBFDzuLQEwFK9evVSXl6etm3bJh8fH0nSY489piVLlmj79u2Ki4tTp06d9OGHH7ofs2/fPsXHx+vbb79Vx44d9fjjj2vRokXKyspSQEBAuedo0aKFnn76aQ0YMMDd9swzz2jp0qX6+uuva/9FAqg1XFoCYLlu3bq5Q4wkJSYmateuXSopKZEkdenS5ZyPz8jI0DXXXFNhiDlx4oT27NmjIUOGKDQ01L0988wzHpeeANgTl5YAeL369eufsz8kJOSsfcePH5ckvfrqq+ratatHn5+f3+8vDoClCDIALLdx40aP/Q0bNqhly5aVDhodOnTQG2+8oeLi4nJnZZxOp6Kjo/Xjjz9q4MCBNVYzAO/ApSUAlsvOzta4ceOUlZWld999V7Nnz9bo0aMr/fgRI0bI5XKpf//+2rJli3bt2qW33npLWVlZkqQpU6Zo2rRpmjVrln744Qdt3bpV8+fP1/Tp02vrJQG4QDgjA8By9957r06ePKmrrrpKfn5+Gj16tIYOHVrpxzdu3FirVq3S+PHj1bNnT/n5+aljx47q3r27JOn+++9XvXr19Le//U3jx49X/fr11b59e40ZM6aWXhGAC4W7lgBYqlevXurYsaNmzpxpdSkAbIhLSwAAwLYIMgAAwLa4tAQAAGyLMzIAAMC2CDIAAMC2CDIAAMC2CDIAAMC2CDIAAMC2CDIAAMC2CDIAAMC2CDIAAMC2CDIAAMC2/j9ZUC7hNV+gggAAAABJRU5ErkJggg==",
      "text/plain": [
       "<Figure size 640x480 with 1 Axes>"
      ]
     },
     "metadata": {},
     "output_type": "display_data"
    }
   ],
   "source": [
    "sns.histplot(data = cars, x = 'price').set(title = 'Distribution of List Price')"
   ]
  },
  {
   "cell_type": "code",
   "execution_count": 126,
   "metadata": {
    "scrolled": true
   },
   "outputs": [
    {
     "data": {
      "text/html": [
       "<div>\n",
       "<style scoped>\n",
       "    .dataframe tbody tr th:only-of-type {\n",
       "        vertical-align: middle;\n",
       "    }\n",
       "\n",
       "    .dataframe tbody tr th {\n",
       "        vertical-align: top;\n",
       "    }\n",
       "\n",
       "    .dataframe thead th {\n",
       "        text-align: right;\n",
       "    }\n",
       "</style>\n",
       "<table border=\"1\" class=\"dataframe\">\n",
       "  <thead>\n",
       "    <tr style=\"text-align: right;\">\n",
       "      <th></th>\n",
       "      <th>source</th>\n",
       "      <th>scraper-version</th>\n",
       "      <th>scrape-date</th>\n",
       "      <th>title</th>\n",
       "      <th>price</th>\n",
       "      <th>location</th>\n",
       "      <th>odometer</th>\n",
       "      <th>images/0</th>\n",
       "      <th>year</th>\n",
       "      <th>age</th>\n",
       "    </tr>\n",
       "  </thead>\n",
       "  <tbody>\n",
       "    <tr>\n",
       "      <th>26</th>\n",
       "      <td>facebook</td>\n",
       "      <td>1</td>\n",
       "      <td>2023-11-09</td>\n",
       "      <td>2012 Ford f150 supercrew cab FX4 Pickup 4D 5 1...</td>\n",
       "      <td>-1</td>\n",
       "      <td>Houston, TX</td>\n",
       "      <td>118</td>\n",
       "      <td>https://scontent-dfw5-2.xx.fbcdn.net/v/t39.308...</td>\n",
       "      <td>2012</td>\n",
       "      <td>11</td>\n",
       "    </tr>\n",
       "    <tr>\n",
       "      <th>33</th>\n",
       "      <td>facebook</td>\n",
       "      <td>1</td>\n",
       "      <td>2023-11-09</td>\n",
       "      <td>2016 Ford f-150 XLT Pickup 4x4</td>\n",
       "      <td>-1</td>\n",
       "      <td>Houston, TX</td>\n",
       "      <td>113</td>\n",
       "      <td>https://scontent-dfw5-1.xx.fbcdn.net/v/t39.308...</td>\n",
       "      <td>2016</td>\n",
       "      <td>7</td>\n",
       "    </tr>\n",
       "    <tr>\n",
       "      <th>103</th>\n",
       "      <td>facebook</td>\n",
       "      <td>1</td>\n",
       "      <td>2023-11-09</td>\n",
       "      <td>2014 Chevrolet silverado Z71 LTZ Pickup 4x4</td>\n",
       "      <td>-1</td>\n",
       "      <td>Houston, TX</td>\n",
       "      <td>109</td>\n",
       "      <td>https://scontent-dfw5-1.xx.fbcdn.net/v/t39.308...</td>\n",
       "      <td>2014</td>\n",
       "      <td>9</td>\n",
       "    </tr>\n",
       "  </tbody>\n",
       "</table>\n",
       "</div>"
      ],
      "text/plain": [
       "       source  scraper-version scrape-date  \\\n",
       "26   facebook                1  2023-11-09   \n",
       "33   facebook                1  2023-11-09   \n",
       "103  facebook                1  2023-11-09   \n",
       "\n",
       "                                                 title  price     location  \\\n",
       "26   2012 Ford f150 supercrew cab FX4 Pickup 4D 5 1...     -1  Houston, TX   \n",
       "33                      2016 Ford f-150 XLT Pickup 4x4     -1  Houston, TX   \n",
       "103        2014 Chevrolet silverado Z71 LTZ Pickup 4x4     -1  Houston, TX   \n",
       "\n",
       "     odometer                                           images/0  year  age  \n",
       "26        118  https://scontent-dfw5-2.xx.fbcdn.net/v/t39.308...  2012   11  \n",
       "33        113  https://scontent-dfw5-1.xx.fbcdn.net/v/t39.308...  2016    7  \n",
       "103       109  https://scontent-dfw5-1.xx.fbcdn.net/v/t39.308...  2014    9  "
      ]
     },
     "execution_count": 126,
     "metadata": {},
     "output_type": "execute_result"
    }
   ],
   "source": [
    "cars[cars['price'] < 1000]"
   ]
  },
  {
   "cell_type": "code",
   "execution_count": 127,
   "metadata": {},
   "outputs": [],
   "source": [
    "cars = cars[cars.price >= 1000]"
   ]
  },
  {
   "cell_type": "code",
   "execution_count": 128,
   "metadata": {},
   "outputs": [
    {
     "data": {
      "text/plain": [
       "[Text(0.5, 1.0, 'Distribution of List Price')]"
      ]
     },
     "execution_count": 128,
     "metadata": {},
     "output_type": "execute_result"
    },
    {
     "data": {
      "image/png": "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",
      "text/plain": [
       "<Figure size 640x480 with 1 Axes>"
      ]
     },
     "metadata": {},
     "output_type": "display_data"
    }
   ],
   "source": [
    "sns.histplot(data = cars, x = 'price').set(title = 'Distribution of List Price')"
   ]
  },
  {
   "cell_type": "code",
   "execution_count": 129,
   "metadata": {},
   "outputs": [
    {
     "data": {
      "text/plain": [
       "117"
      ]
     },
     "execution_count": 129,
     "metadata": {},
     "output_type": "execute_result"
    }
   ],
   "source": [
    "cars.shape[0]"
   ]
  },
  {
   "cell_type": "code",
   "execution_count": 130,
   "metadata": {
    "scrolled": false
   },
   "outputs": [
    {
     "data": {
      "text/plain": [
       "([0, 1, 2, 3, 4, 5, 6],\n",
       " [Text(0, 0, 'Ram'),\n",
       "  Text(1, 0, 'silverado'),\n",
       "  Text(2, 0, 'OWNER'),\n",
       "  Text(3, 0, 'RAM'),\n",
       "  Text(4, 0, 'Canyon'),\n",
       "  Text(5, 0, 'promaster'),\n",
       "  Text(6, 0, 'SIERRA')])"
      ]
     },
     "execution_count": 130,
     "metadata": {},
     "output_type": "execute_result"
    },
    {
     "data": {
      "image/png": "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",
      "text/plain": [
       "<Figure size 2000x1000 with 1 Axes>"
      ]
     },
     "metadata": {},
     "output_type": "display_data"
    }
   ],
   "source": [
    "# Use regular expressions to extract the manufacturer from 'title'\n",
    "#cars['manufacturer'] = cars['title'].str.extract(r'(\\b\\w+)(?=\\s)')\n",
    "cars['manufacturer'] = cars['title'].str.extract(r'(\\b\\w+)(?=\\s\\d{4})')\n",
    "fig, ax = plt.subplots(figsize=(20, 10))\n",
    "sns.barplot(data = cars, x = 'manufacturer', y = 'price', estimator = np.median, ax = ax).set(title = 'Median List Price by Manufacturer')\n",
    "plt.xticks(rotation = 45)"
   ]
  },
  {
   "cell_type": "code",
   "execution_count": 131,
   "metadata": {
    "scrolled": true
   },
   "outputs": [
    {
     "data": {
      "text/plain": [
       "manufacturer\n",
       "Canyon       45000.0\n",
       "SIERRA       34990.0\n",
       "OWNER        32999.0\n",
       "RAM          32947.5\n",
       "silverado    17250.0\n",
       "Ram           4500.0\n",
       "promaster     2999.0\n",
       "Name: price, dtype: float64"
      ]
     },
     "execution_count": 131,
     "metadata": {},
     "output_type": "execute_result"
    }
   ],
   "source": [
    "cars.groupby(['manufacturer'])['price'].median().sort_values(ascending = False)"
   ]
  },
  {
   "cell_type": "code",
   "execution_count": 132,
   "metadata": {},
   "outputs": [
    {
     "data": {
      "text/plain": [
       "manufacturer\n",
       "OWNER        9\n",
       "RAM          8\n",
       "silverado    6\n",
       "Ram          3\n",
       "Canyon       1\n",
       "promaster    1\n",
       "SIERRA       1\n",
       "Name: count, dtype: int64"
      ]
     },
     "execution_count": 132,
     "metadata": {},
     "output_type": "execute_result"
    }
   ],
   "source": [
    "cars['manufacturer'].value_counts()"
   ]
  },
  {
   "cell_type": "code",
   "execution_count": 137,
   "metadata": {},
   "outputs": [],
   "source": [
    "numeric_columns = ['price', 'year', 'odometer','age']\n",
    "#cars.groupby(['title_status'])[numeric_columns].median()"
   ]
  },
  {
   "cell_type": "markdown",
   "metadata": {},
   "source": [
    "## Modeling"
   ]
  },
  {
   "cell_type": "markdown",
   "metadata": {},
   "source": [
    "### Segmentation"
   ]
  },
  {
   "cell_type": "code",
   "execution_count": 153,
   "metadata": {
    "scrolled": false
   },
   "outputs": [
    {
     "data": {
      "text/html": [
       "<div>\n",
       "<style scoped>\n",
       "    .dataframe tbody tr th:only-of-type {\n",
       "        vertical-align: middle;\n",
       "    }\n",
       "\n",
       "    .dataframe tbody tr th {\n",
       "        vertical-align: top;\n",
       "    }\n",
       "\n",
       "    .dataframe thead th {\n",
       "        text-align: right;\n",
       "    }\n",
       "</style>\n",
       "<table border=\"1\" class=\"dataframe\">\n",
       "  <thead>\n",
       "    <tr style=\"text-align: right;\">\n",
       "      <th></th>\n",
       "      <th>source</th>\n",
       "      <th>scraper-version</th>\n",
       "      <th>scrape-date</th>\n",
       "      <th>title</th>\n",
       "      <th>price</th>\n",
       "      <th>location</th>\n",
       "      <th>odometer</th>\n",
       "      <th>images/0</th>\n",
       "      <th>year</th>\n",
       "      <th>age</th>\n",
       "      <th>manufacturer</th>\n",
       "    </tr>\n",
       "  </thead>\n",
       "  <tbody>\n",
       "    <tr>\n",
       "      <th>0</th>\n",
       "      <td>facebook</td>\n",
       "      <td>1</td>\n",
       "      <td>2023-11-09</td>\n",
       "      <td>2015 Ram 2500 laramie 4x4 diesel</td>\n",
       "      <td>4999</td>\n",
       "      <td>Houston, TX</td>\n",
       "      <td>100</td>\n",
       "      <td>https://scontent-dfw5-1.xx.fbcdn.net/v/t39.308...</td>\n",
       "      <td>2015</td>\n",
       "      <td>8</td>\n",
       "      <td>Ram</td>\n",
       "    </tr>\n",
       "    <tr>\n",
       "      <th>1</th>\n",
       "      <td>facebook</td>\n",
       "      <td>1</td>\n",
       "      <td>2023-11-09</td>\n",
       "      <td>2022 Chevrolet silverado 1500 crew cab RST Pic...</td>\n",
       "      <td>52888</td>\n",
       "      <td>Houston, TX</td>\n",
       "      <td>17</td>\n",
       "      <td>https://scontent-dfw5-1.xx.fbcdn.net/v/t39.308...</td>\n",
       "      <td>2022</td>\n",
       "      <td>1</td>\n",
       "      <td>silverado</td>\n",
       "    </tr>\n",
       "    <tr>\n",
       "      <th>2</th>\n",
       "      <td>facebook</td>\n",
       "      <td>1</td>\n",
       "      <td>2023-11-09</td>\n",
       "      <td>2017 Nissan versa S Sedan 4D</td>\n",
       "      <td>7500</td>\n",
       "      <td>Houston, TX</td>\n",
       "      <td>42</td>\n",
       "      <td>https://scontent-dfw5-2.xx.fbcdn.net/v/t39.308...</td>\n",
       "      <td>2017</td>\n",
       "      <td>6</td>\n",
       "      <td>NaN</td>\n",
       "    </tr>\n",
       "    <tr>\n",
       "      <th>3</th>\n",
       "      <td>facebook</td>\n",
       "      <td>1</td>\n",
       "      <td>2023-11-09</td>\n",
       "      <td>2022 Toyota 4runner TRD Off-Road Premium Sport...</td>\n",
       "      <td>43602</td>\n",
       "      <td>Houston, TX</td>\n",
       "      <td>19</td>\n",
       "      <td>https://scontent-dfw5-2.xx.fbcdn.net/v/t39.308...</td>\n",
       "      <td>2022</td>\n",
       "      <td>1</td>\n",
       "      <td>NaN</td>\n",
       "    </tr>\n",
       "    <tr>\n",
       "      <th>4</th>\n",
       "      <td>facebook</td>\n",
       "      <td>1</td>\n",
       "      <td>2023-11-09</td>\n",
       "      <td>2022 Ford f250 super duty crew cab Platinum Pi...</td>\n",
       "      <td>79992</td>\n",
       "      <td>Houston, TX</td>\n",
       "      <td>25</td>\n",
       "      <td>https://scontent-dfw5-1.xx.fbcdn.net/v/t39.308...</td>\n",
       "      <td>2022</td>\n",
       "      <td>1</td>\n",
       "      <td>NaN</td>\n",
       "    </tr>\n",
       "  </tbody>\n",
       "</table>\n",
       "</div>"
      ],
      "text/plain": [
       "     source  scraper-version scrape-date  \\\n",
       "0  facebook                1  2023-11-09   \n",
       "1  facebook                1  2023-11-09   \n",
       "2  facebook                1  2023-11-09   \n",
       "3  facebook                1  2023-11-09   \n",
       "4  facebook                1  2023-11-09   \n",
       "\n",
       "                                               title  price     location  \\\n",
       "0                   2015 Ram 2500 laramie 4x4 diesel   4999  Houston, TX   \n",
       "1  2022 Chevrolet silverado 1500 crew cab RST Pic...  52888  Houston, TX   \n",
       "2                       2017 Nissan versa S Sedan 4D   7500  Houston, TX   \n",
       "3  2022 Toyota 4runner TRD Off-Road Premium Sport...  43602  Houston, TX   \n",
       "4  2022 Ford f250 super duty crew cab Platinum Pi...  79992  Houston, TX   \n",
       "\n",
       "   odometer                                           images/0  year  age  \\\n",
       "0       100  https://scontent-dfw5-1.xx.fbcdn.net/v/t39.308...  2015    8   \n",
       "1        17  https://scontent-dfw5-1.xx.fbcdn.net/v/t39.308...  2022    1   \n",
       "2        42  https://scontent-dfw5-2.xx.fbcdn.net/v/t39.308...  2017    6   \n",
       "3        19  https://scontent-dfw5-2.xx.fbcdn.net/v/t39.308...  2022    1   \n",
       "4        25  https://scontent-dfw5-1.xx.fbcdn.net/v/t39.308...  2022    1   \n",
       "\n",
       "  manufacturer  \n",
       "0          Ram  \n",
       "1    silverado  \n",
       "2          NaN  \n",
       "3          NaN  \n",
       "4          NaN  "
      ]
     },
     "execution_count": 153,
     "metadata": {},
     "output_type": "execute_result"
    }
   ],
   "source": [
    "cars.head()"
   ]
  },
  {
   "cell_type": "code",
   "execution_count": 163,
   "metadata": {},
   "outputs": [
    {
     "name": "stdout",
     "output_type": "stream",
     "text": [
      "              precision    recall  f1-score   support\n",
      "\n",
      "           1       0.00      0.00      0.00       0.0\n",
      "        1500       0.00      0.00      0.00       1.0\n",
      "        1699       0.00      0.00      0.00       1.0\n",
      "        2000       0.00      0.00      0.00       1.0\n",
      "        2150       0.00      0.00      0.00       1.0\n",
      "        2199       0.00      0.00      0.00       1.0\n",
      "        2795       0.00      0.00      0.00       1.0\n",
      "        2999       0.00      0.00      0.00       2.0\n",
      "        4500       0.00      0.00      0.00       1.0\n",
      "        4999       0.00      0.00      0.00       1.0\n",
      "        6500       0.00      0.00      0.00       1.0\n",
      "        6800       0.00      0.00      0.00       1.0\n",
      "        6950       0.00      0.00      0.00       1.0\n",
      "        9800       0.00      0.00      0.00       1.0\n",
      "        9895       0.00      0.00      0.00       1.0\n",
      "       13000       0.00      0.00      0.00       1.0\n",
      "       25995       0.00      0.00      0.00       1.0\n",
      "       27990       0.00      0.00      0.00       1.0\n",
      "       33739       0.00      0.00      0.00       1.0\n",
      "       33885       0.00      0.00      0.00       1.0\n",
      "       38885       0.00      0.00      0.00       1.0\n",
      "       43850       0.00      0.00      0.00       1.0\n",
      "       51000       0.00      0.00      0.00       1.0\n",
      "       79992       0.00      0.00      0.00       1.0\n",
      "\n",
      "    accuracy                           0.00      24.0\n",
      "   macro avg       0.00      0.00      0.00      24.0\n",
      "weighted avg       0.00      0.00      0.00      24.0\n",
      "\n"
     ]
    },
   ],
   "source": [
    "from sklearn.model_selection import train_test_split\n",
    "from sklearn.ensemble import IsolationForest\n",
    "from sklearn.preprocessing import StandardScaler\n",
    "from sklearn.metrics import classification_report\n",
    "\n",
    "features = ['year', 'odometer']\n",
    "target = 'price'\n",
    "data = cars[features + [target]].copy()\n",
    "\n",
    "train_data, test_data = train_test_split(data, test_size=0.2, random_state=42)\n",
    "\n",
    "scaler = StandardScaler()\n",
    "train_data[features] = scaler.fit_transform(train_data[features])\n",
    "test_data[features] = scaler.transform(test_data[features])\n",
    "\n",
    "model = IsolationForest(contamination=0.05, random_state=42)\n",
    "model.fit(train_data[features])\n",
    "\n",
    "test_data['anomaly_score'] = model.decision_function(test_data[features])\n",
    "\n",
    "threshold = -0.2\n",
    "\n",
    "test_data['anomaly'] = test_data['anomaly_score'] < threshold\n",
    "\n",
    "print(classification_report(test_data[target], ~test_data['anomaly']))\n"
   ]
  },
  {
   "cell_type": "code",
   "execution_count": 171,
   "metadata": {},
   "outputs": [
    {
     "name": "stdout",
     "output_type": "stream",
     "text": [
      "    manufacturer                                              model  year  \\\n",
      "0            Ram                        Ram 2500 laramie 4x4 diesel  2015   \n",
      "1      silverado  Chevrolet silverado 1500 crew cab RST Pickup 4...  2022   \n",
      "2            NaN                            Nissan versa S Sedan 4D  2017   \n",
      "3            NaN                             Toyota 4runner TRD Off  2022   \n",
      "4            NaN  Ford f250 super duty crew cab Platinum Pickup ...  2022   \n",
      "..           ...                                                ...   ...   \n",
      "131          NaN                                           Toyota c  2018   \n",
      "132          NaN     Ford f150 supercrew cab Platinum Pickup 4D 5 1  2012   \n",
      "134          NaN                      Chrysler 300 Touring Sedan 4D  2018   \n",
      "135          NaN                         Toyota corolla LE Sedan 4D  2012   \n",
      "136          NaN                                             Ford f  2018   \n",
      "\n",
      "     price kbb_price  price_difference  \n",
      "0     4999      None               NaN  \n",
      "1    52888      None               NaN  \n",
      "2     7500      None               NaN  \n",
      "3    43602      None               NaN  \n",
      "4    79992      None               NaN  \n",
      "..     ...       ...               ...  \n",
      "131   2999      None               NaN  \n",
      "132   2995      None               NaN  \n",
      "134  13800      None               NaN  \n",
      "135   2000      None               NaN  \n",
      "136   3400      None               NaN  \n",
      "\n",
      "[117 rows x 6 columns]\n"
     ]
    }
   ],
   "source": [
    "import requests\n",
    "from bs4 import BeautifulSoup\n",
    "\n",
    "# Function to extract car model from the title\n",
    "def extract_car_model(title):\n",
    "    model_pattern = re.compile(r'\\d{4}\\s([a-zA-Z0-9\\s]+)')\n",
    "    match = model_pattern.search(title)\n",
    "    return match.group(1).strip() if match else None\n",
    "\n",
    "# Apply the function to create a new 'model' column\n",
    "cars['model'] = cars['title'].apply(extract_car_model)\n",
    "\n",
    "# Function to scrape current market price from Kelly Blue Book\n",
    "# Function to scrape current market price from Kelly Blue Book\n",
    "def get_kbb_price(vehicle_make, vehicle_model, vehicle_year):\n",
    "    base_url = 'https://www.kbb.com/'\n",
    "    \n",
    "    # Check if vehicle_make and vehicle_model are not None or float\n",
    "    if isinstance(vehicle_make, str) and isinstance(vehicle_model, str):\n",
    "        search_url = f'{base_url}{vehicle_make.lower()}/{vehicle_model.lower()}/{vehicle_year}/'\n",
    "\n",
    "        try:\n",
    "            response = requests.get(search_url)\n",
    "            soup = BeautifulSoup(response.text, 'html.parser')\n",
    "            # Extract relevant information (adjust based on the actual HTML structure)\n",
    "            kbb_price = soup.find('span', {'class': 'css-x7sd52-Price'})\n",
    "            return kbb_price.text.strip() if kbb_price else None\n",
    "        except Exception as e:\n",
    "            print(f\"Error: {e}\")\n",
    "            return None\n",
    "    else:\n",
    "        return None\n",
    "\n",
    "# Apply the function to the dataset\n",
    "cars['kbb_price'] = cars.apply(lambda row: get_kbb_price(row['manufacturer'], row['model'], row['year']), axis=1)\n",
    "\n",
    "# Compare the actual market price with the dataset\n",
    "cars['price_difference'] = cars['price'] - cars['kbb_price'].astype(float)\n",
    "\n",
    "# Print the results\n",
    "print(cars[['manufacturer', 'model', 'year', 'price', 'kbb_price', 'price_difference']])"
   ]
  }
 ],
 "metadata": {
  "kernelspec": {
   "display_name": "Python 3 (ipykernel)",
   "language": "python",
   "name": "python3"
  },
  "language_info": {
   "codemirror_mode": {
    "name": "ipython",
    "version": 3
   },
   "file_extension": ".py",
   "mimetype": "text/x-python",
   "name": "python",
   "nbconvert_exporter": "python",
   "pygments_lexer": "ipython3",
   "version": "3.11.5"
  }
 },
 "nbformat": 4,
 "nbformat_minor": 4
}
